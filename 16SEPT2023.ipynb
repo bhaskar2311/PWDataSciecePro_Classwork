{
 "cells": [
  {
   "cell_type": "code",
   "execution_count": 4,
   "id": "8fb47cfe-6d48-486e-b283-38fd0e47a131",
   "metadata": {},
   "outputs": [
    {
     "name": "stdout",
     "output_type": "stream",
     "text": [
      "Yes I will be able to buy\n"
     ]
    }
   ],
   "source": [
    "a = 500\n",
    "price = 450\n",
    "if price <= 500:\n",
    "\tprint(\"Yes I will be able to buy\")"
   ]
  },
  {
   "cell_type": "code",
   "execution_count": 19,
   "id": "5be4acd3-dff9-4104-af61-a366e74526be",
   "metadata": {},
   "outputs": [
    {
     "name": "stdout",
     "output_type": "stream",
     "text": [
      "In Budget\n",
      "No Shirt\n"
     ]
    }
   ],
   "source": [
    "a = 500\n",
    "shirt_price = 200\n",
    "pant_price = 500\n",
    "coat_price = 800\n",
    "my_size = 'M'\n",
    "size_store = 'L'\n",
    "\n",
    "if coat_price <= a:\n",
    "\tprint(\"Buy Coat\")\n",
    "elif pant_price <a:\n",
    "    print(\"Buy Pant\")\n",
    "elif shirt_price <a:\n",
    "    print(\"In Budget\")\n",
    "    if my_size==size_store:\n",
    "        print(\"Buy Shirt\")\n",
    "    print(\"No Shirt\")\n",
    "else:\n",
    "    print(\"I will not be able to buy anything\")"
   ]
  },
  {
   "cell_type": "code",
   "execution_count": 33,
   "id": "041c5115-f5de-4e6c-ac55-903306ff91f9",
   "metadata": {},
   "outputs": [
    {
     "name": "stdout",
     "output_type": "stream",
     "text": [
      "In Budget\n",
      "Size Available\n",
      "Buy Shirt\n"
     ]
    }
   ],
   "source": [
    "a = 500\n",
    "shirt_price = 200\n",
    "pant_price = 500\n",
    "coat_price = 800\n",
    "my_size = 'L'\n",
    "size_store = ['L','XL','S','XXL','XXXL']\n",
    "my_color = 'white'\n",
    "store_color = ['white','red','black','blue']\n",
    "\n",
    "\n",
    "if coat_price <= a:\n",
    "\tprint(\"Buy Coat\")\n",
    "elif pant_price <a:\n",
    "    print(\"Buy Pant\")\n",
    "elif shirt_price <a:\n",
    "    print(\"In Budget\")\n",
    "    if my_size in size_store:\n",
    "        print(\"Size Available\")\n",
    "        if my_color in store_color:\n",
    "            print(\"Buy Shirt\")\n",
    "        else:\n",
    "        \tprint(\"No Shirt of my color\")\n",
    "    else:\n",
    "        print(\"No Shirt of my size\")\n",
    "else:\n",
    "    print(\"I will not be able to buy anything\")"
   ]
  },
  {
   "cell_type": "code",
   "execution_count": 37,
   "id": "33d58b1e-1c09-45f1-a18b-9a66ed53a053",
   "metadata": {},
   "outputs": [
    {
     "name": "stdout",
     "output_type": "stream",
     "text": [
      "I will buy the course\n"
     ]
    }
   ],
   "source": [
    "course = ['DSM','DSA','JAVA','BIG DATA','DA']\n",
    "price = 20000\n",
    "mentor = \"Sudhanshu\"\n",
    "\n",
    "if 'DSM' in course and price == 20000 and 'Sudhanshu' == mentor:\n",
    "    print(\"I will buy the course\")"
   ]
  },
  {
   "cell_type": "code",
   "execution_count": 40,
   "id": "27925fc8-a599-4ab2-adb8-ee83dbba1ad4",
   "metadata": {},
   "outputs": [
    {
     "name": "stdout",
     "output_type": "stream",
     "text": [
      "I will try to buy a course\n"
     ]
    }
   ],
   "source": [
    "course_price = 12000\n",
    "\n",
    "if 10000<=course_price<=15000:\n",
    "    print(\"I will try to buy a course\")\n",
    "else:\n",
    "    print(\"Out of my budget\")"
   ]
  },
  {
   "cell_type": "code",
   "execution_count": 45,
   "id": "176e4155-9e8f-4643-9abb-a060c5b8d898",
   "metadata": {},
   "outputs": [
    {
     "name": "stdin",
     "output_type": "stream",
     "text": [
      "Enter the User Name Bhaskar\n",
      "Enter Your Password Bhaskar@123\n"
     ]
    },
    {
     "name": "stdout",
     "output_type": "stream",
     "text": [
      "Logged in successfully\n"
     ]
    }
   ],
   "source": [
    "user_name = \"Bhaskar\"\n",
    "password = \"Bhaskar@123\"\n",
    "\n",
    "if user_name == input(\"Enter the User Name\") and password == input(\"Enter Your Password\"):\n",
    "    print(\"Logged in successfully\")\n",
    "else:\n",
    "    print(\"Enter correct credentials\")"
   ]
  },
  {
   "cell_type": "code",
   "execution_count": 54,
   "id": "b701dd50-850a-4f60-8b14-03c868d14066",
   "metadata": {},
   "outputs": [
    {
     "name": "stdin",
     "output_type": "stream",
     "text": [
      "Enter your registered mobile number 81081\n"
     ]
    },
    {
     "name": "stdout",
     "output_type": "stream",
     "text": [
      "Yes you are a registered user\n"
     ]
    },
    {
     "name": "stdin",
     "output_type": "stream",
     "text": [
      "Enter the OTP 0343\n"
     ]
    },
    {
     "name": "stdout",
     "output_type": "stream",
     "text": [
      "Logged in successfully\n"
     ]
    }
   ],
   "source": [
    "mobile_no = \"81081\"\n",
    "otp = \"0343\"\n",
    "if mobile_no == input(\"Enter your registered mobile number\"):\n",
    "    print(\"Yes you are a registered user\")\n",
    "    if otp == input(\"Enter the OTP\"):\n",
    "        print(\"Logged in successfully\")\n",
    "    else:\n",
    "        print(\"Incorrect OTP\")\n",
    "else:\n",
    "    print(\"You have not entered a valid mobile number\")"
   ]
  },
  {
   "cell_type": "code",
   "execution_count": 55,
   "id": "98c19681-d29f-46d2-aadc-fd56b487be0e",
   "metadata": {},
   "outputs": [
    {
     "name": "stdin",
     "output_type": "stream",
     "text": [
      "Enter your registered mobile number 273942\n"
     ]
    },
    {
     "name": "stdout",
     "output_type": "stream",
     "text": [
      "Yes you are a registered user\n"
     ]
    },
    {
     "name": "stdin",
     "output_type": "stream",
     "text": [
      "Enter the OTP 0343\n"
     ]
    },
    {
     "name": "stdout",
     "output_type": "stream",
     "text": [
      "Logged in successfully\n"
     ]
    }
   ],
   "source": [
    "mobile_no = {\"81081\",\"123456\",\"273942\",\"384783\"}\n",
    "otp = \"0343\"\n",
    "if input(\"Enter your registered mobile number\") in mobile_no:\n",
    "    print(\"Yes you are a registered user\")\n",
    "    if otp == input(\"Enter the OTP\"):\n",
    "        print(\"Logged in successfully\")\n",
    "    else:\n",
    "        print(\"Incorrect OTP\")\n",
    "else:\n",
    "    print(\"You have not entered a valid mobile number\")"
   ]
  },
  {
   "cell_type": "code",
   "execution_count": 66,
   "id": "1a8d5c46-c003-4266-819b-7e68c3c64599",
   "metadata": {},
   "outputs": [
    {
     "name": "stdout",
     "output_type": "stream",
     "text": [
      "User is registered\n",
      "Yes student details are available in DB\n",
      "Course accessed to this user are :  ['dsa', 'dsm', 'big data']\n"
     ]
    }
   ],
   "source": [
    "l=[12,3,3,4,5,6,6]\n",
    "mobile_no = {\"81081\",\"123456\",\"273942\",\"384783\",\"9999\"}\n",
    "stud_no = \"9999\"\n",
    "stud_details = {'mobile_no' : \"9999\",'course' : ['dsa','dsm','big data']}\n",
    "for i in mobile_no:\n",
    "    #print(i)\n",
    "    if i == stud_no:\n",
    "        print(\"User is registered\")\n",
    "        if i == stud_details['mobile_no']:\n",
    "            print(\"Yes student details are available in DB\")\n",
    "            print(\"Course accessed to this user are : \" , stud_details['course'])"
   ]
  },
  {
   "cell_type": "code",
   "execution_count": 71,
   "id": "b92632de-b843-4f45-bcc4-ac1666621b9e",
   "metadata": {},
   "outputs": [
    {
     "name": "stdout",
     "output_type": "stream",
     "text": [
      "Bhaskar\n",
      "Kumbhar\n"
     ]
    }
   ],
   "source": [
    "t = (23,24,25,26,\"Bhaskar\",\"Kumbhar\")\n",
    "\n",
    "for i in t:\n",
    "    if type(i) ==  str:\n",
    "        print(i)"
   ]
  },
  {
   "cell_type": "code",
   "execution_count": 73,
   "id": "f7f73f6e-5cc3-4c73-9f46-4c605cab6971",
   "metadata": {},
   "outputs": [],
   "source": [
    "t = (23,24,25,26,\"Bhaskar\",\"Kumbhar\")\n",
    "l1=[]\n",
    "l2=[]\n",
    "for i in t:\n",
    "    if type(i) ==  int:\n",
    "        l1.append(i)\n",
    "    if type(i) == str:\n",
    "        l2.append(i)"
   ]
  },
  {
   "cell_type": "code",
   "execution_count": 74,
   "id": "f63f90af-6d8b-4e58-a1ba-33c9b86a1751",
   "metadata": {},
   "outputs": [
    {
     "data": {
      "text/plain": [
       "[23, 24, 25, 26]"
      ]
     },
     "execution_count": 74,
     "metadata": {},
     "output_type": "execute_result"
    }
   ],
   "source": [
    "l1"
   ]
  },
  {
   "cell_type": "code",
   "execution_count": 75,
   "id": "875f5c5e-2ded-4276-8548-0596e8524d6a",
   "metadata": {},
   "outputs": [
    {
     "data": {
      "text/plain": [
       "['Bhaskar', 'Kumbhar']"
      ]
     },
     "execution_count": 75,
     "metadata": {},
     "output_type": "execute_result"
    }
   ],
   "source": [
    "l2"
   ]
  },
  {
   "cell_type": "code",
   "execution_count": 76,
   "id": "ff306114-384e-4c58-9cfc-d861b5e0534c",
   "metadata": {},
   "outputs": [],
   "source": [
    "d = {\"name\":\"Bhaskar\",\"age\":23,\"Courses\":[\"DSM\",\"DSA\",\"Python\"]}"
   ]
  },
  {
   "cell_type": "code",
   "execution_count": 97,
   "id": "ced87d80-c25f-4bcb-9a09-d71cfc9fbad7",
   "metadata": {},
   "outputs": [
    {
     "name": "stdout",
     "output_type": "stream",
     "text": [
      "Bhaskar\n",
      "23\n",
      "['DSM', 'DSA', 'Python']\n"
     ]
    }
   ],
   "source": [
    "for i in d.values():\n",
    "    print(i)"
   ]
  },
  {
   "cell_type": "code",
   "execution_count": 98,
   "id": "797e7b8f-e46d-4b47-83c8-74e6f85b0b62",
   "metadata": {},
   "outputs": [
    {
     "name": "stdout",
     "output_type": "stream",
     "text": [
      "['DSM', 'DSA', 'Python']\n"
     ]
    }
   ],
   "source": [
    "for i in d.values():\n",
    "    if type(i)==list:\n",
    "    \tprint(i)"
   ]
  },
  {
   "cell_type": "code",
   "execution_count": 106,
   "id": "52f2fac1-c812-46dc-bfc4-0fd296052efd",
   "metadata": {},
   "outputs": [
    {
     "name": "stdout",
     "output_type": "stream",
     "text": [
      "Yes\n"
     ]
    }
   ],
   "source": [
    "for i in d.values():\n",
    "    if type(i)==list:\n",
    "    \tif 'DSA' in i:\n",
    "            print(\"Yes\")     "
   ]
  },
  {
   "cell_type": "code",
   "execution_count": null,
   "id": "79b40212-3116-41a3-ba22-57c4151699df",
   "metadata": {},
   "outputs": [],
   "source": []
  }
 ],
 "metadata": {
  "kernelspec": {
   "display_name": "Python 3 (ipykernel)",
   "language": "python",
   "name": "python3"
  },
  "language_info": {
   "codemirror_mode": {
    "name": "ipython",
    "version": 3
   },
   "file_extension": ".py",
   "mimetype": "text/x-python",
   "name": "python",
   "nbconvert_exporter": "python",
   "pygments_lexer": "ipython3",
   "version": "3.10.8"
  }
 },
 "nbformat": 4,
 "nbformat_minor": 5
}
