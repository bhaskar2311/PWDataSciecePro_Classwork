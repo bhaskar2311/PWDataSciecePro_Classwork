{
 "cells": [
  {
   "cell_type": "code",
   "execution_count": 1,
   "id": "0f00d675-5e59-45e7-9945-4c4365391a4e",
   "metadata": {},
   "outputs": [],
   "source": [
    "def test4():\n",
    "    return 2,\"Bhaskar\",True,[1,2,3,4,5]"
   ]
  },
  {
   "cell_type": "code",
   "execution_count": 2,
   "id": "eb4b8469-1db4-4a69-98ff-ff84eb564ead",
   "metadata": {},
   "outputs": [
    {
     "data": {
      "text/plain": [
       "(2, 'Bhaskar', True, [1, 2, 3, 4, 5])"
      ]
     },
     "execution_count": 2,
     "metadata": {},
     "output_type": "execute_result"
    }
   ],
   "source": [
    "test4()"
   ]
  },
  {
   "cell_type": "code",
   "execution_count": 3,
   "id": "4ed47238-0f00-46b0-9ab9-080a3bfe6cb2",
   "metadata": {},
   "outputs": [
    {
     "data": {
      "text/plain": [
       "tuple"
      ]
     },
     "execution_count": 3,
     "metadata": {},
     "output_type": "execute_result"
    }
   ],
   "source": [
    "type(test4())"
   ]
  },
  {
   "cell_type": "code",
   "execution_count": 4,
   "id": "fb1514fe-8fc6-458d-b1a6-29ebe63d2808",
   "metadata": {},
   "outputs": [],
   "source": [
    "a,b,c,d=test4()"
   ]
  },
  {
   "cell_type": "code",
   "execution_count": 5,
   "id": "e68e9802-68ad-408a-a229-9713429189d0",
   "metadata": {},
   "outputs": [
    {
     "data": {
      "text/plain": [
       "2"
      ]
     },
     "execution_count": 5,
     "metadata": {},
     "output_type": "execute_result"
    }
   ],
   "source": [
    "a"
   ]
  },
  {
   "cell_type": "code",
   "execution_count": 6,
   "id": "e9ecb6c4-c8db-4013-8d2a-f66cffc3d775",
   "metadata": {},
   "outputs": [
    {
     "data": {
      "text/plain": [
       "'Bhaskar'"
      ]
     },
     "execution_count": 6,
     "metadata": {},
     "output_type": "execute_result"
    }
   ],
   "source": [
    "b"
   ]
  },
  {
   "cell_type": "code",
   "execution_count": 7,
   "id": "c808870d-727d-473e-9451-584f889e4edc",
   "metadata": {},
   "outputs": [
    {
     "data": {
      "text/plain": [
       "True"
      ]
     },
     "execution_count": 7,
     "metadata": {},
     "output_type": "execute_result"
    }
   ],
   "source": [
    "c"
   ]
  },
  {
   "cell_type": "code",
   "execution_count": 8,
   "id": "29ee925c-4f39-4430-8704-55335bb68127",
   "metadata": {},
   "outputs": [
    {
     "data": {
      "text/plain": [
       "[1, 2, 3, 4, 5]"
      ]
     },
     "execution_count": 8,
     "metadata": {},
     "output_type": "execute_result"
    }
   ],
   "source": [
    "d"
   ]
  },
  {
   "cell_type": "code",
   "execution_count": 9,
   "id": "fd87e84f-9028-419c-8ce2-8db3b25302b1",
   "metadata": {},
   "outputs": [],
   "source": [
    "def test(a:int , b:int):\n",
    "    return a,b"
   ]
  },
  {
   "cell_type": "code",
   "execution_count": 10,
   "id": "82af62dc-1d2d-4eac-bc66-5f453b00f51e",
   "metadata": {},
   "outputs": [
    {
     "data": {
      "text/plain": [
       "(1, 2)"
      ]
     },
     "execution_count": 10,
     "metadata": {},
     "output_type": "execute_result"
    }
   ],
   "source": [
    "test(1,2)"
   ]
  },
  {
   "cell_type": "code",
   "execution_count": 12,
   "id": "25341fc8-d227-4f99-8958-e6d355bbe010",
   "metadata": {},
   "outputs": [
    {
     "data": {
      "text/plain": [
       "(2, 'Jsk')"
      ]
     },
     "execution_count": 12,
     "metadata": {},
     "output_type": "execute_result"
    }
   ],
   "source": [
    "test(2,\"Jsk\")"
   ]
  },
  {
   "cell_type": "code",
   "execution_count": 13,
   "id": "e5c9255f-f02c-4b34-b179-2f8391ef4264",
   "metadata": {},
   "outputs": [],
   "source": [
    "def test2(**kwargs):\n",
    "    return kwargs"
   ]
  },
  {
   "cell_type": "code",
   "execution_count": 14,
   "id": "ec45cc9d-f2e7-4e12-b184-2d6c03681151",
   "metadata": {},
   "outputs": [
    {
     "data": {
      "text/plain": [
       "{'a': 4, 'b': 5, 'c': 4}"
      ]
     },
     "execution_count": 14,
     "metadata": {},
     "output_type": "execute_result"
    }
   ],
   "source": [
    "test2(a=4,b=5,c=4)"
   ]
  },
  {
   "cell_type": "code",
   "execution_count": 17,
   "id": "d4ca1342-ed0a-4e8c-a6a1-71dd5aa7c0dc",
   "metadata": {},
   "outputs": [],
   "source": [
    "a,b=10,4"
   ]
  },
  {
   "cell_type": "code",
   "execution_count": 18,
   "id": "b93204c2-0459-4599-9152-518065bb2931",
   "metadata": {},
   "outputs": [],
   "source": [
    "m = lambda a,b : a+b"
   ]
  },
  {
   "cell_type": "code",
   "execution_count": 19,
   "id": "07fecd98-6ab7-491d-b8f4-36fbbff2215c",
   "metadata": {},
   "outputs": [
    {
     "data": {
      "text/plain": [
       "<function __main__.<lambda>(a, b)>"
      ]
     },
     "execution_count": 19,
     "metadata": {},
     "output_type": "execute_result"
    }
   ],
   "source": [
    "m"
   ]
  },
  {
   "cell_type": "code",
   "execution_count": 20,
   "id": "dfe68da3-be8c-435a-a9e0-0a12928dbed2",
   "metadata": {},
   "outputs": [
    {
     "data": {
      "text/plain": [
       "7"
      ]
     },
     "execution_count": 20,
     "metadata": {},
     "output_type": "execute_result"
    }
   ],
   "source": [
    "m(3,4)"
   ]
  },
  {
   "cell_type": "code",
   "execution_count": 21,
   "id": "b9ceb803-8976-425a-88a3-0d14371c6281",
   "metadata": {},
   "outputs": [],
   "source": [
    "even = lambda a : \"Yes\" if a%2==0 else \"No\""
   ]
  },
  {
   "cell_type": "code",
   "execution_count": 22,
   "id": "383d29d7-6c0e-495f-b522-ae8bf7c3c17f",
   "metadata": {},
   "outputs": [
    {
     "data": {
      "text/plain": [
       "'No'"
      ]
     },
     "execution_count": 22,
     "metadata": {},
     "output_type": "execute_result"
    }
   ],
   "source": [
    "even(25)"
   ]
  },
  {
   "cell_type": "code",
   "execution_count": 23,
   "id": "c5f9c34b-9f57-4a7e-b27e-1db721443b73",
   "metadata": {},
   "outputs": [
    {
     "data": {
      "text/plain": [
       "'Yes'"
      ]
     },
     "execution_count": 23,
     "metadata": {},
     "output_type": "execute_result"
    }
   ],
   "source": [
    "even(84)"
   ]
  },
  {
   "cell_type": "code",
   "execution_count": 26,
   "id": "99cf535d-aadf-4b56-b0b8-2612f52d3de1",
   "metadata": {},
   "outputs": [],
   "source": [
    "l = [3,4,5,6,72,4,5,6]\n",
    "min_list = lambda li : min(li)"
   ]
  },
  {
   "cell_type": "code",
   "execution_count": 27,
   "id": "ae039a98-e042-48c0-a482-492d45444b6e",
   "metadata": {},
   "outputs": [
    {
     "data": {
      "text/plain": [
       "3"
      ]
     },
     "execution_count": 27,
     "metadata": {},
     "output_type": "execute_result"
    }
   ],
   "source": [
    "min_list(l)"
   ]
  },
  {
   "cell_type": "code",
   "execution_count": 28,
   "id": "612d7aa1-28fe-4a01-ade3-edecfdadd022",
   "metadata": {},
   "outputs": [],
   "source": [
    "l = [3,4,5,6,7,2,3,34,5,56]"
   ]
  },
  {
   "cell_type": "code",
   "execution_count": 29,
   "id": "5b6f22c1-d50d-4a37-808f-b9d47bdd75b4",
   "metadata": {},
   "outputs": [
    {
     "data": {
      "text/plain": [
       "[3, 5, 7, 3, 5]"
      ]
     },
     "execution_count": 29,
     "metadata": {},
     "output_type": "execute_result"
    }
   ],
   "source": [
    "[i for i in l if i%2!=0]"
   ]
  },
  {
   "cell_type": "code",
   "execution_count": 30,
   "id": "0aee950f-c500-49a1-bc4a-d499deb10130",
   "metadata": {},
   "outputs": [],
   "source": [
    "sum_lambda = lambda b : sum([i for i in l if i%2!=0])"
   ]
  },
  {
   "cell_type": "code",
   "execution_count": 31,
   "id": "cfa3bc91-aba5-45fd-8e6e-d6fbd4327ea8",
   "metadata": {},
   "outputs": [
    {
     "data": {
      "text/plain": [
       "23"
      ]
     },
     "execution_count": 31,
     "metadata": {},
     "output_type": "execute_result"
    }
   ],
   "source": [
    "sum_lambda(l)"
   ]
  },
  {
   "cell_type": "code",
   "execution_count": 32,
   "id": "70322277-3675-47c8-a20c-4910be639c04",
   "metadata": {},
   "outputs": [],
   "source": [
    "fact_num_lambda = lambda n : 1 if n==0 else n*fact_num_lambda(n-1)"
   ]
  },
  {
   "cell_type": "code",
   "execution_count": 33,
   "id": "4d38e6ee-dbe7-4041-bb14-af6a7dbe694b",
   "metadata": {},
   "outputs": [
    {
     "data": {
      "text/plain": [
       "120"
      ]
     },
     "execution_count": 33,
     "metadata": {},
     "output_type": "execute_result"
    }
   ],
   "source": [
    "fact_num_lambda(5)"
   ]
  },
  {
   "cell_type": "code",
   "execution_count": 35,
   "id": "8d3e358e-327d-40cd-9205-58b8ac2cd8df",
   "metadata": {},
   "outputs": [
    {
     "data": {
      "text/plain": [
       "<map at 0x7f064c2ad9f0>"
      ]
     },
     "execution_count": 35,
     "metadata": {},
     "output_type": "execute_result"
    }
   ],
   "source": [
    "map(lambda a: a+2,l)"
   ]
  },
  {
   "cell_type": "code",
   "execution_count": 36,
   "id": "5f7e6c59-d09c-4981-a779-24c36c7343ba",
   "metadata": {},
   "outputs": [
    {
     "data": {
      "text/plain": [
       "[5, 6, 7, 8, 9, 4, 5, 36, 7, 58]"
      ]
     },
     "execution_count": 36,
     "metadata": {},
     "output_type": "execute_result"
    }
   ],
   "source": [
    "list(map(lambda a: a+2,l))"
   ]
  },
  {
   "cell_type": "code",
   "execution_count": 37,
   "id": "e6582664-0f66-4e07-9687-043d3a0bac2f",
   "metadata": {},
   "outputs": [],
   "source": [
    "lis=[\"Bhaskar\",\"Kumbhar\",\"23\"]"
   ]
  },
  {
   "cell_type": "code",
   "execution_count": 38,
   "id": "909a2b26-0a0c-48fe-ae1f-795fa1010dbe",
   "metadata": {},
   "outputs": [
    {
     "data": {
      "text/plain": [
       "[7, 7, 2]"
      ]
     },
     "execution_count": 38,
     "metadata": {},
     "output_type": "execute_result"
    }
   ],
   "source": [
    "list(map(lambda a: len(a), lis))"
   ]
  },
  {
   "cell_type": "code",
   "execution_count": 41,
   "id": "5f1145e0-851c-45d0-b134-ce7f205214a7",
   "metadata": {},
   "outputs": [
    {
     "data": {
      "text/plain": [
       "[7, 7, 2]"
      ]
     },
     "execution_count": 41,
     "metadata": {},
     "output_type": "execute_result"
    }
   ],
   "source": [
    "list(map(len, lis))"
   ]
  },
  {
   "cell_type": "code",
   "execution_count": 45,
   "id": "c0921e0b-3b8f-4dca-8a0a-f68954419145",
   "metadata": {},
   "outputs": [
    {
     "data": {
      "text/plain": [
       "['raksahB', 'rahbmuK', '32']"
      ]
     },
     "execution_count": 45,
     "metadata": {},
     "output_type": "execute_result"
    }
   ],
   "source": [
    "list(map(lambda a: a[::-1],lis))"
   ]
  },
  {
   "cell_type": "code",
   "execution_count": 46,
   "id": "f0eff66b-d285-4540-a326-3e1c45a2ae70",
   "metadata": {},
   "outputs": [],
   "source": [
    "l = [2,3,4,5,6,6]\n",
    "from functools import reduce"
   ]
  },
  {
   "cell_type": "code",
   "execution_count": 47,
   "id": "801bafbf-ab85-4db9-8a76-6841bd80de77",
   "metadata": {},
   "outputs": [
    {
     "data": {
      "text/plain": [
       "4320"
      ]
     },
     "execution_count": 47,
     "metadata": {},
     "output_type": "execute_result"
    }
   ],
   "source": [
    "reduce(lambda a,b : a*b , l)"
   ]
  },
  {
   "cell_type": "code",
   "execution_count": 51,
   "id": "709e64fa-10f1-4789-a04c-90b3fc40bc45",
   "metadata": {},
   "outputs": [
    {
     "data": {
      "text/plain": [
       "26"
      ]
     },
     "execution_count": 51,
     "metadata": {},
     "output_type": "execute_result"
    }
   ],
   "source": [
    "reduce(lambda a,b : a+b , l)"
   ]
  },
  {
   "cell_type": "code",
   "execution_count": 53,
   "id": "82ec5187-a792-47b9-87a2-a705e6d91f64",
   "metadata": {},
   "outputs": [
    {
     "data": {
      "text/plain": [
       "6"
      ]
     },
     "execution_count": 53,
     "metadata": {},
     "output_type": "execute_result"
    }
   ],
   "source": [
    "reduce(lambda a,b : a if a>=b else b,l)"
   ]
  },
  {
   "cell_type": "code",
   "execution_count": 54,
   "id": "2c7ef02f-0ddd-4244-bf67-652972a4e7d3",
   "metadata": {},
   "outputs": [
    {
     "data": {
      "text/plain": [
       "2"
      ]
     },
     "execution_count": 54,
     "metadata": {},
     "output_type": "execute_result"
    }
   ],
   "source": [
    "reduce(lambda a,b : a if a<=b else b,l)"
   ]
  },
  {
   "cell_type": "code",
   "execution_count": 57,
   "id": "56197353-e746-4adf-8676-e4d19dc60b8a",
   "metadata": {},
   "outputs": [],
   "source": [
    "number = 5\n",
    "fact = reduce(lambda a,b: a*b, range(1,number+1))"
   ]
  },
  {
   "cell_type": "code",
   "execution_count": 58,
   "id": "16f88874-6859-43f3-a2d6-c4e3f08d64d7",
   "metadata": {},
   "outputs": [
    {
     "data": {
      "text/plain": [
       "120"
      ]
     },
     "execution_count": 58,
     "metadata": {},
     "output_type": "execute_result"
    }
   ],
   "source": [
    "fact"
   ]
  },
  {
   "cell_type": "code",
   "execution_count": 59,
   "id": "0e5a40cc-b4e8-4ca2-9ca0-c35c3feca606",
   "metadata": {},
   "outputs": [],
   "source": [
    "def test(a,b):\n",
    "    return a*b"
   ]
  },
  {
   "cell_type": "code",
   "execution_count": 61,
   "id": "8e82b953-f427-472e-9f51-864e8f4f610f",
   "metadata": {},
   "outputs": [],
   "source": [
    "fact1 = reduce(test,range(1,number+1))"
   ]
  },
  {
   "cell_type": "code",
   "execution_count": 62,
   "id": "8c5ac914-0829-4368-927f-79d4e251094f",
   "metadata": {},
   "outputs": [
    {
     "data": {
      "text/plain": [
       "120"
      ]
     },
     "execution_count": 62,
     "metadata": {},
     "output_type": "execute_result"
    }
   ],
   "source": [
    "fact1"
   ]
  },
  {
   "cell_type": "code",
   "execution_count": 63,
   "id": "9ee266c3-5c86-4cec-8239-b769a8e6516a",
   "metadata": {},
   "outputs": [],
   "source": [
    "l =[2,3,2,1,4]"
   ]
  },
  {
   "cell_type": "code",
   "execution_count": 68,
   "id": "e8b6d73b-ea92-413f-9ce9-6536d64f08ad",
   "metadata": {},
   "outputs": [
    {
     "data": {
      "text/plain": [
       "3"
      ]
     },
     "execution_count": 68,
     "metadata": {},
     "output_type": "execute_result"
    }
   ],
   "source": [
    "reduce(lambda a,b : a*b,[i for i in l if i%2!=0])"
   ]
  },
  {
   "cell_type": "code",
   "execution_count": 67,
   "id": "fca6f16f-b3ac-4c2c-a4c0-adbf8df7f80d",
   "metadata": {},
   "outputs": [
    {
     "data": {
      "text/plain": [
       "16"
      ]
     },
     "execution_count": 67,
     "metadata": {},
     "output_type": "execute_result"
    }
   ],
   "source": [
    "reduce(lambda a,b : a*b,[i for i in l if i%2==0])"
   ]
  },
  {
   "cell_type": "code",
   "execution_count": 69,
   "id": "0bd3215b-b56f-453f-91fd-84e499e693ae",
   "metadata": {},
   "outputs": [],
   "source": [
    "l = [3,4,5,6,76,3,32,2,4,5,5,5]"
   ]
  },
  {
   "cell_type": "code",
   "execution_count": 73,
   "id": "97051171-a78c-4f6c-a7bf-3552058e6244",
   "metadata": {},
   "outputs": [
    {
     "data": {
      "text/plain": [
       "[4, 6, 76, 32, 2, 4]"
      ]
     },
     "execution_count": 73,
     "metadata": {},
     "output_type": "execute_result"
    }
   ],
   "source": [
    "list(filter(lambda a: a%2==0,l))"
   ]
  },
  {
   "cell_type": "code",
   "execution_count": 74,
   "id": "28bd1150-876c-4c24-87af-ca64262aee66",
   "metadata": {},
   "outputs": [],
   "source": [
    "s = \"Pw Skills\""
   ]
  },
  {
   "cell_type": "code",
   "execution_count": 75,
   "id": "7db8c5bb-db7a-452a-80d5-2bcf5e3628ab",
   "metadata": {},
   "outputs": [
    {
     "data": {
      "text/plain": [
       "['w', 'k', 'i', 'l', 'l', 's']"
      ]
     },
     "execution_count": 75,
     "metadata": {},
     "output_type": "execute_result"
    }
   ],
   "source": [
    "list(filter(lambda a: a.islower(), s))"
   ]
  },
  {
   "cell_type": "code",
   "execution_count": 76,
   "id": "24b028dc-b848-4cd6-90b8-c95f648673a6",
   "metadata": {},
   "outputs": [],
   "source": [
    "l = [\"pw\",\"234\",\"Bhaskar\",\"BHAS\"]"
   ]
  },
  {
   "cell_type": "code",
   "execution_count": 81,
   "id": "80716fde-6f50-42c8-b5d0-f0e7466e9556",
   "metadata": {},
   "outputs": [
    {
     "data": {
      "text/plain": [
       "['pw', '234']"
      ]
     },
     "execution_count": 81,
     "metadata": {},
     "output_type": "execute_result"
    }
   ],
   "source": [
    "list(filter(lambda a: len(a)<4 ,l))"
   ]
  },
  {
   "cell_type": "code",
   "execution_count": 83,
   "id": "b7dec60a-3012-4369-b7fd-25bd4d0a39c4",
   "metadata": {},
   "outputs": [
    {
     "data": {
      "text/plain": [
       "['Bhaskar', 'BHAS']"
      ]
     },
     "execution_count": 83,
     "metadata": {},
     "output_type": "execute_result"
    }
   ],
   "source": [
    "list(filter(lambda a: a[0]=='B',l))"
   ]
  },
  {
   "cell_type": "code",
   "execution_count": 86,
   "id": "5feff256-dfea-4297-a945-1e9386ee7d2f",
   "metadata": {},
   "outputs": [],
   "source": [
    "def gen_fib(n):\n",
    "    if n <=1 :\n",
    "        return n\n",
    "    else:\n",
    "        return gen_fib(n-1) + gen_fib(n-2)\n",
    "        "
   ]
  },
  {
   "cell_type": "code",
   "execution_count": 89,
   "id": "47fcaea8-21e3-4b99-938c-c1bb4adb139b",
   "metadata": {},
   "outputs": [
    {
     "data": {
      "text/plain": [
       "55"
      ]
     },
     "execution_count": 89,
     "metadata": {},
     "output_type": "execute_result"
    }
   ],
   "source": [
    "gen_fib(10)"
   ]
  },
  {
   "cell_type": "code",
   "execution_count": 90,
   "id": "73717d94-148d-4139-972f-30037323afa0",
   "metadata": {},
   "outputs": [],
   "source": [
    "def sum_till_n(n):\n",
    "    if n == 1:\n",
    "        return 1\n",
    "    else:\n",
    "        return n+sum_till_n(n-1)"
   ]
  },
  {
   "cell_type": "code",
   "execution_count": 95,
   "id": "752be67b-f8b1-42a6-8661-95112e7c5a5f",
   "metadata": {},
   "outputs": [
    {
     "data": {
      "text/plain": [
       "125250"
      ]
     },
     "execution_count": 95,
     "metadata": {},
     "output_type": "execute_result"
    }
   ],
   "source": [
    "sum_till_n(500)"
   ]
  },
  {
   "cell_type": "code",
   "execution_count": null,
   "id": "12dee27f-7cac-4865-8f5a-fc4ba7dc1cbb",
   "metadata": {},
   "outputs": [],
   "source": []
  }
 ],
 "metadata": {
  "kernelspec": {
   "display_name": "Python 3 (ipykernel)",
   "language": "python",
   "name": "python3"
  },
  "language_info": {
   "codemirror_mode": {
    "name": "ipython",
    "version": 3
   },
   "file_extension": ".py",
   "mimetype": "text/x-python",
   "name": "python",
   "nbconvert_exporter": "python",
   "pygments_lexer": "ipython3",
   "version": "3.10.8"
  }
 },
 "nbformat": 4,
 "nbformat_minor": 5
}
