{
 "cells": [
  {
   "cell_type": "code",
   "execution_count": 2,
   "id": "8ee1e8bf-b72c-46fa-bc5b-8e9611e65bd2",
   "metadata": {},
   "outputs": [
    {
     "name": "stdin",
     "output_type": "stream",
     "text": [
      " Hiiii\n"
     ]
    }
   ],
   "source": [
    "X=input()"
   ]
  },
  {
   "cell_type": "code",
   "execution_count": 4,
   "id": "0fe2b8e9-968c-44c3-913b-9c1f4f5be719",
   "metadata": {},
   "outputs": [
    {
     "name": "stdout",
     "output_type": "stream",
     "text": [
      "Hiiii\n"
     ]
    }
   ],
   "source": [
    "print(X)"
   ]
  },
  {
   "cell_type": "code",
   "execution_count": 5,
   "id": "48169c9d-b89e-40ab-b9dc-6084f3d0266d",
   "metadata": {},
   "outputs": [
    {
     "data": {
      "text/plain": [
       "str"
      ]
     },
     "execution_count": 5,
     "metadata": {},
     "output_type": "execute_result"
    }
   ],
   "source": [
    "type(X)"
   ]
  },
  {
   "cell_type": "code",
   "execution_count": 1,
   "id": "22e76151-9a6c-478e-9e85-f61cf531dcd8",
   "metadata": {},
   "outputs": [
    {
     "name": "stdout",
     "output_type": "stream",
     "text": [
      "hi bhaskar kaise ho?\n"
     ]
    }
   ],
   "source": [
    "x=\"hi\"\n",
    "y=\"bhaskar\"\n",
    "z=\"kaise ho?\"\n",
    "\n",
    "print(f\"{x} {y} {z}\")"
   ]
  },
  {
   "cell_type": "code",
   "execution_count": 17,
   "id": "5cb83fdd-bcaa-429c-8b54-38faf27c7183",
   "metadata": {},
   "outputs": [
    {
     "name": "stdout",
     "output_type": "stream",
     "text": [
      "skills and pw \n"
     ]
    }
   ],
   "source": [
    "print(\"{1} and {0} \".format(\"pw\",\"skills\"))"
   ]
  },
  {
   "cell_type": "code",
   "execution_count": 21,
   "id": "9006bd0f-ea3e-465c-8e57-7178825e481f",
   "metadata": {},
   "outputs": [
    {
     "name": "stdin",
     "output_type": "stream",
     "text": [
      "Enter Name Bhaskar\n"
     ]
    },
    {
     "name": "stdout",
     "output_type": "stream",
     "text": [
      "!Bhaskar!\n"
     ]
    }
   ],
   "source": [
    "name=input('Enter Name')\n",
    "z=name\n",
    "y=\"!\" + z + \"!\"\n",
    "print(y)"
   ]
  },
  {
   "cell_type": "code",
   "execution_count": 2,
   "id": "3e928516-b91c-453f-ae11-a212d944101e",
   "metadata": {},
   "outputs": [
    {
     "data": {
      "text/plain": [
       "140689281099184"
      ]
     },
     "execution_count": 2,
     "metadata": {},
     "output_type": "execute_result"
    }
   ],
   "source": [
    "id(x)"
   ]
  },
  {
   "cell_type": "code",
   "execution_count": 9,
   "id": "3cbe79db-93e4-48c0-bde6-c86f922023cf",
   "metadata": {},
   "outputs": [],
   "source": [
    "a = 10\n",
    "b = 11"
   ]
  },
  {
   "cell_type": "code",
   "execution_count": 10,
   "id": "e458aa32-2d13-4885-847c-5f29a8770bcb",
   "metadata": {},
   "outputs": [
    {
     "data": {
      "text/plain": [
       "False"
      ]
     },
     "execution_count": 10,
     "metadata": {},
     "output_type": "execute_result"
    }
   ],
   "source": [
    "a==b"
   ]
  },
  {
   "cell_type": "code",
   "execution_count": 11,
   "id": "1f68b567-01b8-4b98-8141-271fc92dcb99",
   "metadata": {},
   "outputs": [
    {
     "data": {
      "text/plain": [
       "False"
      ]
     },
     "execution_count": 11,
     "metadata": {},
     "output_type": "execute_result"
    }
   ],
   "source": [
    "a is b"
   ]
  },
  {
   "cell_type": "code",
   "execution_count": 12,
   "id": "0318c9bb-5228-4fd9-bfe8-be694c20b8e9",
   "metadata": {},
   "outputs": [
    {
     "data": {
      "text/plain": [
       "140689283138064"
      ]
     },
     "execution_count": 12,
     "metadata": {},
     "output_type": "execute_result"
    }
   ],
   "source": [
    "id(a)"
   ]
  },
  {
   "cell_type": "code",
   "execution_count": 13,
   "id": "1c7a090f-8615-4549-bfa6-0d5fa403ba1e",
   "metadata": {},
   "outputs": [
    {
     "data": {
      "text/plain": [
       "140689283138096"
      ]
     },
     "execution_count": 13,
     "metadata": {},
     "output_type": "execute_result"
    }
   ],
   "source": [
    "id(b)"
   ]
  },
  {
   "cell_type": "code",
   "execution_count": 15,
   "id": "90eb8d05-0669-4b11-83f9-d23ddcf2f520",
   "metadata": {},
   "outputs": [
    {
     "data": {
      "text/plain": [
       "True"
      ]
     },
     "execution_count": 15,
     "metadata": {},
     "output_type": "execute_result"
    }
   ],
   "source": [
    "a!=b"
   ]
  },
  {
   "cell_type": "code",
   "execution_count": 16,
   "id": "840311eb-beb4-42d3-bbba-d8644cc362a2",
   "metadata": {},
   "outputs": [],
   "source": [
    "x = [1,2,3]"
   ]
  },
  {
   "cell_type": "code",
   "execution_count": 17,
   "id": "090c651c-c9b3-43ca-9842-0a99fc1dc0e0",
   "metadata": {},
   "outputs": [],
   "source": [
    "y = [1,2,3]"
   ]
  },
  {
   "cell_type": "code",
   "execution_count": 18,
   "id": "bc520edd-2ab0-4a77-93c9-067c254890c7",
   "metadata": {},
   "outputs": [
    {
     "data": {
      "text/plain": [
       "140689174013760"
      ]
     },
     "execution_count": 18,
     "metadata": {},
     "output_type": "execute_result"
    }
   ],
   "source": [
    "id(x)"
   ]
  },
  {
   "cell_type": "code",
   "execution_count": 19,
   "id": "8eef7f1e-3baa-45d4-8789-06590e8ceac8",
   "metadata": {},
   "outputs": [
    {
     "data": {
      "text/plain": [
       "140689174012416"
      ]
     },
     "execution_count": 19,
     "metadata": {},
     "output_type": "execute_result"
    }
   ],
   "source": [
    "id(y)"
   ]
  },
  {
   "cell_type": "code",
   "execution_count": 20,
   "id": "45f4a8ad-0296-4a88-940b-ef79d2d7f605",
   "metadata": {},
   "outputs": [
    {
     "data": {
      "text/plain": [
       "True"
      ]
     },
     "execution_count": 20,
     "metadata": {},
     "output_type": "execute_result"
    }
   ],
   "source": [
    "x==y"
   ]
  },
  {
   "cell_type": "code",
   "execution_count": 21,
   "id": "a6249f3b-4e96-447d-9b8f-47e7e73e0541",
   "metadata": {},
   "outputs": [
    {
     "data": {
      "text/plain": [
       "False"
      ]
     },
     "execution_count": 21,
     "metadata": {},
     "output_type": "execute_result"
    }
   ],
   "source": [
    "x is y"
   ]
  },
  {
   "cell_type": "code",
   "execution_count": 22,
   "id": "0353e35b-8d14-408a-b936-79e7e156e875",
   "metadata": {},
   "outputs": [],
   "source": [
    "z=\"Bhaskar\"\n",
    "v=\"Bhaskar\""
   ]
  },
  {
   "cell_type": "code",
   "execution_count": 23,
   "id": "48f70069-105a-4f68-b923-765d1f48df04",
   "metadata": {},
   "outputs": [
    {
     "data": {
      "text/plain": [
       "True"
      ]
     },
     "execution_count": 23,
     "metadata": {},
     "output_type": "execute_result"
    }
   ],
   "source": [
    "z==v"
   ]
  },
  {
   "cell_type": "code",
   "execution_count": 24,
   "id": "85c95816-55bc-4310-b3db-f1f1441b32ae",
   "metadata": {},
   "outputs": [
    {
     "data": {
      "text/plain": [
       "True"
      ]
     },
     "execution_count": 24,
     "metadata": {},
     "output_type": "execute_result"
    }
   ],
   "source": [
    "z is v"
   ]
  },
  {
   "cell_type": "code",
   "execution_count": 33,
   "id": "ec690318-ea01-4513-a3ce-6c103fc19188",
   "metadata": {},
   "outputs": [
    {
     "name": "stdin",
     "output_type": "stream",
     "text": [
      "Type a number 10\n"
     ]
    },
    {
     "name": "stdout",
     "output_type": "stream",
     "text": [
      "5003154509899970\n"
     ]
    }
   ],
   "source": [
    "Number=int(input(\"Type a number\"))\n",
    "print(3**35//Number)"
   ]
  },
  {
   "cell_type": "code",
   "execution_count": 31,
   "id": "1b1589c2-f2bb-4527-8882-5312840f942a",
   "metadata": {},
   "outputs": [
    {
     "data": {
      "text/plain": [
       "8"
      ]
     },
     "execution_count": 31,
     "metadata": {},
     "output_type": "execute_result"
    }
   ],
   "source": [
    "2**3"
   ]
  },
  {
   "cell_type": "code",
   "execution_count": 32,
   "id": "224aba29-793e-47f9-87e2-5d2a8fd33f3c",
   "metadata": {},
   "outputs": [
    {
     "data": {
      "text/plain": [
       "2.0"
      ]
     },
     "execution_count": 32,
     "metadata": {},
     "output_type": "execute_result"
    }
   ],
   "source": [
    "4**1/2"
   ]
  },
  {
   "cell_type": "code",
   "execution_count": 34,
   "id": "106e7fa4-b4af-4da7-b314-a9f6466bac79",
   "metadata": {},
   "outputs": [],
   "source": [
    "a=10\n",
    "b=5\n"
   ]
  },
  {
   "cell_type": "code",
   "execution_count": 35,
   "id": "9e1a7ac6-77c5-405b-a77f-8cdb87ae2c99",
   "metadata": {},
   "outputs": [
    {
     "data": {
      "text/plain": [
       "'0b1010'"
      ]
     },
     "execution_count": 35,
     "metadata": {},
     "output_type": "execute_result"
    }
   ],
   "source": [
    "bin(a)"
   ]
  },
  {
   "cell_type": "code",
   "execution_count": 36,
   "id": "492cc1b0-737a-4ff1-a5a2-6b02abb77212",
   "metadata": {},
   "outputs": [
    {
     "data": {
      "text/plain": [
       "'0b101'"
      ]
     },
     "execution_count": 36,
     "metadata": {},
     "output_type": "execute_result"
    }
   ],
   "source": [
    "bin(b)"
   ]
  },
  {
   "cell_type": "code",
   "execution_count": 37,
   "id": "265fb817-91d4-47ae-aad2-62e0561319ee",
   "metadata": {},
   "outputs": [
    {
     "data": {
      "text/plain": [
       "0"
      ]
     },
     "execution_count": 37,
     "metadata": {},
     "output_type": "execute_result"
    }
   ],
   "source": [
    "a&b"
   ]
  },
  {
   "cell_type": "code",
   "execution_count": 38,
   "id": "e6a96ace-ae76-4d21-a8e0-95ef66ff5add",
   "metadata": {},
   "outputs": [
    {
     "data": {
      "text/plain": [
       "15"
      ]
     },
     "execution_count": 38,
     "metadata": {},
     "output_type": "execute_result"
    }
   ],
   "source": [
    "a | b"
   ]
  },
  {
   "cell_type": "code",
   "execution_count": 39,
   "id": "8cc3d4bb-80df-487b-bca7-d0c9859e1b71",
   "metadata": {},
   "outputs": [
    {
     "data": {
      "text/plain": [
       "'0b1111'"
      ]
     },
     "execution_count": 39,
     "metadata": {},
     "output_type": "execute_result"
    }
   ],
   "source": [
    "bin(a|b)"
   ]
  },
  {
   "cell_type": "code",
   "execution_count": 45,
   "id": "5d7393e2-30e4-46fc-bb3f-fdf283b6ce3a",
   "metadata": {},
   "outputs": [],
   "source": [
    "a = 10"
   ]
  },
  {
   "cell_type": "code",
   "execution_count": 44,
   "id": "b4799118-b6ba-44d7-8447-882e8b3854e6",
   "metadata": {},
   "outputs": [
    {
     "data": {
      "text/plain": [
       "9"
      ]
     },
     "execution_count": 44,
     "metadata": {},
     "output_type": "execute_result"
    }
   ],
   "source": [
    "~a"
   ]
  },
  {
   "cell_type": "code",
   "execution_count": 46,
   "id": "0e9a2331-1edb-48c6-8ebe-3b72ad7c5c24",
   "metadata": {},
   "outputs": [
    {
     "data": {
      "text/plain": [
       "5"
      ]
     },
     "execution_count": 46,
     "metadata": {},
     "output_type": "execute_result"
    }
   ],
   "source": [
    "a >> 1"
   ]
  },
  {
   "cell_type": "code",
   "execution_count": 47,
   "id": "d85e6819-3f22-4d35-b1b7-0faac255d1ad",
   "metadata": {},
   "outputs": [
    {
     "data": {
      "text/plain": [
       "20"
      ]
     },
     "execution_count": 47,
     "metadata": {},
     "output_type": "execute_result"
    }
   ],
   "source": [
    "a<<1"
   ]
  },
  {
   "cell_type": "code",
   "execution_count": 48,
   "id": "8e3d3255-3e8f-4711-9d07-236f3a8744e2",
   "metadata": {},
   "outputs": [
    {
     "data": {
      "text/plain": [
       "40"
      ]
     },
     "execution_count": 48,
     "metadata": {},
     "output_type": "execute_result"
    }
   ],
   "source": [
    "a<<2"
   ]
  },
  {
   "cell_type": "code",
   "execution_count": 49,
   "id": "2b2ad92d-b605-4d19-a350-c8201ea39fae",
   "metadata": {},
   "outputs": [
    {
     "data": {
      "text/plain": [
       "2"
      ]
     },
     "execution_count": 49,
     "metadata": {},
     "output_type": "execute_result"
    }
   ],
   "source": [
    "a>>2"
   ]
  },
  {
   "cell_type": "code",
   "execution_count": 50,
   "id": "8000e433-cd19-4907-8cc0-bd64cd9b1ab0",
   "metadata": {},
   "outputs": [],
   "source": [
    "a=10"
   ]
  },
  {
   "cell_type": "code",
   "execution_count": 51,
   "id": "be811c6f-0454-42ee-aa3d-9d08e1ea1b04",
   "metadata": {},
   "outputs": [
    {
     "ename": "SyntaxError",
     "evalue": "invalid syntax (2489850591.py, line 1)",
     "output_type": "error",
     "traceback": [
      "\u001b[0;36m  Cell \u001b[0;32mIn[51], line 1\u001b[0;36m\u001b[0m\n\u001b[0;31m    a=+\u001b[0m\n\u001b[0m       ^\u001b[0m\n\u001b[0;31mSyntaxError\u001b[0m\u001b[0;31m:\u001b[0m invalid syntax\n"
     ]
    }
   ],
   "source": [
    "a=+"
   ]
  },
  {
   "cell_type": "code",
   "execution_count": 52,
   "id": "490aaf41-fdb5-497d-ac02-02be65692164",
   "metadata": {},
   "outputs": [
    {
     "ename": "SyntaxError",
     "evalue": "invalid syntax (694176313.py, line 1)",
     "output_type": "error",
     "traceback": [
      "\u001b[0;36m  Cell \u001b[0;32mIn[52], line 1\u001b[0;36m\u001b[0m\n\u001b[0;31m    a+=\u001b[0m\n\u001b[0m       ^\u001b[0m\n\u001b[0;31mSyntaxError\u001b[0m\u001b[0;31m:\u001b[0m invalid syntax\n"
     ]
    }
   ],
   "source": [
    "a+="
   ]
  },
  {
   "cell_type": "code",
   "execution_count": 53,
   "id": "476e302d-e35b-4f30-810f-e3d146ce19cd",
   "metadata": {},
   "outputs": [],
   "source": [
    "a+=1"
   ]
  },
  {
   "cell_type": "code",
   "execution_count": 54,
   "id": "909939e3-dd96-4737-b81b-5e9352ecf7cb",
   "metadata": {},
   "outputs": [
    {
     "data": {
      "text/plain": [
       "11"
      ]
     },
     "execution_count": 54,
     "metadata": {},
     "output_type": "execute_result"
    }
   ],
   "source": [
    "a"
   ]
  },
  {
   "cell_type": "code",
   "execution_count": null,
   "id": "656ca0de-4f9b-44e0-a1b9-5f0770118570",
   "metadata": {},
   "outputs": [],
   "source": []
  }
 ],
 "metadata": {
  "kernelspec": {
   "display_name": "Python 3 (ipykernel)",
   "language": "python",
   "name": "python3"
  },
  "language_info": {
   "codemirror_mode": {
    "name": "ipython",
    "version": 3
   },
   "file_extension": ".py",
   "mimetype": "text/x-python",
   "name": "python",
   "nbconvert_exporter": "python",
   "pygments_lexer": "ipython3",
   "version": "3.10.8"
  }
 },
 "nbformat": 4,
 "nbformat_minor": 5
}
