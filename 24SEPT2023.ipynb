{
 "cells": [
  {
   "cell_type": "code",
   "execution_count": 2,
   "id": "cf7f8229-4043-4e8d-8421-5dab7a6b0225",
   "metadata": {},
   "outputs": [
    {
     "data": {
      "text/plain": [
       "7"
      ]
     },
     "execution_count": 2,
     "metadata": {},
     "output_type": "execute_result"
    }
   ],
   "source": [
    "s = \"Bhaskar\"\n",
    "len(s)"
   ]
  },
  {
   "cell_type": "code",
   "execution_count": 3,
   "id": "47c20115-27c0-4077-aeae-4f311fcb4d64",
   "metadata": {},
   "outputs": [],
   "source": [
    "def find_len(s):\n",
    "    if s == \"\":\n",
    "        return 0\n",
    "    else:\n",
    "        return 1 + find_len(s[1:])"
   ]
  },
  {
   "cell_type": "code",
   "execution_count": 4,
   "id": "192f3560-5dae-48a5-a3ae-e1843e7da1db",
   "metadata": {},
   "outputs": [
    {
     "data": {
      "text/plain": [
       "7"
      ]
     },
     "execution_count": 4,
     "metadata": {},
     "output_type": "execute_result"
    }
   ],
   "source": [
    "find_len(s)"
   ]
  },
  {
   "cell_type": "code",
   "execution_count": 7,
   "id": "03dd5b75-6da2-48b1-9aad-547f5d93918e",
   "metadata": {},
   "outputs": [
    {
     "data": {
      "text/plain": [
       "'haskar'"
      ]
     },
     "execution_count": 7,
     "metadata": {},
     "output_type": "execute_result"
    }
   ],
   "source": [
    "s[1:]"
   ]
  },
  {
   "cell_type": "code",
   "execution_count": 9,
   "id": "00b8365f-40a9-4199-9d4b-b009b7ee7662",
   "metadata": {},
   "outputs": [
    {
     "data": {
      "text/plain": [
       "'raksahB'"
      ]
     },
     "execution_count": 9,
     "metadata": {},
     "output_type": "execute_result"
    }
   ],
   "source": [
    "s[::-1]"
   ]
  },
  {
   "cell_type": "code",
   "execution_count": 10,
   "id": "d250e8eb-0641-44f3-9b57-d4920a9867b1",
   "metadata": {},
   "outputs": [],
   "source": [
    "def rev_str(s):\n",
    "    if s == \"\":\n",
    "        return \"\"\n",
    "    else:\n",
    "        return rev_str(s[1:]) + s[0]"
   ]
  },
  {
   "cell_type": "code",
   "execution_count": 11,
   "id": "31cc7f51-a7d6-4b7b-84d2-a74f64304388",
   "metadata": {},
   "outputs": [
    {
     "data": {
      "text/plain": [
       "'raksahB'"
      ]
     },
     "execution_count": 11,
     "metadata": {},
     "output_type": "execute_result"
    }
   ],
   "source": [
    "rev_str(s)"
   ]
  },
  {
   "cell_type": "code",
   "execution_count": 12,
   "id": "f4a82d2c-919a-4ba8-ac51-564caca8f939",
   "metadata": {},
   "outputs": [
    {
     "data": {
      "text/plain": [
       "'s'"
      ]
     },
     "execution_count": 12,
     "metadata": {},
     "output_type": "execute_result"
    }
   ],
   "source": [
    "rev_str(\"s\")"
   ]
  },
  {
   "cell_type": "code",
   "execution_count": 13,
   "id": "51745fec-1a95-4e47-8880-ab0cb6e5d5a0",
   "metadata": {},
   "outputs": [],
   "source": [
    "s = \"abcdabcdaaa\""
   ]
  },
  {
   "cell_type": "code",
   "execution_count": 14,
   "id": "7853be06-e87e-4837-a451-9feff0129bb3",
   "metadata": {},
   "outputs": [],
   "source": [
    "def find_char_count(s,c):\n",
    "    if s == \"\":\n",
    "        return 0\n",
    "    elif s[0] == c:\n",
    "        return 1 + find_char_count(s[1:] , c)\n",
    "        \n",
    "    else:\n",
    "        return find_char_count(s[1:],c)"
   ]
  },
  {
   "cell_type": "code",
   "execution_count": 16,
   "id": "e888a0dc-4ccd-4eb1-9412-0a602bc6852b",
   "metadata": {},
   "outputs": [
    {
     "data": {
      "text/plain": [
       "2"
      ]
     },
     "execution_count": 16,
     "metadata": {},
     "output_type": "execute_result"
    }
   ],
   "source": [
    "find_char_count(s,'b')"
   ]
  },
  {
   "cell_type": "code",
   "execution_count": 17,
   "id": "6ed2b0e0-3e11-495b-87ed-202190665a44",
   "metadata": {},
   "outputs": [],
   "source": [
    "l = [4,5,6,3,4,5,6,6,7]"
   ]
  },
  {
   "cell_type": "code",
   "execution_count": 18,
   "id": "6f35f29c-a8e7-4591-a25f-0459c64fb006",
   "metadata": {},
   "outputs": [],
   "source": [
    "def check_sort_list(l):\n",
    "    if len(l)<=1:\n",
    "        return True\n",
    "    elif l[0]>l[1]:\n",
    "        return False\n",
    "    else:\n",
    "        return check_sort_list(l[1:])\n",
    "        "
   ]
  },
  {
   "cell_type": "code",
   "execution_count": 19,
   "id": "188d2d88-8c4d-41b9-bf80-fe0cbe1055e2",
   "metadata": {},
   "outputs": [
    {
     "data": {
      "text/plain": [
       "False"
      ]
     },
     "execution_count": 19,
     "metadata": {},
     "output_type": "execute_result"
    }
   ],
   "source": [
    "check_sort_list(l)"
   ]
  },
  {
   "cell_type": "code",
   "execution_count": 20,
   "id": "77370a86-065a-4431-90fc-f454548e27a2",
   "metadata": {},
   "outputs": [],
   "source": [
    "ll=[1,2,3,4,5,6,7]"
   ]
  },
  {
   "cell_type": "code",
   "execution_count": 21,
   "id": "af4f52ac-796f-45b7-a560-6e2f955b170a",
   "metadata": {},
   "outputs": [
    {
     "data": {
      "text/plain": [
       "True"
      ]
     },
     "execution_count": 21,
     "metadata": {},
     "output_type": "execute_result"
    }
   ],
   "source": [
    "check_sort_list(ll)"
   ]
  },
  {
   "cell_type": "code",
   "execution_count": 22,
   "id": "ea72d4ba-3664-45bf-a59d-ebad4031c40d",
   "metadata": {},
   "outputs": [],
   "source": [
    "def check_perfect_square(n,start = 1):\n",
    "    if n == start**2:\n",
    "        return True\n",
    "    elif n < start**2:\n",
    "        return False\n",
    "    else:\n",
    "        return check_perfect_square(n,start+1)\n",
    "    \n",
    "    "
   ]
  },
  {
   "cell_type": "code",
   "execution_count": 28,
   "id": "06ab22dc-597f-43bb-b17f-717d9211c270",
   "metadata": {},
   "outputs": [
    {
     "data": {
      "text/plain": [
       "True"
      ]
     },
     "execution_count": 28,
     "metadata": {},
     "output_type": "execute_result"
    }
   ],
   "source": [
    "check_perfect_square(64)"
   ]
  },
  {
   "cell_type": "code",
   "execution_count": 26,
   "id": "1684da95-72da-4472-a38f-2fa2c7d51535",
   "metadata": {},
   "outputs": [
    {
     "data": {
      "text/plain": [
       "False"
      ]
     },
     "execution_count": 26,
     "metadata": {},
     "output_type": "execute_result"
    }
   ],
   "source": [
    "check_perfect_square(5)"
   ]
  },
  {
   "cell_type": "code",
   "execution_count": 27,
   "id": "76ed98be-e2b3-41b3-b2ec-b6fe3b12e00a",
   "metadata": {},
   "outputs": [
    {
     "data": {
      "text/plain": [
       "True"
      ]
     },
     "execution_count": 27,
     "metadata": {},
     "output_type": "execute_result"
    }
   ],
   "source": [
    "check_perfect_square(9)"
   ]
  },
  {
   "cell_type": "markdown",
   "id": "6bbf12c6-33e5-44ba-9b8f-9e318af1e0d9",
   "metadata": {},
   "source": [
    "ITERATORS AND ITERABLES"
   ]
  },
  {
   "cell_type": "code",
   "execution_count": 29,
   "id": "468da255-3cf4-4f95-9373-1e37fdf95ec7",
   "metadata": {},
   "outputs": [],
   "source": [
    "l = [2,3,4,5,6]\n",
    "a = 10\n",
    "s = \"bhaskar\""
   ]
  },
  {
   "cell_type": "code",
   "execution_count": 30,
   "id": "71856f44-018c-42c8-a2ed-28fce0f81018",
   "metadata": {},
   "outputs": [
    {
     "data": {
      "text/plain": [
       "<list_iterator at 0x7f355e63eda0>"
      ]
     },
     "execution_count": 30,
     "metadata": {},
     "output_type": "execute_result"
    }
   ],
   "source": [
    "iter(l)"
   ]
  },
  {
   "cell_type": "code",
   "execution_count": 32,
   "id": "ad7b7e75-fd88-4f9b-bd49-0927e6554f13",
   "metadata": {},
   "outputs": [
    {
     "data": {
      "text/plain": [
       "<str_iterator at 0x7f355e63f070>"
      ]
     },
     "execution_count": 32,
     "metadata": {},
     "output_type": "execute_result"
    }
   ],
   "source": [
    "iter(s)"
   ]
  },
  {
   "cell_type": "code",
   "execution_count": 33,
   "id": "f15b4c87-a03a-42ad-b740-10f188ea818c",
   "metadata": {},
   "outputs": [],
   "source": [
    "s1=iter(s)"
   ]
  },
  {
   "cell_type": "code",
   "execution_count": 34,
   "id": "6aeab52c-057e-4300-b635-2cca5617a88f",
   "metadata": {},
   "outputs": [
    {
     "data": {
      "text/plain": [
       "<str_iterator at 0x7f355e63d960>"
      ]
     },
     "execution_count": 34,
     "metadata": {},
     "output_type": "execute_result"
    }
   ],
   "source": [
    "s1"
   ]
  },
  {
   "cell_type": "code",
   "execution_count": 35,
   "id": "cdf8c819-7fbb-423f-95db-5ffc02010720",
   "metadata": {},
   "outputs": [
    {
     "data": {
      "text/plain": [
       "'b'"
      ]
     },
     "execution_count": 35,
     "metadata": {},
     "output_type": "execute_result"
    }
   ],
   "source": [
    "next(s1)"
   ]
  },
  {
   "cell_type": "code",
   "execution_count": 37,
   "id": "802f940d-a0f4-4554-b20e-8d40f47387d1",
   "metadata": {},
   "outputs": [
    {
     "data": {
      "text/plain": [
       "'h'"
      ]
     },
     "execution_count": 37,
     "metadata": {},
     "output_type": "execute_result"
    }
   ],
   "source": [
    "next(s1)"
   ]
  },
  {
   "cell_type": "code",
   "execution_count": 38,
   "id": "e770fcef-a4e0-41e8-baa9-99d30003cbd0",
   "metadata": {},
   "outputs": [
    {
     "data": {
      "text/plain": [
       "'k'"
      ]
     },
     "execution_count": 38,
     "metadata": {},
     "output_type": "execute_result"
    }
   ],
   "source": [
    "next(s1)\n",
    "next(s1)\n",
    "next(s1)"
   ]
  },
  {
   "cell_type": "code",
   "execution_count": 39,
   "id": "2c2d7870-67c4-4dd0-9669-ec9abe17c34e",
   "metadata": {},
   "outputs": [
    {
     "data": {
      "text/plain": [
       "'r'"
      ]
     },
     "execution_count": 39,
     "metadata": {},
     "output_type": "execute_result"
    }
   ],
   "source": [
    "next(s1)\n",
    "next(s1)"
   ]
  },
  {
   "cell_type": "code",
   "execution_count": 40,
   "id": "c0746b4e-6866-49d5-9f63-9a3e64950ff8",
   "metadata": {},
   "outputs": [
    {
     "ename": "StopIteration",
     "evalue": "",
     "output_type": "error",
     "traceback": [
      "\u001b[0;31m---------------------------------------------------------------------------\u001b[0m",
      "\u001b[0;31mStopIteration\u001b[0m                             Traceback (most recent call last)",
      "Cell \u001b[0;32mIn[40], line 1\u001b[0m\n\u001b[0;32m----> 1\u001b[0m \u001b[38;5;28;43mnext\u001b[39;49m\u001b[43m(\u001b[49m\u001b[43ms1\u001b[49m\u001b[43m)\u001b[49m\n",
      "\u001b[0;31mStopIteration\u001b[0m: "
     ]
    }
   ],
   "source": [
    "next(s1)"
   ]
  },
  {
   "cell_type": "markdown",
   "id": "dcb4d7c9-8e7e-4cf4-b7d5-09b692fe5fe0",
   "metadata": {},
   "source": [
    "GENERATOR FUNCTIONS\n",
    "\n",
    "Yield - Generate data give output, better than return if you want to print say 500000000 lines, then it will not store in the console, it will keep producing output"
   ]
  },
  {
   "cell_type": "code",
   "execution_count": 44,
   "id": "9438df08-c3e3-43c3-83d3-25a5723c718b",
   "metadata": {},
   "outputs": [],
   "source": [
    "def count_fun(n):\n",
    "    i = 1\n",
    "    while i<=n:\n",
    "        yield i\n",
    "        i=i+1"
   ]
  },
  {
   "cell_type": "code",
   "execution_count": 45,
   "id": "231bafb8-df88-444f-853e-1869f406c212",
   "metadata": {},
   "outputs": [
    {
     "data": {
      "text/plain": [
       "<generator object count_fun at 0x7f355e67d070>"
      ]
     },
     "execution_count": 45,
     "metadata": {},
     "output_type": "execute_result"
    }
   ],
   "source": [
    "count_fun(9)"
   ]
  },
  {
   "cell_type": "code",
   "execution_count": 46,
   "id": "519c35b8-9d77-4244-8dcc-711b88ed6379",
   "metadata": {},
   "outputs": [
    {
     "data": {
      "text/plain": [
       "[1, 2, 3, 4, 5, 6, 7, 8, 9]"
      ]
     },
     "execution_count": 46,
     "metadata": {},
     "output_type": "execute_result"
    }
   ],
   "source": [
    "list(count_fun(9))"
   ]
  },
  {
   "cell_type": "code",
   "execution_count": 47,
   "id": "07475342-44b9-4897-831e-30799d40a651",
   "metadata": {},
   "outputs": [
    {
     "data": {
      "text/plain": [
       "[]"
      ]
     },
     "execution_count": 47,
     "metadata": {},
     "output_type": "execute_result"
    }
   ],
   "source": [
    "list(count_fun(-3))"
   ]
  },
  {
   "cell_type": "code",
   "execution_count": 51,
   "id": "527b8169-df4e-4f17-a1d3-658565c824bd",
   "metadata": {},
   "outputs": [],
   "source": [
    "def count_fun1(n):\n",
    "    i = 1\n",
    "    l=[]\n",
    "    while i<=n:\n",
    "        l.append(i)\n",
    "        i=i+1\n",
    "    return l"
   ]
  },
  {
   "cell_type": "code",
   "execution_count": 52,
   "id": "67e6eac1-a5a8-4d2c-9439-2f61a7929488",
   "metadata": {},
   "outputs": [
    {
     "data": {
      "text/plain": [
       "[1, 2, 3, 4]"
      ]
     },
     "execution_count": 52,
     "metadata": {},
     "output_type": "execute_result"
    }
   ],
   "source": [
    "count_fun1(4)"
   ]
  },
  {
   "cell_type": "code",
   "execution_count": 57,
   "id": "c9e667bb-b327-473b-bfad-f5f7b328c813",
   "metadata": {},
   "outputs": [
    {
     "name": "stdout",
     "output_type": "stream",
     "text": [
      "1\n",
      "2\n",
      "3\n",
      "4\n",
      "5\n"
     ]
    }
   ],
   "source": [
    "for i in count_fun(5):\n",
    "    print(i)"
   ]
  },
  {
   "cell_type": "code",
   "execution_count": 58,
   "id": "db9169ac-329e-4112-b102-3a9c5d27ef1c",
   "metadata": {},
   "outputs": [],
   "source": [
    "# Fibonacci Series in Generators with yield\n",
    "def fib(n):\n",
    "    a,b=0,1\n",
    "    for i in range(n):\n",
    "        yield a\n",
    "        a,b = b , a+b"
   ]
  },
  {
   "cell_type": "code",
   "execution_count": 68,
   "id": "c6668390-40a3-4477-8c5a-e5fb243fbcef",
   "metadata": {},
   "outputs": [
    {
     "name": "stdout",
     "output_type": "stream",
     "text": [
      "0\n",
      "1\n",
      "1\n",
      "2\n",
      "3\n",
      "5\n",
      "8\n",
      "13\n",
      "21\n",
      "34\n"
     ]
    }
   ],
   "source": [
    "for i in fib(10):\n",
    "    print(i)"
   ]
  },
  {
   "cell_type": "code",
   "execution_count": 69,
   "id": "c3033266-8b23-4f8d-be4b-ec82e0f37541",
   "metadata": {},
   "outputs": [],
   "source": [
    "#READ THE LINES IN THE FILE ONE BY ONE"
   ]
  },
  {
   "cell_type": "code",
   "execution_count": 70,
   "id": "9543dd99-9323-4cf5-bf05-f7f92d5329e6",
   "metadata": {},
   "outputs": [
    {
     "name": "stdout",
     "output_type": "stream",
     "text": [
      "10SEPT2023.ipynb  19AUGUST23.ipynb  24SEPT2023.ipynb  9SEPT2023.ipynb\n",
      "16SEPT2023.ipynb  20AUGUST23.ipynb  2SEPT2023.ipynb   test.txt\n",
      "17SEPT2023.ipynb  23SEPT2023.ipynb  3SEPT2023.ipynb\n"
     ]
    }
   ],
   "source": [
    "ls"
   ]
  },
  {
   "cell_type": "code",
   "execution_count": 71,
   "id": "32e154f3-0321-4588-9318-1535c0295389",
   "metadata": {},
   "outputs": [
    {
     "data": {
      "text/plain": [
       "'/home/jovyan/work'"
      ]
     },
     "execution_count": 71,
     "metadata": {},
     "output_type": "execute_result"
    }
   ],
   "source": [
    "pwd"
   ]
  },
  {
   "cell_type": "code",
   "execution_count": 75,
   "id": "4e26f58f-a5c3-435b-b9b0-763fee459bfd",
   "metadata": {},
   "outputs": [
    {
     "data": {
      "text/plain": [
       "<_io.TextIOWrapper name='test.txt' mode='r' encoding='UTF-8'>"
      ]
     },
     "execution_count": 75,
     "metadata": {},
     "output_type": "execute_result"
    }
   ],
   "source": [
    "open('test.txt')"
   ]
  },
  {
   "cell_type": "code",
   "execution_count": 78,
   "id": "7063a063-35f2-4264-9ca9-464feb226941",
   "metadata": {},
   "outputs": [],
   "source": [
    "#for i in open('test.txt'):\n",
    "#    print (i)"
   ]
  },
  {
   "cell_type": "code",
   "execution_count": 79,
   "id": "6fa83004-a5ed-4ec3-803d-cf4faef37007",
   "metadata": {},
   "outputs": [],
   "source": [
    "def read_file(file_name):\n",
    "    with open(file_name) as file:\n",
    "        for i in file:\n",
    "            yield i\n",
    "        "
   ]
  },
  {
   "cell_type": "code",
   "execution_count": 80,
   "id": "77c29409-be97-483f-ad63-86bfb9684389",
   "metadata": {},
   "outputs": [
    {
     "data": {
      "text/plain": [
       "<generator object read_file at 0x7f355ebb5070>"
      ]
     },
     "execution_count": 80,
     "metadata": {},
     "output_type": "execute_result"
    }
   ],
   "source": [
    "read_file('test.txt')"
   ]
  },
  {
   "cell_type": "code",
   "execution_count": 84,
   "id": "2ee9c18f-4467-41ef-83a5-45c11e3f3cdb",
   "metadata": {},
   "outputs": [],
   "source": [
    "#for i in read_file('test.txt'):\n",
    "#    print (i)"
   ]
  },
  {
   "cell_type": "code",
   "execution_count": null,
   "id": "b0063ecd-c62f-4f19-bbe2-137198fb11c2",
   "metadata": {},
   "outputs": [],
   "source": []
  }
 ],
 "metadata": {
  "kernelspec": {
   "display_name": "Python 3 (ipykernel)",
   "language": "python",
   "name": "python3"
  },
  "language_info": {
   "codemirror_mode": {
    "name": "ipython",
    "version": 3
   },
   "file_extension": ".py",
   "mimetype": "text/x-python",
   "name": "python",
   "nbconvert_exporter": "python",
   "pygments_lexer": "ipython3",
   "version": "3.10.8"
  }
 },
 "nbformat": 4,
 "nbformat_minor": 5
}
