{
 "cells": [
  {
   "cell_type": "code",
   "execution_count": 1,
   "id": "64e4e968-3e1e-4348-a566-cc6d8bfcaa74",
   "metadata": {},
   "outputs": [],
   "source": [
    "text = \" I write code\""
   ]
  },
  {
   "cell_type": "code",
   "execution_count": 2,
   "id": "af90c1d3-73c9-4c94-a6c8-22a0aca948b8",
   "metadata": {},
   "outputs": [
    {
     "data": {
      "text/plain": [
       "' I write code'"
      ]
     },
     "execution_count": 2,
     "metadata": {},
     "output_type": "execute_result"
    }
   ],
   "source": [
    "text"
   ]
  },
  {
   "cell_type": "code",
   "execution_count": 3,
   "id": "3392926f-bd78-4216-abd9-bdafc29a60b9",
   "metadata": {},
   "outputs": [
    {
     "data": {
      "text/plain": [
       "['I', 'write', 'code']"
      ]
     },
     "execution_count": 3,
     "metadata": {},
     "output_type": "execute_result"
    }
   ],
   "source": [
    "text.split()"
   ]
  },
  {
   "cell_type": "code",
   "execution_count": 4,
   "id": "45b7de70-c6ea-4c5d-bdd1-f094fc814ccd",
   "metadata": {},
   "outputs": [
    {
     "name": "stdin",
     "output_type": "stream",
     "text": [
      "Enter a 3 word message Welcome to PWKSILLS\n"
     ]
    }
   ],
   "source": [
    "x = input(\"Enter a 3 word message\")"
   ]
  },
  {
   "cell_type": "code",
   "execution_count": 5,
   "id": "8c09c4ee-93ae-408a-952e-710166d45a18",
   "metadata": {},
   "outputs": [
    {
     "data": {
      "text/plain": [
       "['Welcome', 'to', 'PWKSILLS']"
      ]
     },
     "execution_count": 5,
     "metadata": {},
     "output_type": "execute_result"
    }
   ],
   "source": [
    "x.split()"
   ]
  },
  {
   "cell_type": "code",
   "execution_count": 6,
   "id": "acc704cf-cb9f-4592-b43d-061ed0ba4623",
   "metadata": {},
   "outputs": [],
   "source": [
    "y,w=2,3"
   ]
  },
  {
   "cell_type": "code",
   "execution_count": 7,
   "id": "06a0100f-56c8-420c-a99e-15484e53d598",
   "metadata": {},
   "outputs": [
    {
     "data": {
      "text/plain": [
       "2"
      ]
     },
     "execution_count": 7,
     "metadata": {},
     "output_type": "execute_result"
    }
   ],
   "source": [
    "y"
   ]
  },
  {
   "cell_type": "code",
   "execution_count": 8,
   "id": "b5d816b1-d97a-4245-8a95-3f0d627ce304",
   "metadata": {},
   "outputs": [
    {
     "data": {
      "text/plain": [
       "3"
      ]
     },
     "execution_count": 8,
     "metadata": {},
     "output_type": "execute_result"
    }
   ],
   "source": [
    "w"
   ]
  },
  {
   "cell_type": "code",
   "execution_count": 9,
   "id": "83245e66-fb1d-4776-99b3-c1d218bd1c44",
   "metadata": {},
   "outputs": [],
   "source": [
    "word1,word2,word3=x.split()"
   ]
  },
  {
   "cell_type": "code",
   "execution_count": 10,
   "id": "8c22d85a-9583-4ea8-bd81-e4347ef43d11",
   "metadata": {},
   "outputs": [
    {
     "data": {
      "text/plain": [
       "'Welcome'"
      ]
     },
     "execution_count": 10,
     "metadata": {},
     "output_type": "execute_result"
    }
   ],
   "source": [
    "word1"
   ]
  },
  {
   "cell_type": "code",
   "execution_count": 11,
   "id": "fe73bf63-18bd-4f49-b718-2e04dcc61c7a",
   "metadata": {},
   "outputs": [
    {
     "data": {
      "text/plain": [
       "'to'"
      ]
     },
     "execution_count": 11,
     "metadata": {},
     "output_type": "execute_result"
    }
   ],
   "source": [
    "word2"
   ]
  },
  {
   "cell_type": "code",
   "execution_count": 12,
   "id": "84879bfe-dcf5-4cf2-bc33-f0d9597d4da4",
   "metadata": {},
   "outputs": [
    {
     "data": {
      "text/plain": [
       "'PWKSILLS'"
      ]
     },
     "execution_count": 12,
     "metadata": {},
     "output_type": "execute_result"
    }
   ],
   "source": [
    "word3"
   ]
  },
  {
   "cell_type": "code",
   "execution_count": 13,
   "id": "895f525e-674d-498a-9c82-773eec6ec14d",
   "metadata": {},
   "outputs": [
    {
     "name": "stdin",
     "output_type": "stream",
     "text": [
      "Enter 1st Number 2\n",
      "Enter 2nd Number 4\n"
     ]
    },
    {
     "name": "stdout",
     "output_type": "stream",
     "text": [
      "6\n"
     ]
    }
   ],
   "source": [
    "a=int(input(\"Enter 1st Number\"))\n",
    "b=int(input(\"Enter 2nd Number\"))\n",
    "print(a+b)"
   ]
  },
  {
   "cell_type": "code",
   "execution_count": 16,
   "id": "5acb6522-eff4-4993-89a9-994b8f503422",
   "metadata": {},
   "outputs": [
    {
     "name": "stdin",
     "output_type": "stream",
     "text": [
      "Enter two numbers 2 4\n"
     ]
    },
    {
     "name": "stdout",
     "output_type": "stream",
     "text": [
      "6\n"
     ]
    }
   ],
   "source": [
    "c=input(\"Enter two numbers\")\n",
    "c1,c2=c.split()\n",
    "print(int(c1)+int(c2))\n"
   ]
  },
  {
   "cell_type": "code",
   "execution_count": 22,
   "id": "7ed66aff-e288-4b79-801d-17ee5524bfac",
   "metadata": {},
   "outputs": [
    {
     "name": "stdin",
     "output_type": "stream",
     "text": [
      "Two Numbers 2,3\n"
     ]
    },
    {
     "name": "stdout",
     "output_type": "stream",
     "text": [
      "5\n"
     ]
    }
   ],
   "source": [
    "a,b=input(\"Two Numbers\").split(',')\n",
    "print(int(a)+int(b))"
   ]
  },
  {
   "cell_type": "code",
   "execution_count": 23,
   "id": "8ceaf4f2-dfa8-4b47-b797-819b450cdc79",
   "metadata": {},
   "outputs": [
    {
     "name": "stdout",
     "output_type": "stream",
     "text": [
      "['A', 'B', 'C', 'D', 'E F G H I J K L']\n"
     ]
    }
   ],
   "source": [
    "s1=\"A B C D E F G H I J K L\"\n",
    "print(s1.split(' ',4))"
   ]
  },
  {
   "cell_type": "code",
   "execution_count": 25,
   "id": "b40c2a27-7c38-41ab-8486-c989bbb1baaf",
   "metadata": {},
   "outputs": [
    {
     "name": "stdout",
     "output_type": "stream",
     "text": [
      "['JI', 'HI', 'HI', 'HI']\n"
     ]
    }
   ],
   "source": [
    "s2=\"JI@HI@HI@HI\"\n",
    "print(s2.split('@'))"
   ]
  },
  {
   "cell_type": "code",
   "execution_count": 26,
   "id": "e911ec18-b226-41f2-90c1-f2ee423034e6",
   "metadata": {},
   "outputs": [
    {
     "name": "stdout",
     "output_type": "stream",
     "text": [
      "letter P\n",
      "letter W\n",
      "letter S\n",
      "letter K\n",
      "letter I\n",
      "letter L\n",
      "letter L\n",
      "letter S\n"
     ]
    }
   ],
   "source": [
    "for letter in \"PWSKILLS\":\n",
    "    print('letter', letter)"
   ]
  },
  {
   "cell_type": "code",
   "execution_count": 29,
   "id": "cabaa3d8-b4c4-446a-92d4-d473c773f703",
   "metadata": {},
   "outputs": [
    {
     "name": "stdout",
     "output_type": "stream",
     "text": [
      "letter P\n",
      "letter W\n",
      "letter S\n",
      "letter K\n",
      "letter I\n"
     ]
    }
   ],
   "source": [
    "for letter in \"PWSKILLS\":\n",
    "    if letter == \"L\":\n",
    "        break\n",
    "    print('letter', letter)"
   ]
  },
  {
   "cell_type": "code",
   "execution_count": 30,
   "id": "547627d8-8ed5-4fa0-8c2a-dc4832fd40f7",
   "metadata": {},
   "outputs": [
    {
     "name": "stdout",
     "output_type": "stream",
     "text": [
      "letter P\n",
      "letter W\n",
      "letter S\n",
      "letter K\n",
      "letter I\n",
      "letter S\n"
     ]
    }
   ],
   "source": [
    "for letter in \"PWSKILLS\":\n",
    "    if letter == \"L\":\n",
    "        continue\n",
    "    print('letter', letter)"
   ]
  },
  {
   "cell_type": "code",
   "execution_count": 34,
   "id": "6f41b5e5-c70d-477f-82eb-2147d5556efc",
   "metadata": {},
   "outputs": [
    {
     "name": "stdout",
     "output_type": "stream",
     "text": [
      "Hello"
     ]
    }
   ],
   "source": [
    "s = \"Hello, World\"\n",
    "for char in s:\n",
    "    if char == ',':\n",
    "        break\n",
    "    print(char,end='')    "
   ]
  },
  {
   "cell_type": "code",
   "execution_count": 35,
   "id": "7dad3950-d4d1-4753-8b63-1e7ea7f123f7",
   "metadata": {},
   "outputs": [
    {
     "name": "stdout",
     "output_type": "stream",
     "text": [
      "1\n",
      "3\n",
      "5\n",
      "7\n",
      "9\n"
     ]
    }
   ],
   "source": [
    "for i in range(1,11,2):\n",
    "    print(i)\n",
    "    "
   ]
  },
  {
   "cell_type": "code",
   "execution_count": 37,
   "id": "a2b68036-c37e-4c4e-89f5-87356c9c031f",
   "metadata": {},
   "outputs": [
    {
     "name": "stdout",
     "output_type": "stream",
     "text": [
      "1\n",
      "3\n",
      "5\n",
      "7\n",
      "9\n"
     ]
    }
   ],
   "source": [
    "for i in range(1,11):\n",
    "    if i%2==0:\n",
    "        continue\n",
    "    print(i)"
   ]
  },
  {
   "cell_type": "code",
   "execution_count": 38,
   "id": "3189b02f-ffc4-4272-a435-25cfc2ea6b05",
   "metadata": {},
   "outputs": [
    {
     "name": "stdout",
     "output_type": "stream",
     "text": [
      "1\n",
      "3\n",
      "5\n",
      "7\n",
      "9\n"
     ]
    }
   ],
   "source": [
    "for i in range(1,11):\n",
    "    if i%2!=0:\n",
    "        print(i)\n",
    "    else:\n",
    "        continue"
   ]
  },
  {
   "cell_type": "code",
   "execution_count": 39,
   "id": "a5242e6f-b862-416b-8fe5-7f5a7a41f29c",
   "metadata": {},
   "outputs": [
    {
     "name": "stdout",
     "output_type": "stream",
     "text": [
      "Hello\n"
     ]
    }
   ],
   "source": [
    "n = 10\n",
    "\n",
    "if n > 10:\n",
    "    pass\n",
    "\n",
    "print('Hello')"
   ]
  },
  {
   "cell_type": "code",
   "execution_count": 40,
   "id": "411a385c-bc16-44a1-ae3a-168e3adce61d",
   "metadata": {},
   "outputs": [
    {
     "name": "stdout",
     "output_type": "stream",
     "text": [
      "Hello Bhaskar!!!\n"
     ]
    }
   ],
   "source": [
    "def greet():\n",
    "    print(\"Hello Bhaskar!!!\")\n",
    "    \n",
    "greet()\n",
    "    "
   ]
  },
  {
   "cell_type": "code",
   "execution_count": 41,
   "id": "13ebff06-fbcb-4331-b5b8-dd29ee547c0a",
   "metadata": {},
   "outputs": [
    {
     "name": "stdout",
     "output_type": "stream",
     "text": [
      "Hello Bhaskar!!!\n"
     ]
    }
   ],
   "source": [
    "greet()"
   ]
  },
  {
   "cell_type": "code",
   "execution_count": 42,
   "id": "953addbe-0054-47a0-a88f-6301e976972d",
   "metadata": {},
   "outputs": [],
   "source": [
    "def add(a,b):\n",
    "    return(a+b)"
   ]
  },
  {
   "cell_type": "code",
   "execution_count": 44,
   "id": "2bca5ea7-eb09-4070-88e3-79e4bb736ef9",
   "metadata": {},
   "outputs": [
    {
     "name": "stdin",
     "output_type": "stream",
     "text": [
      "Enter 1st No. 10\n",
      "Enter 2nd No. 12\n"
     ]
    },
    {
     "data": {
      "text/plain": [
       "22"
      ]
     },
     "execution_count": 44,
     "metadata": {},
     "output_type": "execute_result"
    }
   ],
   "source": [
    "a=int(input(\"Enter 1st No.\"))\n",
    "b=int(input(\"Enter 2nd No.\"))\n",
    "add(a,b)"
   ]
  },
  {
   "cell_type": "code",
   "execution_count": 52,
   "id": "6208ac3c-8dce-4d8d-9fc3-9aa5a4d3e143",
   "metadata": {},
   "outputs": [],
   "source": [
    "def changesign(a):\n",
    "    print(a,' ',a*(-1))"
   ]
  },
  {
   "cell_type": "code",
   "execution_count": 54,
   "id": "b7e31e3a-6718-47f6-9367-b45caf65d931",
   "metadata": {},
   "outputs": [
    {
     "name": "stdin",
     "output_type": "stream",
     "text": [
      "Enter a number -10\n"
     ]
    },
    {
     "name": "stdout",
     "output_type": "stream",
     "text": [
      "-10   10\n"
     ]
    }
   ],
   "source": [
    "num=int(input(\"Enter a number\"))\n",
    "changesign(num)"
   ]
  },
  {
   "cell_type": "code",
   "execution_count": null,
   "id": "04120914-7db0-4bf2-87a6-da4ccb5226ea",
   "metadata": {},
   "outputs": [],
   "source": [
    "def absolute(a):\n",
    "    if(a>0):\n",
    "        print(a)\n",
    "    else:\n",
    "        print(-a)"
   ]
  },
  {
   "cell_type": "code",
   "execution_count": null,
   "id": "d0951146-c73c-4bab-a475-38a3881edf19",
   "metadata": {},
   "outputs": [],
   "source": [
    "num=int(input(\"Enter a number\"))\n",
    "absolute(num)"
   ]
  },
  {
   "cell_type": "code",
   "execution_count": 7,
   "id": "126c8f96-2f9e-4508-861d-18ee07779b4b",
   "metadata": {},
   "outputs": [],
   "source": [
    "def fullname(a,b):\n",
    "    c=a+b\n",
    "    return c"
   ]
  },
  {
   "cell_type": "code",
   "execution_count": 8,
   "id": "bed28fc9-756e-4db3-a32b-6b8e14d1a6d4",
   "metadata": {},
   "outputs": [
    {
     "data": {
      "text/plain": [
       "'BhaskarKumbhar'"
      ]
     },
     "execution_count": 8,
     "metadata": {},
     "output_type": "execute_result"
    }
   ],
   "source": [
    "fullname('Bhaskar','Kumbhar')"
   ]
  },
  {
   "cell_type": "code",
   "execution_count": 15,
   "id": "5504f8ca-6dd8-4a75-8364-48e841c1a41e",
   "metadata": {},
   "outputs": [],
   "source": [
    "def areacircle(r):\n",
    "    radius = 3.14*r*r\n",
    "    return radius"
   ]
  },
  {
   "cell_type": "code",
   "execution_count": 17,
   "id": "1281ae31-5cf4-49f2-8989-d1069e672f3f",
   "metadata": {},
   "outputs": [
    {
     "name": "stdin",
     "output_type": "stream",
     "text": [
      "Insert the Radius 10\n"
     ]
    },
    {
     "data": {
      "text/plain": [
       "314.0"
      ]
     },
     "execution_count": 17,
     "metadata": {},
     "output_type": "execute_result"
    }
   ],
   "source": [
    "rad=int(input(\"Insert the Radius\"))\n",
    "areacircle(rad)\n"
   ]
  },
  {
   "cell_type": "code",
   "execution_count": 19,
   "id": "99c8adeb-080c-4af2-be29-9ee4710d6315",
   "metadata": {},
   "outputs": [
    {
     "name": "stdout",
     "output_type": "stream",
     "text": [
      "1\n",
      "2\n",
      "3\n",
      "4\n",
      "5\n"
     ]
    }
   ],
   "source": [
    "for i in range(1,6):\n",
    "    print(i)"
   ]
  },
  {
   "cell_type": "code",
   "execution_count": 23,
   "id": "d562a76b-27a0-4ea3-beef-98bab77f8805",
   "metadata": {},
   "outputs": [
    {
     "name": "stdout",
     "output_type": "stream",
     "text": [
      "*\n",
      "**\n",
      "***\n",
      "****\n",
      "*****\n"
     ]
    }
   ],
   "source": [
    "for i in range(5):\n",
    "    for j in range(i+1):\n",
    "        print('*',end='')\n",
    "    print()"
   ]
  },
  {
   "cell_type": "code",
   "execution_count": 25,
   "id": "5025a290-87b8-4dbb-b135-a17ecb398126",
   "metadata": {},
   "outputs": [
    {
     "name": "stdin",
     "output_type": "stream",
     "text": [
      "Enter a number 4\n"
     ]
    },
    {
     "name": "stdout",
     "output_type": "stream",
     "text": [
      "16\n"
     ]
    }
   ],
   "source": [
    "sqr=int(input(\"Enter a number\"))\n",
    "print(sqr**2)"
   ]
  },
  {
   "cell_type": "code",
   "execution_count": 37,
   "id": "f4820f6a-ddb9-41cc-bcb6-0c4b956b6e9b",
   "metadata": {},
   "outputs": [],
   "source": [
    "def addwords(w1,w2):\n",
    "    print(w1,w2)"
   ]
  },
  {
   "cell_type": "code",
   "execution_count": 38,
   "id": "52c91ff6-41bb-435b-972f-f89fc542d2cd",
   "metadata": {},
   "outputs": [
    {
     "name": "stdin",
     "output_type": "stream",
     "text": [
      "Enter First Word Bhaskar\n",
      "Enter Second Word Kumbhar\n"
     ]
    },
    {
     "name": "stdout",
     "output_type": "stream",
     "text": [
      "Bhaskar Kumbhar\n"
     ]
    }
   ],
   "source": [
    "w1=input(\"Enter First Word\")\n",
    "w2=input(\"Enter Second Word\")\n",
    "addwords(w1,w2)"
   ]
  },
  {
   "cell_type": "code",
   "execution_count": 39,
   "id": "a6990301-3b98-43da-8bab-c7635c69a0a8",
   "metadata": {},
   "outputs": [],
   "source": [
    "def evenrange(s,e):\n",
    "    for i in range(s,e+1):\n",
    "        if i%2==0:\n",
    "            print(i)\n",
    "        else:\n",
    "            continue"
   ]
  },
  {
   "cell_type": "code",
   "execution_count": 42,
   "id": "0e69b534-3bf2-4af3-84d9-c2a701848a21",
   "metadata": {},
   "outputs": [
    {
     "name": "stdin",
     "output_type": "stream",
     "text": [
      "Enter Starting Point 1\n",
      "Enter End Point 10\n"
     ]
    },
    {
     "name": "stdout",
     "output_type": "stream",
     "text": [
      "2\n",
      "4\n",
      "6\n",
      "8\n",
      "10\n"
     ]
    }
   ],
   "source": [
    "start=int(input(\"Enter Starting Point\"))\n",
    "end=int(input(\"Enter End Point\"))\n",
    "evenrange(start,end)"
   ]
  },
  {
   "cell_type": "code",
   "execution_count": 60,
   "id": "2229886f-33e4-4d97-9ec2-084641ba6ae4",
   "metadata": {},
   "outputs": [],
   "source": [
    "def tri(a,b,c):\n",
    "    if(a>=b)&(a>=c):\n",
    "        if(a**2==b**2+c**2):\n",
    "            print(\"Yes\")\n",
    "        else:\n",
    "        \tprint(\"No\")\n",
    "    elif(b>=a)&(b>=c):\n",
    "        if(b**2==a**2+c**2):\n",
    "        \tprint(\"Yes\")\n",
    "        else:\n",
    "       \t\t print(\"No\")\n",
    "    else:\n",
    "        if(c**2==a**2+b**2):\n",
    "        \tprint(\"Yes\")\n",
    "        else:\n",
    "       \t\t print(\"No\")"
   ]
  },
  {
   "cell_type": "code",
   "execution_count": 68,
   "id": "ebb56c9a-0528-4de0-a6ca-f786c3bb329a",
   "metadata": {},
   "outputs": [],
   "source": [
    "def right(a,b,c):\n",
    "    if a**2 == b**2+c**2:\n",
    "        print(\"Yes\")\n",
    "    elif b**2 == a**2+c**2:\n",
    "        print(\"Yes\")\n",
    "    elif c**2 == a**2+b**2:\n",
    "        print(\"Yes\")\n",
    "    else:\n",
    "        print(\"No\")"
   ]
  },
  {
   "cell_type": "code",
   "execution_count": 72,
   "id": "cfa1ccec-f999-41e1-ba2d-555df056b8d2",
   "metadata": {},
   "outputs": [
    {
     "name": "stdin",
     "output_type": "stream",
     "text": [
      "Enter Side 1 4\n",
      "Enter Side 2 5\n",
      "Enter Side 3 5\n"
     ]
    },
    {
     "name": "stdout",
     "output_type": "stream",
     "text": [
      "No\n"
     ]
    }
   ],
   "source": [
    "a=int(input(\"Enter Side 1\"))\n",
    "b=int(input(\"Enter Side 2\"))\n",
    "c=int(input(\"Enter Side 3\"))\n",
    "right(a,b,c)"
   ]
  },
  {
   "cell_type": "code",
   "execution_count": null,
   "id": "b3d9444e-56f9-49e3-839d-196b0e006658",
   "metadata": {},
   "outputs": [],
   "source": []
  },
  {
   "cell_type": "code",
   "execution_count": null,
   "id": "5d9bb01a-40c1-4680-ad5b-cef00cc2503a",
   "metadata": {},
   "outputs": [],
   "source": []
  }
 ],
 "metadata": {
  "kernelspec": {
   "display_name": "Python 3 (ipykernel)",
   "language": "python",
   "name": "python3"
  },
  "language_info": {
   "codemirror_mode": {
    "name": "ipython",
    "version": 3
   },
   "file_extension": ".py",
   "mimetype": "text/x-python",
   "name": "python",
   "nbconvert_exporter": "python",
   "pygments_lexer": "ipython3",
   "version": "3.10.8"
  }
 },
 "nbformat": 4,
 "nbformat_minor": 5
}
