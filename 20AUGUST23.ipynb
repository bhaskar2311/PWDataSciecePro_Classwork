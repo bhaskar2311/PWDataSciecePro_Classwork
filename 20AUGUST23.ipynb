{
 "cells": [
  {
   "cell_type": "code",
   "execution_count": 1,
   "id": "b1ca9906-68d1-444b-bd06-d3016688ed67",
   "metadata": {},
   "outputs": [],
   "source": [
    "list=[1,2,3,'Bhaskar']"
   ]
  },
  {
   "cell_type": "code",
   "execution_count": 2,
   "id": "0a9dab77-6676-49f6-8b3b-7085319d767e",
   "metadata": {},
   "outputs": [
    {
     "data": {
      "text/plain": [
       "[1, 2, 3, 'Bhaskar']"
      ]
     },
     "execution_count": 2,
     "metadata": {},
     "output_type": "execute_result"
    }
   ],
   "source": [
    "list"
   ]
  },
  {
   "cell_type": "code",
   "execution_count": 3,
   "id": "2bdf42d7-a550-4f91-b23f-318db955c6e3",
   "metadata": {},
   "outputs": [
    {
     "data": {
      "text/plain": [
       "'Bhaskar'"
      ]
     },
     "execution_count": 3,
     "metadata": {},
     "output_type": "execute_result"
    }
   ],
   "source": [
    "list[-1]"
   ]
  },
  {
   "cell_type": "code",
   "execution_count": 4,
   "id": "b6768d9e-7907-4ec3-aa17-5812db1cc146",
   "metadata": {},
   "outputs": [
    {
     "data": {
      "text/plain": [
       "'a'"
      ]
     },
     "execution_count": 4,
     "metadata": {},
     "output_type": "execute_result"
    }
   ],
   "source": [
    "list[-1][2]"
   ]
  },
  {
   "cell_type": "code",
   "execution_count": null,
   "id": "cda681a6-ce69-47c0-aef1-f77b5ebbde1c",
   "metadata": {},
   "outputs": [],
   "source": []
  }
 ],
 "metadata": {
  "kernelspec": {
   "display_name": "Python 3 (ipykernel)",
   "language": "python",
   "name": "python3"
  },
  "language_info": {
   "codemirror_mode": {
    "name": "ipython",
    "version": 3
   },
   "file_extension": ".py",
   "mimetype": "text/x-python",
   "name": "python",
   "nbconvert_exporter": "python",
   "pygments_lexer": "ipython3",
   "version": "3.10.8"
  }
 },
 "nbformat": 4,
 "nbformat_minor": 5
}
