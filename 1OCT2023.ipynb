{
 "cells": [
  {
   "cell_type": "code",
   "execution_count": 2,
   "id": "ec584b59-cace-4e0f-b876-f81022421162",
   "metadata": {},
   "outputs": [
    {
     "data": {
      "text/plain": [
       "3"
      ]
     },
     "execution_count": 2,
     "metadata": {},
     "output_type": "execute_result"
    }
   ],
   "source": [
    "1+2"
   ]
  },
  {
   "cell_type": "code",
   "execution_count": 3,
   "id": "daab8abd-7ff3-4999-9e98-5c329d8c23d2",
   "metadata": {},
   "outputs": [],
   "source": [
    "a = 10\n",
    "b = 20\n",
    "c = 50"
   ]
  },
  {
   "cell_type": "code",
   "execution_count": 4,
   "id": "02e4a69d-f2eb-48c7-ad41-4dd958135ef0",
   "metadata": {},
   "outputs": [],
   "source": [
    "s = \"bhaskar\""
   ]
  },
  {
   "cell_type": "code",
   "execution_count": 6,
   "id": "f090a6f1-59f1-45a3-89e4-50d0ff3d6fc8",
   "metadata": {},
   "outputs": [
    {
     "data": {
      "text/plain": [
       "'BHASKAR'"
      ]
     },
     "execution_count": 6,
     "metadata": {},
     "output_type": "execute_result"
    }
   ],
   "source": [
    "s.upper()"
   ]
  },
  {
   "cell_type": "code",
   "execution_count": 1,
   "id": "b39847c2-3eaa-435f-98fb-01c358fd5a7d",
   "metadata": {},
   "outputs": [],
   "source": [
    "class bankaccount:\n",
    "    \n",
    "    def open_account(self, name, email_id):    #Self is reference to the class\n",
    "        print(\"Open an Account by taking Name and Email Id\")\n",
    "        return name+email_id\n",
    "    \n",
    "    def deposite(self, amount):\n",
    "        print(\"I am trying to deposite an amount in my account\")\n",
    "        \n",
    "    def withdrawl(self, amount):\n",
    "        print(\"I am trying to withdrawl an amount from my account\")\n",
    "    \n",
    "    def update_details(self, name_update, email_update):\n",
    "        print(\"This function will update my name and email id of the account\")    "
   ]
  },
  {
   "cell_type": "code",
   "execution_count": 2,
   "id": "5a0a960b-7b90-4436-bb42-74cac4a5a848",
   "metadata": {},
   "outputs": [],
   "source": [
    "bhaskar = bankaccount()\n",
    "#bhaskar is variable of bank account class"
   ]
  },
  {
   "cell_type": "code",
   "execution_count": 3,
   "id": "251a99b3-4336-41aa-844a-f0e0e3fa4df5",
   "metadata": {},
   "outputs": [
    {
     "data": {
      "text/plain": [
       "__main__.bankaccount"
      ]
     },
     "execution_count": 3,
     "metadata": {},
     "output_type": "execute_result"
    }
   ],
   "source": [
    "type(bhaskar)"
   ]
  },
  {
   "cell_type": "code",
   "execution_count": 5,
   "id": "e73cb195-5592-446e-be8a-04d17bdf36b5",
   "metadata": {},
   "outputs": [
    {
     "name": "stdout",
     "output_type": "stream",
     "text": [
      "Open an Account by taking Name and Email Id\n"
     ]
    },
    {
     "data": {
      "text/plain": [
       "'BHASKAR KUMBHARbhaskar@gmail.com'"
      ]
     },
     "execution_count": 5,
     "metadata": {},
     "output_type": "execute_result"
    }
   ],
   "source": [
    "bhaskar.open_account(\"BHASKAR KUMBHAR\",\"bhaskar@gmail.com\")"
   ]
  },
  {
   "cell_type": "code",
   "execution_count": 6,
   "id": "62e7e894-c0ab-4fe1-9e7e-21a447e2854b",
   "metadata": {},
   "outputs": [
    {
     "name": "stdout",
     "output_type": "stream",
     "text": [
      "Open an Account by taking Name and Email Id\n"
     ]
    },
    {
     "data": {
      "text/plain": [
       "'BSKbhaskar@gmail.comm'"
      ]
     },
     "execution_count": 6,
     "metadata": {},
     "output_type": "execute_result"
    }
   ],
   "source": [
    "bankaccount().open_account(\"BSK\",\"bhaskar@gmail.comm\")"
   ]
  },
  {
   "cell_type": "code",
   "execution_count": 7,
   "id": "648c28a2-6e86-4054-9e7d-f70462ecc496",
   "metadata": {},
   "outputs": [
    {
     "name": "stdout",
     "output_type": "stream",
     "text": [
      "I am trying to withdrawl an amount from my account\n"
     ]
    }
   ],
   "source": [
    "bhaskar.withdrawl(1200)"
   ]
  },
  {
   "cell_type": "code",
   "execution_count": 11,
   "id": "9901ea33-34a6-4aa7-abd3-40b6653c4fa6",
   "metadata": {},
   "outputs": [],
   "source": [
    "class list_ops:\n",
    "    \n",
    "    def extract_from_index(self, l , index):\n",
    "        return l[index]\n",
    "    \n",
    "    def extract_range_data(self, l , start , end):\n",
    "        return l[start:end]\n",
    "    \n",
    "    def extract_even(self, l):\n",
    "        l1 = []\n",
    "        for i in l:\n",
    "            if i%2==0:\n",
    "                l1.append(i)\n",
    "        return l1\n",
    "                "
   ]
  },
  {
   "cell_type": "code",
   "execution_count": 9,
   "id": "0f13cde1-8174-4663-89c5-bb2472fd7c02",
   "metadata": {},
   "outputs": [],
   "source": [
    "l = [4,5,6,7,8,9]"
   ]
  },
  {
   "cell_type": "code",
   "execution_count": 43,
   "id": "66e8f5b1-9467-489a-9047-e9359b0939ba",
   "metadata": {},
   "outputs": [],
   "source": [
    "first_obj = list_ops()"
   ]
  },
  {
   "cell_type": "code",
   "execution_count": 27,
   "id": "a6a38e43-a6c0-4a2d-9b19-3fda125700d6",
   "metadata": {},
   "outputs": [
    {
     "data": {
      "text/plain": [
       "5"
      ]
     },
     "execution_count": 27,
     "metadata": {},
     "output_type": "execute_result"
    }
   ],
   "source": [
    "first_obj.extract_from_index(l, 1)"
   ]
  },
  {
   "cell_type": "code",
   "execution_count": 28,
   "id": "3820029f-5cf3-4402-a7a1-be384ac2cda2",
   "metadata": {},
   "outputs": [
    {
     "data": {
      "text/plain": [
       "[5, 6, 7]"
      ]
     },
     "execution_count": 28,
     "metadata": {},
     "output_type": "execute_result"
    }
   ],
   "source": [
    "first_obj.extract_range_data(l , 1, 4)"
   ]
  },
  {
   "cell_type": "code",
   "execution_count": 29,
   "id": "b0c6f15e-1c71-4abf-b234-4dc945ee5e45",
   "metadata": {},
   "outputs": [
    {
     "data": {
      "text/plain": [
       "[4, 6, 8]"
      ]
     },
     "execution_count": 29,
     "metadata": {},
     "output_type": "execute_result"
    }
   ],
   "source": [
    "first_obj.extract_even(l)"
   ]
  },
  {
   "cell_type": "code",
   "execution_count": 22,
   "id": "5ef87d11-ec01-4dd4-a3c0-ae5048791657",
   "metadata": {},
   "outputs": [],
   "source": [
    "class list_ops:\n",
    "    \n",
    "    def extract_from_index(bsk, l , index):\n",
    "        return l[index]\n",
    "    \n",
    "    def extract_range_data(bb, l , start , end):\n",
    "        return l[start:end]\n",
    "    \n",
    "    def extract_even(bsk, l):\n",
    "        l1 = []\n",
    "        for i in l:\n",
    "            if i%2==0:\n",
    "                l1.append(i)\n",
    "        return l1\n",
    "                "
   ]
  },
  {
   "cell_type": "code",
   "execution_count": 26,
   "id": "c0d44045-e8d5-4ba8-ad06-39a5cb50d6c1",
   "metadata": {},
   "outputs": [],
   "source": [
    "class list_ops:\n",
    "        \n",
    "    def extract_from_index(l , index):\n",
    "        return l[index]\n",
    "    \n",
    "    def extract_range_data(l , start , end):\n",
    "        return l[start:end]\n",
    "    \n",
    "    def extract_even(l):\n",
    "        l1 = []\n",
    "        for i in l:\n",
    "            if i%2==0:\n",
    "                l1.append(i)\n",
    "        return l1\n",
    "                "
   ]
  },
  {
   "cell_type": "code",
   "execution_count": 42,
   "id": "a71e4db3-495b-441c-9153-6d50f1867f98",
   "metadata": {},
   "outputs": [],
   "source": [
    "class list_ops:\n",
    "    \n",
    "    a = 10\n",
    "    l = [4,5,6,7,8,9,6,3]\n",
    "    \n",
    "    def extract_from_index(self, l , index):\n",
    "        return l[index]\n",
    "    \n",
    "    def extract_range_data(self, l , start , end):\n",
    "        return l[start:end]\n",
    "    \n",
    "    def extract_even(self, l):\n",
    "        l1 = []\n",
    "        for i in l:\n",
    "            if i%2==0:\n",
    "                l1.append(i)\n",
    "        return l1\n",
    "                "
   ]
  },
  {
   "cell_type": "code",
   "execution_count": 41,
   "id": "4e52378a-7ef4-4e77-94d8-9db915510c6a",
   "metadata": {},
   "outputs": [
    {
     "data": {
      "text/plain": [
       "10"
      ]
     },
     "execution_count": 41,
     "metadata": {},
     "output_type": "execute_result"
    }
   ],
   "source": [
    "first_obj.a"
   ]
  },
  {
   "cell_type": "code",
   "execution_count": 35,
   "id": "3ab86ee2-b2d1-4826-a1f0-06a4fa9e864b",
   "metadata": {},
   "outputs": [],
   "source": [
    "first_obj.a = 20"
   ]
  },
  {
   "cell_type": "code",
   "execution_count": 44,
   "id": "7f42b9ee-5d89-4bb6-a30a-a14333de9dfe",
   "metadata": {},
   "outputs": [
    {
     "data": {
      "text/plain": [
       "[4, 5, 6, 7, 8, 9, 6, 3]"
      ]
     },
     "execution_count": 44,
     "metadata": {},
     "output_type": "execute_result"
    }
   ],
   "source": [
    "first_obj.l"
   ]
  },
  {
   "cell_type": "code",
   "execution_count": 45,
   "id": "cdb10d3d-e88c-43f0-9528-3ee915c0b4d1",
   "metadata": {},
   "outputs": [
    {
     "data": {
      "text/plain": [
       "[4, 6, 8, 6]"
      ]
     },
     "execution_count": 45,
     "metadata": {},
     "output_type": "execute_result"
    }
   ],
   "source": [
    "first_obj.extract_even(first_obj.l)"
   ]
  },
  {
   "cell_type": "code",
   "execution_count": 47,
   "id": "17d0e894-79d3-4ddd-8b89-85d76d2719fe",
   "metadata": {},
   "outputs": [
    {
     "data": {
      "text/plain": [
       "[4, 5, 6, 7, 8, 9, 6, 3]"
      ]
     },
     "execution_count": 47,
     "metadata": {},
     "output_type": "execute_result"
    }
   ],
   "source": [
    "second_obj = list_ops()\n",
    "second_obj.l"
   ]
  },
  {
   "cell_type": "code",
   "execution_count": 48,
   "id": "e6033236-99db-49fa-9dcf-5307043bf9f5",
   "metadata": {},
   "outputs": [
    {
     "data": {
      "text/plain": [
       "[4, 5, 6, 7, 8, 9, 6, 3]"
      ]
     },
     "execution_count": 48,
     "metadata": {},
     "output_type": "execute_result"
    }
   ],
   "source": [
    "third_obj = list_ops()\n",
    "third_obj.l"
   ]
  },
  {
   "cell_type": "code",
   "execution_count": 60,
   "id": "632b4fba-eefa-427d-bb81-947fa0874114",
   "metadata": {},
   "outputs": [],
   "source": [
    "class list_ops:\n",
    "    #a = 10\n",
    "    #l = [4,5,6,7,8,9,6,3]\n",
    "    \n",
    "    def __init__(self, l):\n",
    "        self.l1 = l\n",
    "        self.l2 = 40\n",
    "        self.l3 = \"bhaskar\"\n",
    "        self.l4 = (4,5,6,6,7,8)\n",
    "        self.l5 = {\"key\":\"value\"}\n",
    "        self.l6 = l\n",
    "    \n",
    "    def extract_from_index(self, l , index):\n",
    "        return l[index]\n",
    "    \n",
    "    def extract_range_data(self, l , start , end):\n",
    "        return l[start:end]\n",
    "    \n",
    "    def extract_even(self, l):\n",
    "        l1 = []\n",
    "        for i in l:\n",
    "            if i%2==0:\n",
    "                l1.append(i)\n",
    "        return l1\n",
    "                "
   ]
  },
  {
   "cell_type": "code",
   "execution_count": 61,
   "id": "d253977f-fc04-47a5-af56-f577e5cf29d9",
   "metadata": {},
   "outputs": [],
   "source": [
    "second_obj = list_ops([3,4,5,6,7,8])"
   ]
  },
  {
   "cell_type": "code",
   "execution_count": 62,
   "id": "acf66255-edda-49f1-999a-4d2457bda46c",
   "metadata": {},
   "outputs": [
    {
     "data": {
      "text/plain": [
       "[3, 4, 5, 6, 7, 8]"
      ]
     },
     "execution_count": 62,
     "metadata": {},
     "output_type": "execute_result"
    }
   ],
   "source": [
    "second_obj.l1"
   ]
  },
  {
   "cell_type": "code",
   "execution_count": 59,
   "id": "f93e1f36-84e4-4aa5-b26e-5eafbe688845",
   "metadata": {},
   "outputs": [
    {
     "data": {
      "text/plain": [
       "40"
      ]
     },
     "execution_count": 59,
     "metadata": {},
     "output_type": "execute_result"
    }
   ],
   "source": [
    "second_obj.l2"
   ]
  },
  {
   "cell_type": "code",
   "execution_count": 63,
   "id": "d63e6f6c-a5f6-4625-8602-f841165aa19a",
   "metadata": {},
   "outputs": [
    {
     "data": {
      "text/plain": [
       "[3, 4, 5, 6, 7, 8]"
      ]
     },
     "execution_count": 63,
     "metadata": {},
     "output_type": "execute_result"
    }
   ],
   "source": [
    "second_obj.l6"
   ]
  },
  {
   "cell_type": "code",
   "execution_count": 65,
   "id": "43596d46-23c5-411d-8b96-3fca2a3061e2",
   "metadata": {},
   "outputs": [],
   "source": [
    "class book:\n",
    "    \n",
    "    def __init__(self, name , title, pageNo):\n",
    "        self.name_of_book = name\n",
    "        self.title_of_book = title\n",
    "        self.page_no = pageNo\n",
    "        \n",
    "    def extract_details(self):\n",
    "        print(self.name_of_book , self.title_of_book)\n",
    "        \n",
    "    def print_page_no(self):\n",
    "        print(self.page_no)\n",
    "    \n",
    "    "
   ]
  },
  {
   "cell_type": "code",
   "execution_count": 67,
   "id": "0d7f0dbd-b8d4-468d-b63d-331417904434",
   "metadata": {},
   "outputs": [],
   "source": [
    "bhaskar = book(\"DSA\",\"Practical DSA\",456)\n",
    "xyz = book(\"DS\",\"Implementation of Data Science\" , 345)\n",
    "abc = book(\"Big Data\",\"Implementation of Big Data Analytics\" , 434)"
   ]
  },
  {
   "cell_type": "code",
   "execution_count": 68,
   "id": "09c8aef0-84ac-449f-9210-1dcba1f45c9e",
   "metadata": {},
   "outputs": [
    {
     "name": "stdout",
     "output_type": "stream",
     "text": [
      "DSA Practical DSA\n"
     ]
    }
   ],
   "source": [
    "bhaskar.extract_details()"
   ]
  },
  {
   "cell_type": "code",
   "execution_count": 69,
   "id": "04e4ca3a-77b0-49d3-9e88-de29d76001d7",
   "metadata": {},
   "outputs": [
    {
     "name": "stdout",
     "output_type": "stream",
     "text": [
      "DS Implementation of Data Science\n"
     ]
    }
   ],
   "source": [
    "xyz.extract_details()"
   ]
  },
  {
   "cell_type": "code",
   "execution_count": 70,
   "id": "91b77125-b271-418b-bc47-897029bf5a29",
   "metadata": {},
   "outputs": [
    {
     "name": "stdout",
     "output_type": "stream",
     "text": [
      "Big Data Implementation of Big Data Analytics\n"
     ]
    }
   ],
   "source": [
    "abc.extract_details()"
   ]
  },
  {
   "cell_type": "code",
   "execution_count": 71,
   "id": "f6ebe353-98c9-461b-90d9-799ad2e68080",
   "metadata": {},
   "outputs": [
    {
     "data": {
      "text/plain": [
       "'DSA'"
      ]
     },
     "execution_count": 71,
     "metadata": {},
     "output_type": "execute_result"
    }
   ],
   "source": [
    "bhaskar.name_of_book"
   ]
  },
  {
   "cell_type": "code",
   "execution_count": 72,
   "id": "13b54cf6-eb91-40f6-b138-7b199f191953",
   "metadata": {},
   "outputs": [],
   "source": [
    "class book:\n",
    "    \n",
    "    def __init__(self):\n",
    "        self.name_of_book = \"DSA\"\n",
    "        self.title_of_book = \"Advanced DSA\"\n",
    "        self.page_no = 345\n",
    "        \n",
    "    def extract_details(self):\n",
    "        print(self.name_of_book , self.title_of_book)\n",
    "        \n",
    "    def print_page_no(self):\n",
    "        print(self.page_no)\n",
    "    \n",
    "    "
   ]
  },
  {
   "cell_type": "code",
   "execution_count": 75,
   "id": "c3a7f3c9-0b49-4958-a09b-27676042045f",
   "metadata": {},
   "outputs": [],
   "source": [
    "student1 = book()"
   ]
  },
  {
   "cell_type": "code",
   "execution_count": 76,
   "id": "fe205019-3de6-4d03-aff4-bdec01d05130",
   "metadata": {},
   "outputs": [
    {
     "data": {
      "text/plain": [
       "'DSA'"
      ]
     },
     "execution_count": 76,
     "metadata": {},
     "output_type": "execute_result"
    }
   ],
   "source": [
    "student1.name_of_book"
   ]
  },
  {
   "cell_type": "code",
   "execution_count": 77,
   "id": "11d15579-a5eb-4549-b3f7-386b343e8fa2",
   "metadata": {},
   "outputs": [],
   "source": [
    "student2 = book()"
   ]
  },
  {
   "cell_type": "code",
   "execution_count": 78,
   "id": "f7c8f66d-6ed1-4071-8098-ee822c0842c9",
   "metadata": {},
   "outputs": [
    {
     "data": {
      "text/plain": [
       "'DSA'"
      ]
     },
     "execution_count": 78,
     "metadata": {},
     "output_type": "execute_result"
    }
   ],
   "source": [
    "student2.name_of_book"
   ]
  },
  {
   "cell_type": "code",
   "execution_count": 84,
   "id": "7706c226-593d-4d34-8ac6-69499e7edaa0",
   "metadata": {},
   "outputs": [],
   "source": [
    "class gmail_ops:\n",
    "    def __init__(self,userId,password):\n",
    "        self.user_Id = userId\n",
    "        self.password = password\n",
    "        self.url = \"https://mail.google.com/mail/u/0/#inbox\"\n",
    "        \n",
    "    def login(self):\n",
    "        print(\"Take UserId\" + self.user_Id + \" Take Passowrd\" + self.password + \" Hit Url\" + self.url)\n",
    "        print(\"login\")\n",
    "        \n",
    "    def read_mail(self):\n",
    "        print(\"Read Mail for \" + self.user_Id + \" \" + self.password)\n",
    "        \n",
    "    def reply_mail(self):\n",
    "        print(\"Reply Mail for \" + self.user_Id + \" \" + self.password)"
   ]
  },
  {
   "cell_type": "code",
   "execution_count": 85,
   "id": "d7b2e5f3-060f-4cc3-8b11-13790039aa5a",
   "metadata": {},
   "outputs": [
    {
     "name": "stdout",
     "output_type": "stream",
     "text": [
      "Take UserIduser1 Take Passowrduser1pass Hit Urlhttps://mail.google.com/mail/u/0/#inbox\n",
      "login\n"
     ]
    }
   ],
   "source": [
    "user1 = gmail_ops(\"user1\" , \"user1pass\")\n",
    "user1.login()"
   ]
  },
  {
   "cell_type": "code",
   "execution_count": 86,
   "id": "246bfd1b-175c-4c70-bff6-5cea75adbb58",
   "metadata": {},
   "outputs": [
    {
     "name": "stdout",
     "output_type": "stream",
     "text": [
      "Take UserIduser2 Take Passowrduser2pass Hit Urlhttps://mail.google.com/mail/u/0/#inbox\n",
      "login\n"
     ]
    }
   ],
   "source": [
    "user2 = gmail_ops(\"user2\" , \"user2pass\")\n",
    "user2.login()"
   ]
  },
  {
   "cell_type": "code",
   "execution_count": 95,
   "id": "cc172f85-9ffa-4de7-a940-183ca2ef4121",
   "metadata": {},
   "outputs": [],
   "source": [
    "from functools import reduce\n",
    "\n",
    "class calculator:\n",
    "    \n",
    "    def __init__(self, username):\n",
    "        self.username = username\n",
    "    \n",
    "    def add(self, *args):\n",
    "        return self.username, sum(args)\n",
    "    \n",
    "    def substraction(self , *args):\n",
    "        return self.username, reduce(lambda a,b : a-b , args)\n",
    "    \n",
    "    def mul(self, *args):\n",
    "        return self.username, reduce(lambda a,b : a*b , args)\n",
    "    \n",
    "    def div(self, *args):\n",
    "        return self.username, reduce(lambda a,b : a/b , args)\n",
    "        "
   ]
  },
  {
   "cell_type": "code",
   "execution_count": 96,
   "id": "eeb87e52-8009-42ff-b40b-973b8baae3b6",
   "metadata": {},
   "outputs": [],
   "source": [
    "bhaskar = calculator('bhaskar123')"
   ]
  },
  {
   "cell_type": "code",
   "execution_count": 97,
   "id": "3cce1653-7db1-41c7-b13f-eed3b0ae3723",
   "metadata": {},
   "outputs": [
    {
     "data": {
      "text/plain": [
       "('bhaskar123', 55)"
      ]
     },
     "execution_count": 97,
     "metadata": {},
     "output_type": "execute_result"
    }
   ],
   "source": [
    "bhaskar.add(1,2,3,4,5,6,7,8,9,10)"
   ]
  },
  {
   "cell_type": "code",
   "execution_count": 98,
   "id": "f24beea2-ce32-430d-b636-d7dcf23cb6ef",
   "metadata": {},
   "outputs": [
    {
     "data": {
      "text/plain": [
       "('bhaskar123', -53)"
      ]
     },
     "execution_count": 98,
     "metadata": {},
     "output_type": "execute_result"
    }
   ],
   "source": [
    "bhaskar.substraction(1,2,3,4,5,6,7,8,9,10)"
   ]
  },
  {
   "cell_type": "code",
   "execution_count": 99,
   "id": "f8e9f8b8-c8fb-4e1e-ac71-1c5d4574ee2d",
   "metadata": {},
   "outputs": [
    {
     "data": {
      "text/plain": [
       "('bhaskar123', 3628800)"
      ]
     },
     "execution_count": 99,
     "metadata": {},
     "output_type": "execute_result"
    }
   ],
   "source": [
    "bhaskar.mul(1,2,3,4,5,6,7,8,9,10)"
   ]
  },
  {
   "cell_type": "code",
   "execution_count": 100,
   "id": "4d32f6d7-1a75-47a5-acc7-b4e82c0e1161",
   "metadata": {},
   "outputs": [
    {
     "data": {
      "text/plain": [
       "('bhaskar123', 0.0035714285714285713)"
      ]
     },
     "execution_count": 100,
     "metadata": {},
     "output_type": "execute_result"
    }
   ],
   "source": [
    "bhaskar.div(3,4,5,6,7)"
   ]
  },
  {
   "cell_type": "code",
   "execution_count": null,
   "id": "e06417c2-1765-4572-85ea-0124516a640c",
   "metadata": {},
   "outputs": [],
   "source": []
  }
 ],
 "metadata": {
  "kernelspec": {
   "display_name": "Python 3 (ipykernel)",
   "language": "python",
   "name": "python3"
  },
  "language_info": {
   "codemirror_mode": {
    "name": "ipython",
    "version": 3
   },
   "file_extension": ".py",
   "mimetype": "text/x-python",
   "name": "python",
   "nbconvert_exporter": "python",
   "pygments_lexer": "ipython3",
   "version": "3.10.8"
  }
 },
 "nbformat": 4,
 "nbformat_minor": 5
}
