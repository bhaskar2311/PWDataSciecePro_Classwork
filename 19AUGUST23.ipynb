{
 "cells": [
  {
   "cell_type": "code",
   "execution_count": 1,
   "id": "89bced13-fe4f-4f66-9f4a-c2262a296431",
   "metadata": {},
   "outputs": [
    {
     "data": {
      "text/plain": [
       "3"
      ]
     },
     "execution_count": 1,
     "metadata": {},
     "output_type": "execute_result"
    }
   ],
   "source": [
    "1+2"
   ]
  },
  {
   "cell_type": "code",
   "execution_count": 2,
   "id": "a0d09ae2-b85e-46c7-8fb4-f69fc63c06d1",
   "metadata": {},
   "outputs": [],
   "source": [
    "a = 10"
   ]
  },
  {
   "cell_type": "code",
   "execution_count": 3,
   "id": "f9e96b2b-618c-4989-9cdc-0a20a6e07941",
   "metadata": {},
   "outputs": [
    {
     "data": {
      "text/plain": [
       "10"
      ]
     },
     "execution_count": 3,
     "metadata": {},
     "output_type": "execute_result"
    }
   ],
   "source": [
    "a"
   ]
  },
  {
   "cell_type": "code",
   "execution_count": 4,
   "id": "14941b34-7d04-4e9d-8d5c-d2b6228cbdcc",
   "metadata": {},
   "outputs": [
    {
     "data": {
      "text/plain": [
       "int"
      ]
     },
     "execution_count": 4,
     "metadata": {},
     "output_type": "execute_result"
    }
   ],
   "source": [
    "type(a)"
   ]
  },
  {
   "cell_type": "code",
   "execution_count": 5,
   "id": "ac657d91-f38e-4492-9d8e-499b8a90013c",
   "metadata": {},
   "outputs": [],
   "source": [
    "s = \"pwskills\""
   ]
  },
  {
   "cell_type": "code",
   "execution_count": 6,
   "id": "dbedcf33-24d8-4c5f-8847-9f0d2a88f8e5",
   "metadata": {},
   "outputs": [
    {
     "data": {
      "text/plain": [
       "str"
      ]
     },
     "execution_count": 6,
     "metadata": {},
     "output_type": "execute_result"
    }
   ],
   "source": [
    "type(s)"
   ]
  },
  {
   "cell_type": "code",
   "execution_count": 7,
   "id": "91c7ba12-8774-4dd5-ae99-fc15253ea6c0",
   "metadata": {},
   "outputs": [],
   "source": [
    "c = 5 + 6j"
   ]
  },
  {
   "cell_type": "code",
   "execution_count": 8,
   "id": "5a188b95-b6c9-4cba-9da0-18b1fecd3c34",
   "metadata": {},
   "outputs": [
    {
     "data": {
      "text/plain": [
       "complex"
      ]
     },
     "execution_count": 8,
     "metadata": {},
     "output_type": "execute_result"
    }
   ],
   "source": [
    "type(c)"
   ]
  },
  {
   "cell_type": "code",
   "execution_count": 9,
   "id": "df131adb-b9ab-4386-aff8-4b2e1908ed1a",
   "metadata": {},
   "outputs": [
    {
     "data": {
      "text/plain": [
       "5.0"
      ]
     },
     "execution_count": 9,
     "metadata": {},
     "output_type": "execute_result"
    }
   ],
   "source": [
    "c.real"
   ]
  },
  {
   "cell_type": "code",
   "execution_count": 10,
   "id": "9b3f5eb8-6794-4b1e-a99d-f03264e3c53a",
   "metadata": {},
   "outputs": [
    {
     "data": {
      "text/plain": [
       "6.0"
      ]
     },
     "execution_count": 10,
     "metadata": {},
     "output_type": "execute_result"
    }
   ],
   "source": [
    "c.imag"
   ]
  },
  {
   "cell_type": "code",
   "execution_count": 11,
   "id": "640e03b7-b9a3-48b9-ad34-cc2013592c1d",
   "metadata": {},
   "outputs": [],
   "source": [
    "a1 , a2 = 34, 35"
   ]
  },
  {
   "cell_type": "code",
   "execution_count": 12,
   "id": "3fa702cc-7f85-4679-881f-3519a25d75c9",
   "metadata": {},
   "outputs": [
    {
     "data": {
      "text/plain": [
       "34"
      ]
     },
     "execution_count": 12,
     "metadata": {},
     "output_type": "execute_result"
    }
   ],
   "source": [
    "a1"
   ]
  },
  {
   "cell_type": "code",
   "execution_count": 13,
   "id": "6852c14a-d860-4d00-9833-91efd1c08995",
   "metadata": {},
   "outputs": [
    {
     "data": {
      "text/plain": [
       "35"
      ]
     },
     "execution_count": 13,
     "metadata": {},
     "output_type": "execute_result"
    }
   ],
   "source": [
    "a2"
   ]
  },
  {
   "cell_type": "code",
   "execution_count": 15,
   "id": "2d07e6d6-aa7d-4ad6-9c5a-322b4a055227",
   "metadata": {},
   "outputs": [],
   "source": [
    "b1 = True"
   ]
  },
  {
   "cell_type": "code",
   "execution_count": 16,
   "id": "498472e3-23c3-404d-8d33-28a829d69655",
   "metadata": {},
   "outputs": [],
   "source": [
    "b2 = False"
   ]
  },
  {
   "cell_type": "code",
   "execution_count": 17,
   "id": "738b32d6-ea6d-47e0-bbc4-25bc074ed031",
   "metadata": {},
   "outputs": [
    {
     "data": {
      "text/plain": [
       "1"
      ]
     },
     "execution_count": 17,
     "metadata": {},
     "output_type": "execute_result"
    }
   ],
   "source": [
    "b1-b2"
   ]
  },
  {
   "cell_type": "code",
   "execution_count": 18,
   "id": "ba417079-9560-4d81-85b6-cefa5f68a734",
   "metadata": {},
   "outputs": [
    {
     "ename": "ZeroDivisionError",
     "evalue": "division by zero",
     "output_type": "error",
     "traceback": [
      "\u001b[0;31m---------------------------------------------------------------------------\u001b[0m",
      "\u001b[0;31mZeroDivisionError\u001b[0m                         Traceback (most recent call last)",
      "Cell \u001b[0;32mIn[18], line 1\u001b[0m\n\u001b[0;32m----> 1\u001b[0m \u001b[43mb1\u001b[49m\u001b[38;5;241;43m/\u001b[39;49m\u001b[43mb2\u001b[49m\n",
      "\u001b[0;31mZeroDivisionError\u001b[0m: division by zero"
     ]
    }
   ],
   "source": [
    "b1/b2"
   ]
  },
  {
   "cell_type": "code",
   "execution_count": 19,
   "id": "dc116c22-2793-49d6-a100-f0c49fbf5691",
   "metadata": {},
   "outputs": [],
   "source": [
    "s1='My name is Bhaskar Kumbhar'"
   ]
  },
  {
   "cell_type": "code",
   "execution_count": 20,
   "id": "faac9d49-1482-4acc-b432-0de34197f31f",
   "metadata": {},
   "outputs": [
    {
     "name": "stdout",
     "output_type": "stream",
     "text": [
      "My name is Bhaskar Kumbhar\n"
     ]
    }
   ],
   "source": [
    "print(s1)"
   ]
  },
  {
   "cell_type": "code",
   "execution_count": 21,
   "id": "2387c9ac-c2b3-440a-96e7-44136a5b8528",
   "metadata": {},
   "outputs": [],
   "source": [
    "s2=\"This is my first python class for data science masters\""
   ]
  },
  {
   "cell_type": "code",
   "execution_count": 24,
   "id": "fd58d2f8-ef84-4f9d-92eb-ef1e510129b9",
   "metadata": {},
   "outputs": [],
   "source": [
    "s3='''Bhaskar'\"'''"
   ]
  },
  {
   "cell_type": "code",
   "execution_count": 25,
   "id": "43e5d638-9e7b-4629-9251-c8b44f46e09a",
   "metadata": {},
   "outputs": [
    {
     "name": "stdout",
     "output_type": "stream",
     "text": [
      "Bhaskar'\"\n"
     ]
    }
   ],
   "source": [
    "print(s3)"
   ]
  },
  {
   "cell_type": "code",
   "execution_count": 26,
   "id": "6416b0ae-90fa-4020-9d9e-c15f5636c2ec",
   "metadata": {},
   "outputs": [],
   "source": [
    "s1=\"Bhaskar\""
   ]
  },
  {
   "cell_type": "code",
   "execution_count": 27,
   "id": "a4208873-d851-482b-8164-f0fcc8b92819",
   "metadata": {},
   "outputs": [],
   "source": [
    "a=23"
   ]
  },
  {
   "cell_type": "code",
   "execution_count": 28,
   "id": "7e12f53d-d3e0-4624-8cfd-b9b9cf70224b",
   "metadata": {},
   "outputs": [
    {
     "data": {
      "text/plain": [
       "'Bhaskar23'"
      ]
     },
     "execution_count": 28,
     "metadata": {},
     "output_type": "execute_result"
    }
   ],
   "source": [
    "s1+str(a)"
   ]
  },
  {
   "cell_type": "code",
   "execution_count": 29,
   "id": "3b23a0bb-ba1b-4859-8454-70009f90e9d5",
   "metadata": {},
   "outputs": [],
   "source": [
    "b='10'"
   ]
  },
  {
   "cell_type": "code",
   "execution_count": 30,
   "id": "b8010d5f-c6fe-4b15-9b97-7b245a4b9d3d",
   "metadata": {},
   "outputs": [
    {
     "name": "stdout",
     "output_type": "stream",
     "text": [
      "10\n"
     ]
    }
   ],
   "source": [
    "print(int(b))"
   ]
  },
  {
   "cell_type": "code",
   "execution_count": 35,
   "id": "fb50dbd8-ede4-4334-80c0-6e95e4b9326a",
   "metadata": {},
   "outputs": [
    {
     "name": "stdin",
     "output_type": "stream",
     "text": [
      " 560\n"
     ]
    }
   ],
   "source": [
    "b=input()"
   ]
  },
  {
   "cell_type": "code",
   "execution_count": 36,
   "id": "7a9b5587-7ef3-4421-b66f-385d845ef53b",
   "metadata": {},
   "outputs": [
    {
     "data": {
      "text/plain": [
       "str"
      ]
     },
     "execution_count": 36,
     "metadata": {},
     "output_type": "execute_result"
    }
   ],
   "source": [
    "type(b)"
   ]
  },
  {
   "cell_type": "code",
   "execution_count": 37,
   "id": "56ae7077-e075-4e28-8021-b180de3c04e8",
   "metadata": {},
   "outputs": [
    {
     "name": "stdin",
     "output_type": "stream",
     "text": [
      " 23\n"
     ]
    }
   ],
   "source": [
    "c=int(input())"
   ]
  },
  {
   "cell_type": "code",
   "execution_count": 38,
   "id": "326b8cf4-fee2-4520-a007-2eaf0f6fa475",
   "metadata": {},
   "outputs": [
    {
     "data": {
      "text/plain": [
       "23"
      ]
     },
     "execution_count": 38,
     "metadata": {},
     "output_type": "execute_result"
    }
   ],
   "source": [
    "c"
   ]
  },
  {
   "cell_type": "code",
   "execution_count": 39,
   "id": "77734775-68ba-45f5-9f80-74d675d61a57",
   "metadata": {},
   "outputs": [],
   "source": [
    "name=\"Bhaskar\""
   ]
  },
  {
   "cell_type": "code",
   "execution_count": 41,
   "id": "08d8fe37-a889-4367-9ca7-e545ff0b938d",
   "metadata": {},
   "outputs": [
    {
     "data": {
      "text/plain": [
       "'h'"
      ]
     },
     "execution_count": 41,
     "metadata": {},
     "output_type": "execute_result"
    }
   ],
   "source": [
    "name[1]"
   ]
  },
  {
   "cell_type": "code",
   "execution_count": 42,
   "id": "907edb0f-109d-470c-a4d2-1fc9c5f703e0",
   "metadata": {},
   "outputs": [
    {
     "data": {
      "text/plain": [
       "'s'"
      ]
     },
     "execution_count": 42,
     "metadata": {},
     "output_type": "execute_result"
    }
   ],
   "source": [
    "name[-4]"
   ]
  },
  {
   "cell_type": "code",
   "execution_count": 43,
   "id": "1be979ed-d724-41cc-b813-3be6c1e9359a",
   "metadata": {},
   "outputs": [
    {
     "data": {
      "text/plain": [
       "'Bh'"
      ]
     },
     "execution_count": 43,
     "metadata": {},
     "output_type": "execute_result"
    }
   ],
   "source": [
    "name[0:2]"
   ]
  },
  {
   "cell_type": "code",
   "execution_count": 44,
   "id": "fb1b3b74-8517-472b-9163-22e5d4c33d22",
   "metadata": {},
   "outputs": [],
   "source": [
    "s=\"pwskills\""
   ]
  },
  {
   "cell_type": "code",
   "execution_count": 47,
   "id": "354ed222-331b-4c51-a16e-f2cacb0f7c8b",
   "metadata": {},
   "outputs": [
    {
     "data": {
      "text/plain": [
       "'skills'"
      ]
     },
     "execution_count": 47,
     "metadata": {},
     "output_type": "execute_result"
    }
   ],
   "source": [
    "s[2:8]"
   ]
  },
  {
   "cell_type": "code",
   "execution_count": 48,
   "id": "6c358970-d5dd-4872-81c7-b58142600200",
   "metadata": {},
   "outputs": [
    {
     "data": {
      "text/plain": [
       "'wskills'"
      ]
     },
     "execution_count": 48,
     "metadata": {},
     "output_type": "execute_result"
    }
   ],
   "source": [
    "s[1:]"
   ]
  },
  {
   "cell_type": "code",
   "execution_count": 51,
   "id": "7799d181-564d-491c-be04-e7a185c31d1b",
   "metadata": {},
   "outputs": [
    {
     "data": {
      "text/plain": [
       "'psil'"
      ]
     },
     "execution_count": 51,
     "metadata": {},
     "output_type": "execute_result"
    }
   ],
   "source": [
    "s[0::2]"
   ]
  },
  {
   "cell_type": "code",
   "execution_count": 54,
   "id": "1b9545b0-d3ae-4e34-be37-cd22f3957b17",
   "metadata": {},
   "outputs": [
    {
     "data": {
      "text/plain": [
       "'pwskill'"
      ]
     },
     "execution_count": 54,
     "metadata": {},
     "output_type": "execute_result"
    }
   ],
   "source": [
    "s[-8:-1]"
   ]
  },
  {
   "cell_type": "code",
   "execution_count": 55,
   "id": "cde40c64-a94b-45ad-9bf8-4467762156c4",
   "metadata": {},
   "outputs": [
    {
     "data": {
      "text/plain": [
       "''"
      ]
     },
     "execution_count": 55,
     "metadata": {},
     "output_type": "execute_result"
    }
   ],
   "source": [
    "s[7:3]"
   ]
  },
  {
   "cell_type": "code",
   "execution_count": 56,
   "id": "165be20d-faa5-4bd8-8252-0c25198fa5a7",
   "metadata": {},
   "outputs": [
    {
     "data": {
      "text/plain": [
       "''"
      ]
     },
     "execution_count": 56,
     "metadata": {},
     "output_type": "execute_result"
    }
   ],
   "source": [
    "s[-1:-8]"
   ]
  },
  {
   "cell_type": "code",
   "execution_count": 57,
   "id": "e26e887e-23ee-4946-bbb2-88685d4e0fba",
   "metadata": {},
   "outputs": [
    {
     "data": {
      "text/plain": [
       "'slli'"
      ]
     },
     "execution_count": 57,
     "metadata": {},
     "output_type": "execute_result"
    }
   ],
   "source": [
    "s[7:3:-1]"
   ]
  },
  {
   "cell_type": "code",
   "execution_count": 59,
   "id": "54aae1c7-47f9-47cc-9de7-7d9394b72c42",
   "metadata": {},
   "outputs": [
    {
     "data": {
      "text/plain": [
       "'sllikswp'"
      ]
     },
     "execution_count": 59,
     "metadata": {},
     "output_type": "execute_result"
    }
   ],
   "source": [
    "s[-1:-9:-1]"
   ]
  },
  {
   "cell_type": "code",
   "execution_count": null,
   "id": "1da29dcd-6554-45e8-823d-46e5d65e9ae2",
   "metadata": {},
   "outputs": [],
   "source": []
  }
 ],
 "metadata": {
  "kernelspec": {
   "display_name": "Python 3 (ipykernel)",
   "language": "python",
   "name": "python3"
  },
  "language_info": {
   "codemirror_mode": {
    "name": "ipython",
    "version": 3
   },
   "file_extension": ".py",
   "mimetype": "text/x-python",
   "name": "python",
   "nbconvert_exporter": "python",
   "pygments_lexer": "ipython3",
   "version": "3.10.8"
  }
 },
 "nbformat": 4,
 "nbformat_minor": 5
}
