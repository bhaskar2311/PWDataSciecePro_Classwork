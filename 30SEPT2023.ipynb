{
 "cells": [
  {
   "cell_type": "markdown",
   "id": "410d6870-2a7a-4044-b34a-08dba03dae8b",
   "metadata": {},
   "source": [
    "EXCEPTION HANDLING"
   ]
  },
  {
   "cell_type": "code",
   "execution_count": 4,
   "id": "1c1e7221-9d5c-45eb-b93c-5e9f82c6093e",
   "metadata": {},
   "outputs": [
    {
     "name": "stdin",
     "output_type": "stream",
     "text": [
      "Enter a value for a 10\n",
      "Enter a value for b 0\n"
     ]
    }
   ],
   "source": [
    "a = int(input(\"Enter a value for a\"))\n",
    "b = int(input(\"Enter a value for b\"))"
   ]
  },
  {
   "cell_type": "code",
   "execution_count": 5,
   "id": "845aa610-7f49-468d-ba44-b80a336d93d1",
   "metadata": {},
   "outputs": [
    {
     "data": {
      "text/plain": [
       "0"
      ]
     },
     "execution_count": 5,
     "metadata": {},
     "output_type": "execute_result"
    }
   ],
   "source": [
    "a*b"
   ]
  },
  {
   "cell_type": "code",
   "execution_count": 7,
   "id": "31bd25ec-4b09-44c6-b667-c8b714b24ffb",
   "metadata": {},
   "outputs": [
    {
     "ename": "ZeroDivisionError",
     "evalue": "division by zero",
     "output_type": "error",
     "traceback": [
      "\u001b[0;31m---------------------------------------------------------------------------\u001b[0m",
      "\u001b[0;31mZeroDivisionError\u001b[0m                         Traceback (most recent call last)",
      "Cell \u001b[0;32mIn[7], line 1\u001b[0m\n\u001b[0;32m----> 1\u001b[0m \u001b[43ma\u001b[49m\u001b[38;5;241;43m/\u001b[39;49m\u001b[43mb\u001b[49m\n\u001b[1;32m      2\u001b[0m \u001b[38;5;28mprint\u001b[39m(\u001b[38;5;124m\"\u001b[39m\u001b[38;5;124mABCD\u001b[39m\u001b[38;5;124m\"\u001b[39m)\n",
      "\u001b[0;31mZeroDivisionError\u001b[0m: division by zero"
     ]
    }
   ],
   "source": [
    "a/b\n",
    "print(\"BHASKAR\")"
   ]
  },
  {
   "cell_type": "code",
   "execution_count": 14,
   "id": "3890d40e-aabf-4fcb-8db6-626f6f1e3eae",
   "metadata": {},
   "outputs": [],
   "source": [
    "l = [4,5,6,7,8,9,0]\n",
    "l1 = []\n",
    "def even_parser(l):\n",
    "    for i in l:\n",
    "        if i%2 == 0:\n",
    "            l1.append(i)\n",
    "    return l1"
   ]
  },
  {
   "cell_type": "code",
   "execution_count": 15,
   "id": "a924bbb0-9753-45c4-a735-8ee2be6ebeff",
   "metadata": {},
   "outputs": [
    {
     "data": {
      "text/plain": [
       "[4, 6, 8, 0]"
      ]
     },
     "execution_count": 15,
     "metadata": {},
     "output_type": "execute_result"
    }
   ],
   "source": [
    "even_parser(l)"
   ]
  },
  {
   "cell_type": "code",
   "execution_count": 16,
   "id": "3d51f375-a576-4ac6-bacb-756717373698",
   "metadata": {},
   "outputs": [
    {
     "ename": "TypeError",
     "evalue": "not all arguments converted during string formatting",
     "output_type": "error",
     "traceback": [
      "\u001b[0;31m---------------------------------------------------------------------------\u001b[0m",
      "\u001b[0;31mTypeError\u001b[0m                                 Traceback (most recent call last)",
      "Cell \u001b[0;32mIn[16], line 1\u001b[0m\n\u001b[0;32m----> 1\u001b[0m \u001b[43meven_parser\u001b[49m\u001b[43m(\u001b[49m\u001b[38;5;124;43m\"\u001b[39;49m\u001b[38;5;124;43mBhaskar\u001b[39;49m\u001b[38;5;124;43m\"\u001b[39;49m\u001b[43m)\u001b[49m\n\u001b[1;32m      2\u001b[0m \u001b[38;5;28mprint\u001b[39m(\u001b[38;5;124m\"\u001b[39m\u001b[38;5;124mPrint Something\u001b[39m\u001b[38;5;124m\"\u001b[39m)\n",
      "Cell \u001b[0;32mIn[14], line 5\u001b[0m, in \u001b[0;36meven_parser\u001b[0;34m(l)\u001b[0m\n\u001b[1;32m      3\u001b[0m \u001b[38;5;28;01mdef\u001b[39;00m \u001b[38;5;21meven_parser\u001b[39m(l):\n\u001b[1;32m      4\u001b[0m     \u001b[38;5;28;01mfor\u001b[39;00m i \u001b[38;5;129;01min\u001b[39;00m l:\n\u001b[0;32m----> 5\u001b[0m         \u001b[38;5;28;01mif\u001b[39;00m \u001b[43mi\u001b[49m\u001b[38;5;241;43m%\u001b[39;49m\u001b[38;5;241;43m2\u001b[39;49m \u001b[38;5;241m==\u001b[39m \u001b[38;5;241m0\u001b[39m:\n\u001b[1;32m      6\u001b[0m             l1\u001b[38;5;241m.\u001b[39mappend(i)\n\u001b[1;32m      7\u001b[0m     \u001b[38;5;28;01mreturn\u001b[39;00m l1\n",
      "\u001b[0;31mTypeError\u001b[0m: not all arguments converted during string formatting"
     ]
    }
   ],
   "source": [
    "even_parser(\"Bhaskar\")\n",
    "print(\"Print Something\")"
   ]
  },
  {
   "cell_type": "code",
   "execution_count": 23,
   "id": "29c1c5a2-6712-4b76-9190-a4fac8e5d241",
   "metadata": {},
   "outputs": [
    {
     "name": "stdin",
     "output_type": "stream",
     "text": [
      "Enter A 10\n",
      "Enter B 0\n"
     ]
    },
    {
     "name": "stdout",
     "output_type": "stream",
     "text": [
      "Bhaskar\n"
     ]
    }
   ],
   "source": [
    "try:\n",
    "    a = int(input(\"Enter A\"))\n",
    "    b = int(input(\"Enter B\"))\n",
    "    c = a/b\n",
    "    print(c)\n",
    "except:\n",
    "    #print(\"Error\")\n",
    "    pass\n",
    "\n",
    "print(\"Bhaskar\")"
   ]
  },
  {
   "cell_type": "code",
   "execution_count": 32,
   "id": "200d67d2-0377-48c5-ad8d-0d7bbfc6b395",
   "metadata": {},
   "outputs": [],
   "source": [
    "l = [4,5,6,7,8,9,0]\n",
    "l1 = []\n",
    "def even_parser(l):\n",
    "    try:\n",
    "        for i in l:\n",
    "            if i%2 == 0:\n",
    "                l1.append(i)\n",
    "        return l1\n",
    "    except:\n",
    "        pass\n",
    "   "
   ]
  },
  {
   "cell_type": "code",
   "execution_count": 34,
   "id": "f0e7e87a-9481-4d50-b6af-aa8144c5d073",
   "metadata": {},
   "outputs": [
    {
     "name": "stdout",
     "output_type": "stream",
     "text": [
      "Bhaskar\n"
     ]
    }
   ],
   "source": [
    "even_parser(5)\n",
    "print(\"Bhaskar\")"
   ]
  },
  {
   "cell_type": "code",
   "execution_count": 38,
   "id": "38b75ea8-348e-44ab-b0a3-254382b996b6",
   "metadata": {},
   "outputs": [
    {
     "name": "stdin",
     "output_type": "stream",
     "text": [
      " 3\n",
      " 0\n"
     ]
    },
    {
     "name": "stdout",
     "output_type": "stream",
     "text": [
      "division by zero\n"
     ]
    }
   ],
   "source": [
    "try:\n",
    "    a = int(input())\n",
    "    b = int(input())\n",
    "    c = a/b\n",
    "    #Package/Class/Module for Exception they created\n",
    "except Exception as e:\n",
    "    print(e)"
   ]
  },
  {
   "cell_type": "code",
   "execution_count": 42,
   "id": "222ff24f-ebd3-4e26-834a-33785d4b35d1",
   "metadata": {},
   "outputs": [
    {
     "name": "stdin",
     "output_type": "stream",
     "text": [
      " fff\n"
     ]
    },
    {
     "name": "stdout",
     "output_type": "stream",
     "text": [
      "invalid literal for int() with base 10: 'fff'\n"
     ]
    }
   ],
   "source": [
    "try:\n",
    "    a = int(input())\n",
    "    b = int(input())\n",
    "    c = a/b\n",
    "    #Package/Class/Module for Exception they created\n",
    "except TypeError as t:\n",
    "    print(t)\n",
    "except ZeroDivisionError as z:\n",
    "    print(z)\n",
    "except ValueError as v:\n",
    "    print(v)"
   ]
  },
  {
   "cell_type": "code",
   "execution_count": 45,
   "id": "0f489d1b-73f0-4521-beca-a48630b4a58a",
   "metadata": {},
   "outputs": [
    {
     "name": "stdout",
     "output_type": "stream",
     "text": [
      "division by zero\n",
      "invalid literal for int() with base 10: 'Bhaskar'\n"
     ]
    }
   ],
   "source": [
    "try:\n",
    "    x = 5/0\n",
    "except ZeroDivisionError as z:\n",
    "    print(z)\n",
    "    try:\n",
    "        y = int(\"Bhaskar\")\n",
    "    except ValueError as v:\n",
    "        print(v)"
   ]
  },
  {
   "cell_type": "code",
   "execution_count": 51,
   "id": "bd0fb0be-b311-4a62-bb39-0411a4b1892d",
   "metadata": {},
   "outputs": [
    {
     "name": "stdout",
     "output_type": "stream",
     "text": [
      "This will Execute itself once try will execute without an error\n",
      "This will always execute whether there is Exception or Not\n"
     ]
    }
   ],
   "source": [
    "try:\n",
    "    x = 5/2\n",
    "except ZeroDivisionError as z:\n",
    "    print(z)\n",
    "else: #Else will execute, if the code does not have excpetion\n",
    "    print(\"This will Execute itself once try will execute without an error\")\n",
    "finally:\n",
    "    print(\"This will always execute whether there is Exception or Not\")\n",
    "    \n",
    "#Real life example - DB Close in finally to shut down the database, otherwise it will keep using Network Bandwidth"
   ]
  },
  {
   "cell_type": "code",
   "execution_count": 91,
   "id": "c6df7afd-b096-4842-a28b-a00fc3e81b18",
   "metadata": {},
   "outputs": [
    {
     "name": "stdout",
     "output_type": "stream",
     "text": [
      "'course'\n"
     ]
    }
   ],
   "source": [
    "try:\n",
    "    d = {\"name\" : \"Bhaskar\", \"Mobile_No\" : \"847839\" , \"email_id\" : \"bhaskar@123\"}\n",
    "    d['course']\n",
    "except Exception as e:\n",
    "    print(e)\n",
    "    \n",
    "    #Something wrong with the code, Try later"
   ]
  },
  {
   "cell_type": "code",
   "execution_count": 93,
   "id": "2280c0e4-a01a-4f79-a5ab-ccfb7ad6e218",
   "metadata": {},
   "outputs": [
    {
     "data": {
      "text/plain": [
       "'Bhaskar'"
      ]
     },
     "execution_count": 93,
     "metadata": {},
     "output_type": "execute_result"
    }
   ],
   "source": [
    "file_name = \"Test/test2.txt\"\n",
    "f = open(file_name)\n",
    "f.read()"
   ]
  },
  {
   "cell_type": "code",
   "execution_count": 92,
   "id": "05c11140-0110-433c-920d-85b66cb0276d",
   "metadata": {},
   "outputs": [
    {
     "data": {
      "text/plain": [
       "'Bhaskar'"
      ]
     },
     "execution_count": 92,
     "metadata": {},
     "output_type": "execute_result"
    }
   ],
   "source": [
    "f_name = \"/home/jovyan/work/Test/test2.txt\"\n",
    "ff = open(f_name)\n",
    "ff.read()"
   ]
  },
  {
   "cell_type": "code",
   "execution_count": 97,
   "id": "11eebd93-4ceb-4db9-a270-6d7ef5ba20ba",
   "metadata": {},
   "outputs": [
    {
     "name": "stdin",
     "output_type": "stream",
     "text": [
      "Enter a number 0\n"
     ]
    },
    {
     "name": "stdout",
     "output_type": "stream",
     "text": [
      "User Entered 0\n"
     ]
    }
   ],
   "source": [
    "try:\n",
    "    n = int(input(\"Enter a number\"))\n",
    "    div = 342/n\n",
    "    print(div)\n",
    "except ValueError:\n",
    "    print(\"User has entered invalid input\")\n",
    "except ZeroDivisionError:\n",
    "    print(\"User Entered 0\")"
   ]
  },
  {
   "cell_type": "code",
   "execution_count": 101,
   "id": "f6596a6f-221e-4555-89ce-8f63059b87f5",
   "metadata": {},
   "outputs": [
    {
     "name": "stdin",
     "output_type": "stream",
     "text": [
      "Enter a number 0\n"
     ]
    },
    {
     "name": "stdout",
     "output_type": "stream",
     "text": [
      "User has entered invalid input or maybe 0\n"
     ]
    }
   ],
   "source": [
    "try:\n",
    "    n = int(input(\"Enter a number\"))\n",
    "    div = 342/n\n",
    "    print(div)\n",
    "except (ValueError,ZeroDivisionError):\n",
    "    print(\"User has entered invalid input or maybe 0\")"
   ]
  },
  {
   "cell_type": "code",
   "execution_count": 103,
   "id": "d5af3503-a4fb-4238-a401-23b4771d5f86",
   "metadata": {},
   "outputs": [
    {
     "name": "stdin",
     "output_type": "stream",
     "text": [
      "Enter a number 0\n"
     ]
    },
    {
     "name": "stdout",
     "output_type": "stream",
     "text": [
      "User has entered 0\n"
     ]
    }
   ],
   "source": [
    "try:\n",
    "    try:\n",
    "        n = int(input(\"Enter a number\"))\n",
    "        div = 342/n\n",
    "        print(div)\n",
    "    except ZeroDivisionError:\n",
    "        print(\"User has entered 0\")\n",
    "except ValueError:\n",
    "    print(\"User has entered invalid input\")"
   ]
  },
  {
   "cell_type": "code",
   "execution_count": 109,
   "id": "a2b3d1e0-c56c-4b58-a654-5cee3fad27de",
   "metadata": {},
   "outputs": [
    {
     "name": "stdin",
     "output_type": "stream",
     "text": [
      "Enter a number 2\n"
     ]
    },
    {
     "name": "stdout",
     "output_type": "stream",
     "text": [
      "171.0\n",
      "171.0\n"
     ]
    }
   ],
   "source": [
    "try:\n",
    "    n = int(input(\"Enter a number\"))\n",
    "    div = 342/n\n",
    "    print(div)\n",
    "except Exception :\n",
    "    print(\"User has entered invalid input\")\n",
    "else:\n",
    "    print(div)"
   ]
  },
  {
   "cell_type": "code",
   "execution_count": 115,
   "id": "f6d23e9e-cbc8-4066-bf3c-e2407a10c74d",
   "metadata": {},
   "outputs": [],
   "source": [
    "file_name = \"Test/test2.txt\"\n",
    "f = open(file_name)\n",
    "f.read()\n",
    "f.close()"
   ]
  },
  {
   "cell_type": "code",
   "execution_count": 121,
   "id": "00d4171e-1398-48ed-a891-45ca9025c22f",
   "metadata": {},
   "outputs": [
    {
     "name": "stdout",
     "output_type": "stream",
     "text": [
      "Bhaskar\n",
      "File is closed\n"
     ]
    }
   ],
   "source": [
    "try:\n",
    "    file_name = \"Test/test2.txt\"\n",
    "    f = open(file_name)\n",
    "    #f.write('Kumbhar')\n",
    "    data = f.read()\n",
    "except Exception:\n",
    "    print(\"There is some issue\")\n",
    "else:\n",
    "    print(data)\n",
    "finally:\n",
    "    f.close()\n",
    "    print(\"File is closed\")"
   ]
  },
  {
   "cell_type": "code",
   "execution_count": 2,
   "id": "e607943d-b93b-4654-acc1-f007bd138bbb",
   "metadata": {},
   "outputs": [
    {
     "name": "stdout",
     "output_type": "stream",
     "text": [
      "There is some issue\n",
      "File is closed\n"
     ]
    }
   ],
   "source": [
    "try:\n",
    "    file_name = \"Test/test2.txt\"\n",
    "    f = open(file_name)\n",
    "    data = f.write()\n",
    "except Exception:\n",
    "    print(\"There is some issue\")\n",
    "else:\n",
    "    print(data)\n",
    "finally:\n",
    "    try:\n",
    "        print(data)\n",
    "    except:\n",
    "        pass\n",
    "    f.close()\n",
    "    print(\"File is closed\")"
   ]
  },
  {
   "cell_type": "code",
   "execution_count": 11,
   "id": "eae793c2-6f09-4447-b468-e0c4d02ae7ab",
   "metadata": {},
   "outputs": [
    {
     "name": "stdin",
     "output_type": "stream",
     "text": [
      "Enter the height -22\n"
     ]
    },
    {
     "name": "stdout",
     "output_type": "stream",
     "text": [
      "Height cannot be negative\n"
     ]
    }
   ],
   "source": [
    "try:\n",
    "    a = int(input(\"Enter the height\"))\n",
    "    if a<0:\n",
    "        raise ValueError(\"Height cannot be negative\")\n",
    "except ValueError as v:\n",
    "    print(v)\n",
    "    \n",
    "    \n",
    "    #This code giving error, below one not"
   ]
  },
  {
   "cell_type": "code",
   "execution_count": 5,
   "id": "eb817f1d-c373-40a4-932b-73a8ba3c8f8a",
   "metadata": {},
   "outputs": [
    {
     "name": "stdin",
     "output_type": "stream",
     "text": [
      "Enter the height 20\n"
     ]
    }
   ],
   "source": [
    "try:\n",
    "    a = int(input(\"Enter the height\"))\n",
    "    if a<0:\n",
    "        raise ValueError(\"Height cannot be negative\")\n",
    "except ValueError as v:\n",
    "    print(v)"
   ]
  },
  {
   "cell_type": "code",
   "execution_count": 13,
   "id": "4d4ce7e0-2bd2-48e6-af42-da3de0f24769",
   "metadata": {},
   "outputs": [
    {
     "name": "stdin",
     "output_type": "stream",
     "text": [
      "Enter the age 12\n"
     ]
    },
    {
     "name": "stdout",
     "output_type": "stream",
     "text": [
      "User is underage\n"
     ]
    }
   ],
   "source": [
    "try:\n",
    "    age = int(input(\"Enter the age\"))\n",
    "    if age<0:\n",
    "        raise ValueError(\"Negative Age Error\")\n",
    "    elif age<18:\n",
    "        raise Exception(\"User is underage\")\n",
    "    else:\n",
    "        print(\"OK TO PURCHASE\")\n",
    "except Exception as e:\n",
    "    print(e)"
   ]
  },
  {
   "cell_type": "code",
   "execution_count": null,
   "id": "db6d4bef-9d6a-4822-a0d6-4716ef8420d2",
   "metadata": {},
   "outputs": [],
   "source": []
  },
  {
   "cell_type": "markdown",
   "id": "40af0854-1567-44bb-974e-cff022a3b947",
   "metadata": {},
   "source": [
    "LOGGING"
   ]
  },
  {
   "cell_type": "code",
   "execution_count": 1,
   "id": "88f70739-03d8-4a06-a53f-2531850850ab",
   "metadata": {},
   "outputs": [],
   "source": [
    "import logging as log"
   ]
  },
  {
   "cell_type": "code",
   "execution_count": 2,
   "id": "8b88e6ce-e1a9-41c2-bd30-afab1d833143",
   "metadata": {},
   "outputs": [],
   "source": [
    "log.basicConfig(filename = 'test.log', level= log.INFO)"
   ]
  },
  {
   "cell_type": "code",
   "execution_count": 3,
   "id": "04c72eab-1cef-4be5-9b30-f8af207f76df",
   "metadata": {},
   "outputs": [],
   "source": [
    "log.info(\"store a msg\")"
   ]
  },
  {
   "cell_type": "code",
   "execution_count": 8,
   "id": "2f5f41b4-8106-472a-a5a4-6b21761c6e15",
   "metadata": {},
   "outputs": [],
   "source": [
    "log.debug(\"This is a debug\")"
   ]
  },
  {
   "cell_type": "code",
   "execution_count": 5,
   "id": "acfcf8ed-d68c-44c0-9dad-f669e9b8ec31",
   "metadata": {},
   "outputs": [],
   "source": [
    "log.warning(\"This is a warning\")"
   ]
  },
  {
   "cell_type": "code",
   "execution_count": 6,
   "id": "62136be8-4faa-407b-9a44-dd719acadd94",
   "metadata": {},
   "outputs": [],
   "source": [
    "log.error(\"This is a error\")"
   ]
  },
  {
   "cell_type": "code",
   "execution_count": 7,
   "id": "a0055f19-cc53-4336-ac01-4f4d6b3e5635",
   "metadata": {},
   "outputs": [],
   "source": [
    "log.critical(\"This is critical\")"
   ]
  },
  {
   "cell_type": "code",
   "execution_count": 1,
   "id": "af7845b0-73e4-4836-b8f6-4befa3242e9b",
   "metadata": {},
   "outputs": [
    {
     "name": "stdin",
     "output_type": "stream",
     "text": [
      "Enter the age -33\n"
     ]
    }
   ],
   "source": [
    "import logging\n",
    "logging.basicConfig(filename = 'trytest.log' , level = logging.DEBUG, format = '%(asctime)s- %(levelname)s - %(message)s ')\n",
    "\n",
    "try:\n",
    "    logging.info(\"This is a start of my program\")\n",
    "    logging.info(\"Asking user to enter the age\")\n",
    "    age = int(input(\"Enter the age\"))\n",
    "    logging.info(\"User has entered the age = %d\",age)\n",
    "    if age<0:\n",
    "        logging.info(\"I am checking negative condition\")\n",
    "        raise ValueError(\"Negative Age Error\")\n",
    "    elif age<18:\n",
    "        logging.info(\"I am checking underage condition\")\n",
    "        raise Exception(\"User is underage\")\n",
    "    else:\n",
    "        logging.info(\"OK TO PURCHASE\")\n",
    "except Exception as e:\n",
    "    logging.error(e)"
   ]
  },
  {
   "cell_type": "code",
   "execution_count": 5,
   "id": "a82c592d-47e2-470e-a169-726dba1a4433",
   "metadata": {},
   "outputs": [],
   "source": [
    "import logging\n",
    "logging.basicConfig(filename = 'evenparser.log' , level = logging.DEBUG, format = '%(asctime)s- %(levelname)s - %(message)s ')\n",
    "\n",
    "l = [4,5,6,7,8,9,0]\n",
    "logging.info(l)\n",
    "l1 = []\n",
    "def even_parser(l):\n",
    "    try:\n",
    "        logging.info(\"Inside try block\")\n",
    "        for i in l:\n",
    "            logging.info(\"Inside for loop i=%d\",i)\n",
    "            if i%2 == 0:\n",
    "                logging.info(\"Checking value of i\")\n",
    "                l1.append(i)\n",
    "                logging.info(\"appending the value i = %d\" , i)\n",
    "        return l1\n",
    "    except Exception as e :\n",
    "        logging.error(e)"
   ]
  },
  {
   "cell_type": "code",
   "execution_count": 6,
   "id": "d45f9093-4908-4692-99e2-1270363d34a6",
   "metadata": {},
   "outputs": [
    {
     "data": {
      "text/plain": [
       "[4, 6, 8, 0]"
      ]
     },
     "execution_count": 6,
     "metadata": {},
     "output_type": "execute_result"
    }
   ],
   "source": [
    "even_parser(l)"
   ]
  },
  {
   "cell_type": "markdown",
   "id": "50b11d2e-9d31-42d9-b0b2-87daaeca716c",
   "metadata": {},
   "source": [
    "DEBUG - 10\n",
    "INFO - 20\n",
    "WARNING - 30\n",
    "ERROR - 40\n",
    "CRITICAL - 50"
   ]
  }
 ],
 "metadata": {
  "kernelspec": {
   "display_name": "Python 3 (ipykernel)",
   "language": "python",
   "name": "python3"
  },
  "language_info": {
   "codemirror_mode": {
    "name": "ipython",
    "version": 3
   },
   "file_extension": ".py",
   "mimetype": "text/x-python",
   "name": "python",
   "nbconvert_exporter": "python",
   "pygments_lexer": "ipython3",
   "version": "3.10.8"
  }
 },
 "nbformat": 4,
 "nbformat_minor": 5
}
