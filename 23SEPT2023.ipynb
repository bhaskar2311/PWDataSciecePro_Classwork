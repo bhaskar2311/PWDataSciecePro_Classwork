{
 "cells": [
  {
   "cell_type": "code",
   "execution_count": 5,
   "id": "aaed004f-442b-4538-9797-71ce6fb7f8ba",
   "metadata": {},
   "outputs": [
    {
     "name": "stdin",
     "output_type": "stream",
     "text": [
      "Enter a number 5\n"
     ]
    },
    {
     "name": "stdout",
     "output_type": "stream",
     "text": [
      "5\n",
      "4\n",
      "3\n",
      "2\n",
      "1\n"
     ]
    }
   ],
   "source": [
    "a = int(input(\"Enter a number\"))\n",
    "\n",
    "while a>=1:\n",
    "    print(a)\n",
    "    a = a-1"
   ]
  },
  {
   "cell_type": "code",
   "execution_count": 11,
   "id": "7a210c61-d401-4b81-9fa7-8c42454953b0",
   "metadata": {},
   "outputs": [
    {
     "name": "stdout",
     "output_type": "stream",
     "text": [
      "55\n"
     ]
    }
   ],
   "source": [
    "s = 0\n",
    "n = 1\n",
    "t = 10\n",
    "while n<=t:\n",
    "    s = n + s\n",
    "    n = n+1\n",
    "    \n",
    "print(s)"
   ]
  },
  {
   "cell_type": "code",
   "execution_count": 14,
   "id": "044cd34d-3902-4bf3-85d0-fdc30ba6279c",
   "metadata": {},
   "outputs": [
    {
     "name": "stdout",
     "output_type": "stream",
     "text": [
      "120\n"
     ]
    }
   ],
   "source": [
    "s = 1\n",
    "n = 1\n",
    "t = 5\n",
    "while n<=t:\n",
    "    s = n * s\n",
    "    n = n+1\n",
    "    \n",
    "print(s)"
   ]
  },
  {
   "cell_type": "code",
   "execution_count": 17,
   "id": "18c92904-f52a-49a7-b987-a11dee55a649",
   "metadata": {},
   "outputs": [
    {
     "name": "stdin",
     "output_type": "stream",
     "text": [
      "Enter a number for which you are looking for a table 10\n"
     ]
    },
    {
     "name": "stdout",
     "output_type": "stream",
     "text": [
      "10  *  1  =  10\n",
      "10  *  2  =  20\n",
      "10  *  3  =  30\n",
      "10  *  4  =  40\n",
      "10  *  5  =  50\n",
      "10  *  6  =  60\n",
      "10  *  7  =  70\n",
      "10  *  8  =  80\n",
      "10  *  9  =  90\n",
      "10  *  10  =  100\n"
     ]
    }
   ],
   "source": [
    "i = 1\n",
    "n = int(input(\"Enter a number for which you are looking for a table\"))\n",
    "while i<=10:\n",
    "    print(n, ' * ', i , ' = ' , n*i)\n",
    "    i=i+1"
   ]
  },
  {
   "cell_type": "code",
   "execution_count": 21,
   "id": "a7c0f8a3-774b-45e5-b0b2-a898ab107639",
   "metadata": {},
   "outputs": [
    {
     "name": "stdout",
     "output_type": "stream",
     "text": [
      "5\n",
      "4\n",
      "3\n",
      "2\n",
      "1\n",
      "Break is over\n"
     ]
    }
   ],
   "source": [
    "import time\n",
    "t = 5\n",
    "while t>0:\n",
    "    print(t)\n",
    "    time.sleep(1)\n",
    "    t = t-1\n",
    "print(\"Break is over\")\n",
    "    "
   ]
  },
  {
   "cell_type": "code",
   "execution_count": 24,
   "id": "0d4993a3-4b95-4624-93a5-fec7de3482e6",
   "metadata": {},
   "outputs": [
    {
     "name": "stdout",
     "output_type": "stream",
     "text": [
      "20\n"
     ]
    },
    {
     "name": "stdin",
     "output_type": "stream",
     "text": [
      "Enter Your Choice = 1.Biscuit, 2.Chips, 3.Redbull, 4.Coke 1\n"
     ]
    },
    {
     "name": "stdout",
     "output_type": "stream",
     "text": [
      "Take Your Biscuit\n",
      "16\n"
     ]
    },
    {
     "name": "stdin",
     "output_type": "stream",
     "text": [
      "Enter Your Choice = 1.Biscuit, 2.Chips, 3.Redbull, 4.Coke 3\n"
     ]
    },
    {
     "name": "stdout",
     "output_type": "stream",
     "text": [
      "Take Your Redbull\n",
      "6\n"
     ]
    },
    {
     "name": "stdin",
     "output_type": "stream",
     "text": [
      "Enter Your Choice = 1.Biscuit, 2.Chips, 3.Redbull, 4.Coke 4\n"
     ]
    },
    {
     "name": "stdout",
     "output_type": "stream",
     "text": [
      "Take Your Coke\n",
      "You don't have enough balance\n"
     ]
    }
   ],
   "source": [
    "money_in_hand = 20\n",
    "while money_in_hand >= 5:\n",
    "    print(money_in_hand)\n",
    "    choice = int(input(\"Enter Your Choice = 1.Biscuit, 2.Chips, 3.Redbull, 4.Coke\"))\n",
    "    if choice == 1:\n",
    "        print(\"Take Your Biscuit\")\n",
    "        money_in_hand = money_in_hand - 4\n",
    "    elif choice == 2:\n",
    "        print(\"Take Your Chips\")\n",
    "        money_in_hand = money_in_hand - 5\n",
    "    elif choice == 3:\n",
    "        print(\"Take Your Redbull\")\n",
    "        money_in_hand = money_in_hand - 10\n",
    "    elif choice == 4:\n",
    "        print(\"Take Your Coke\")\n",
    "        money_in_hand = money_in_hand - 8\n",
    "    else:\n",
    "        print(\"You have not entered the corret choice\")\n",
    "print(\"You don't have enough balance\")\n",
    "    "
   ]
  },
  {
   "cell_type": "code",
   "execution_count": 25,
   "id": "89c87cd1-787d-4791-8833-5574ac3da735",
   "metadata": {},
   "outputs": [
    {
     "name": "stdout",
     "output_type": "stream",
     "text": [
      "5\n",
      "4\n",
      "3\n",
      "2\n",
      "1\n",
      "Break is over\n"
     ]
    }
   ],
   "source": [
    "import time\n",
    "t = 5\n",
    "while t>0:\n",
    "    print(t)\n",
    "    time.sleep(1)\n",
    "    t = t-1\n",
    "print(\"Break is over\")\n",
    "    "
   ]
  },
  {
   "cell_type": "code",
   "execution_count": 27,
   "id": "070d4c6a-9f9f-49de-bf31-621854c3a032",
   "metadata": {},
   "outputs": [
    {
     "name": "stdout",
     "output_type": "stream",
     "text": [
      "Enter 'S' to stop the timer\n"
     ]
    },
    {
     "name": "stdin",
     "output_type": "stream",
     "text": [
      "Enter 'S' for stop S\n"
     ]
    },
    {
     "name": "stdout",
     "output_type": "stream",
     "text": [
      "Start the class\n"
     ]
    }
   ],
   "source": [
    "import time\n",
    "stop = False\n",
    "while not stop:\n",
    "    print(\"Enter 'S' to stop the timer\")\n",
    "    time.sleep(20)\n",
    "    press_stop = input(\"Enter 'S' for stop\")\n",
    "    \n",
    "    if press_stop.lower() == 's':\n",
    "        stop = True\n",
    "\n",
    "print(\"Start the class\")"
   ]
  },
  {
   "cell_type": "code",
   "execution_count": 30,
   "id": "a942e67d-61ec-4539-9caf-83ad7df07af1",
   "metadata": {},
   "outputs": [
    {
     "name": "stdout",
     "output_type": "stream",
     "text": [
      "10\n"
     ]
    },
    {
     "name": "stdin",
     "output_type": "stream",
     "text": [
      "Enter 'S' for stop 3\n"
     ]
    },
    {
     "name": "stdout",
     "output_type": "stream",
     "text": [
      "Start the class\n"
     ]
    }
   ],
   "source": [
    "import time\n",
    "stop = False\n",
    "s = 10\n",
    "while s>0:\n",
    "    print(s)\n",
    "    time.sleep(1)\n",
    "    i = input(\"Enter 'S' for stop\")\n",
    "    \n",
    "    if i:\n",
    "        break\n",
    "    s-=1\n",
    "\n",
    "print(\"Start the class\")"
   ]
  },
  {
   "cell_type": "code",
   "execution_count": 39,
   "id": "2c6b52bf-183f-4128-91a7-ad3c192c31b3",
   "metadata": {},
   "outputs": [
    {
     "name": "stdin",
     "output_type": "stream",
     "text": [
      "Enter User Id jjj\n"
     ]
    },
    {
     "name": "stdout",
     "output_type": "stream",
     "text": [
      "User Id Incorrect\n"
     ]
    }
   ],
   "source": [
    "user_id = \"bhaskar\"\n",
    "password = \"abc@123\"\n",
    "counter = 1\n",
    "user_id_check = False\n",
    "userid = input(\"Enter User Id\")\n",
    "while counter<=3:\n",
    "    if userid == user_id:\n",
    "        user_id_check = True\n",
    "    else : \n",
    "        print(\"User Id Incorrect\")\n",
    "        break\n",
    "    if user_id_check == True:\n",
    "        pswd = input(\"Enter the password\")\n",
    "        if pswd == password:\n",
    "            print(\"Logged In Successfully\")\n",
    "            break\n",
    "        counter = counter + 1\n",
    "\n",
    "if(counter>3):\n",
    "    print(\"ACCOUNT BLOCKED\")"
   ]
  },
  {
   "cell_type": "code",
   "execution_count": 41,
   "id": "09d6228b-4468-41e3-9332-df0f569dd28d",
   "metadata": {},
   "outputs": [
    {
     "name": "stdin",
     "output_type": "stream",
     "text": [
      "Enter Task class\n",
      "Enter N - DON'T END TODO, Enter Y - END Y\n"
     ]
    },
    {
     "name": "stdout",
     "output_type": "stream",
     "text": [
      "['class']\n"
     ]
    }
   ],
   "source": [
    "todo_list = []\n",
    "end_of_todo = 'n'\n",
    "\n",
    "while end_of_todo.lower() != 'y':\n",
    "    todo_item = input(\"Enter Task\")\n",
    "    add_todo = todo_list.append(todo_item)\n",
    "    end_of_todo = input(\"Enter N - DON'T END TODO, Enter Y - END\")\n",
    "print(todo_list)\n"
   ]
  },
  {
   "cell_type": "code",
   "execution_count": 45,
   "id": "4e7244d6-dd6d-496b-aed1-e48bb316bca2",
   "metadata": {},
   "outputs": [],
   "source": [
    "def fact(n):\n",
    "    if n == 0:\n",
    "        return 1\n",
    "    else:\n",
    "        return n*fact(n-1)\n",
    "        "
   ]
  },
  {
   "cell_type": "code",
   "execution_count": 50,
   "id": "4d1a139c-9188-42d4-a49c-8d84e4c7a608",
   "metadata": {},
   "outputs": [
    {
     "data": {
      "text/plain": [
       "1220136825991110068701238785423046926253574342803192842192413588385845373153881997605496447502203281863013616477148203584163378722078177200480785205159329285477907571939330603772960859086270429174547882424912726344305670173270769461062802310452644218878789465754777149863494367781037644274033827365397471386477878495438489595537537990423241061271326984327745715546309977202781014561081188373709531016356324432987029563896628911658974769572087926928871281780070265174507768410719624390394322536422605234945850129918571501248706961568141625359056693423813008856249246891564126775654481886506593847951775360894005745238940335798476363944905313062323749066445048824665075946735862074637925184200459369692981022263971952597190945217823331756934581508552332820762820023402626907898342451712006207714640979456116127629145951237229913340169552363850942885592018727433795173014586357570828355780158735432768888680120399882384702151467605445407663535984174430480128938313896881639487469658817504506926365338175055478128640000000000000000000000000000000000000000000000000000000000000000000000000000000000000000000000000000000000000000000000000000"
      ]
     },
     "execution_count": 50,
     "metadata": {},
     "output_type": "execute_result"
    }
   ],
   "source": [
    "fact(500)"
   ]
  },
  {
   "cell_type": "code",
   "execution_count": 53,
   "id": "69ab624d-3411-45f1-a9d5-70f93c4fb617",
   "metadata": {},
   "outputs": [],
   "source": [
    "def fib(n):\n",
    "    if n<=1:\n",
    "        return n\n",
    "    else:\n",
    "        return fib(n-2) + fib(n-1)"
   ]
  },
  {
   "cell_type": "code",
   "execution_count": 56,
   "id": "c1cff64a-542f-42ae-b474-f8a99460412c",
   "metadata": {},
   "outputs": [
    {
     "data": {
      "text/plain": [
       "21"
      ]
     },
     "execution_count": 56,
     "metadata": {},
     "output_type": "execute_result"
    }
   ],
   "source": [
    "fib(8)"
   ]
  },
  {
   "cell_type": "code",
   "execution_count": 57,
   "id": "6bb76ae2-43f2-4e47-846b-aa9d2757ed2b",
   "metadata": {},
   "outputs": [],
   "source": [
    "def sum_of_digit(n):\n",
    "    sum = 0\n",
    "    while n!=0:\n",
    "        d=n%10\n",
    "        sum = sum + d\n",
    "        n = n//10\n",
    "    return sum"
   ]
  },
  {
   "cell_type": "code",
   "execution_count": 58,
   "id": "db1bc930-03ea-47a2-934a-4de8bc596a7f",
   "metadata": {},
   "outputs": [
    {
     "data": {
      "text/plain": [
       "6"
      ]
     },
     "execution_count": 58,
     "metadata": {},
     "output_type": "execute_result"
    }
   ],
   "source": [
    "sum_of_digit(123)"
   ]
  },
  {
   "cell_type": "code",
   "execution_count": 59,
   "id": "78c84450-68c1-47f3-adcd-9f414809f667",
   "metadata": {},
   "outputs": [],
   "source": [
    "def dig_sum(n):\n",
    "    sum = 0\n",
    "    for digit in str(n):\n",
    "        sum = sum + int(digit)\n",
    "    return sum"
   ]
  },
  {
   "cell_type": "code",
   "execution_count": 60,
   "id": "88be7f9f-7ca0-4ab3-994c-1b434b1873ad",
   "metadata": {},
   "outputs": [
    {
     "data": {
      "text/plain": [
       "6"
      ]
     },
     "execution_count": 60,
     "metadata": {},
     "output_type": "execute_result"
    }
   ],
   "source": [
    "dig_sum(123)"
   ]
  },
  {
   "cell_type": "code",
   "execution_count": 61,
   "id": "bd2a8c44-da24-4dac-8f39-a367d0993ec9",
   "metadata": {},
   "outputs": [],
   "source": [
    "def sum_digit(n):\n",
    "    if n < 10:\n",
    "        return n\n",
    "    else:\n",
    "        return n % 10 + sum_digit(n//10)\n",
    "        \n",
    "    "
   ]
  },
  {
   "cell_type": "code",
   "execution_count": 62,
   "id": "1d110437-9b6f-4fc0-86e7-b87b0449a69c",
   "metadata": {},
   "outputs": [
    {
     "data": {
      "text/plain": [
       "6"
      ]
     },
     "execution_count": 62,
     "metadata": {},
     "output_type": "execute_result"
    }
   ],
   "source": [
    "sum_digit(123)"
   ]
  },
  {
   "cell_type": "code",
   "execution_count": 63,
   "id": "514abf7f-4d43-40e9-8e48-5534d4e50f28",
   "metadata": {},
   "outputs": [],
   "source": [
    "l = [3,4,5,6,7,76]"
   ]
  },
  {
   "cell_type": "code",
   "execution_count": 64,
   "id": "f2a9ae9b-e071-4c95-888a-62287dc201d0",
   "metadata": {},
   "outputs": [
    {
     "data": {
      "text/plain": [
       "76"
      ]
     },
     "execution_count": 64,
     "metadata": {},
     "output_type": "execute_result"
    }
   ],
   "source": [
    "max(l)"
   ]
  },
  {
   "cell_type": "code",
   "execution_count": 67,
   "id": "356bb086-4e41-4131-a064-389dbd7fa0b2",
   "metadata": {},
   "outputs": [],
   "source": [
    "def max_find(l):\n",
    "    if len(l) == 1:\n",
    "        return l[0]\n",
    "    else:\n",
    "        return max(l[0],max_find(l[1:]))"
   ]
  },
  {
   "cell_type": "code",
   "execution_count": 68,
   "id": "9eabc149-a55b-4d09-a74c-3123e4addfe0",
   "metadata": {},
   "outputs": [
    {
     "data": {
      "text/plain": [
       "76"
      ]
     },
     "execution_count": 68,
     "metadata": {},
     "output_type": "execute_result"
    }
   ],
   "source": [
    "max_find(l)"
   ]
  },
  {
   "cell_type": "code",
   "execution_count": 1,
   "id": "556b757c-5f9e-4657-a702-aa0e57a2db31",
   "metadata": {},
   "outputs": [],
   "source": [
    "def power_fun(n,k):\n",
    "    if k==0:\n",
    "        return 1\n",
    "    else:\n",
    "        return n * power_fun(n, k-1)"
   ]
  },
  {
   "cell_type": "code",
   "execution_count": 2,
   "id": "c7d3f7c5-a34f-4c07-964e-9e16f8f51c96",
   "metadata": {},
   "outputs": [
    {
     "data": {
      "text/plain": [
       "8"
      ]
     },
     "execution_count": 2,
     "metadata": {},
     "output_type": "execute_result"
    }
   ],
   "source": [
    "power_fun(2,3)"
   ]
  },
  {
   "cell_type": "code",
   "execution_count": null,
   "id": "e8e8315a-2f24-4420-a95e-41bab48efda2",
   "metadata": {},
   "outputs": [],
   "source": []
  }
 ],
 "metadata": {
  "kernelspec": {
   "display_name": "Python 3 (ipykernel)",
   "language": "python",
   "name": "python3"
  },
  "language_info": {
   "codemirror_mode": {
    "name": "ipython",
    "version": 3
   },
   "file_extension": ".py",
   "mimetype": "text/x-python",
   "name": "python",
   "nbconvert_exporter": "python",
   "pygments_lexer": "ipython3",
   "version": "3.10.8"
  }
 },
 "nbformat": 4,
 "nbformat_minor": 5
}
