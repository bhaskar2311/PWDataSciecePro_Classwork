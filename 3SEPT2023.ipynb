{
 "cells": [
  {
   "cell_type": "code",
   "execution_count": 2,
   "id": "14220ccf-5cfb-4744-bcb5-fe6c7daba154",
   "metadata": {},
   "outputs": [],
   "source": [
    "a = 10\n",
    "b = 4"
   ]
  },
  {
   "cell_type": "code",
   "execution_count": 8,
   "id": "a9b4160a-7879-4049-aa14-4777b773b276",
   "metadata": {},
   "outputs": [
    {
     "data": {
      "text/plain": [
       "0"
      ]
     },
     "execution_count": 8,
     "metadata": {},
     "output_type": "execute_result"
    }
   ],
   "source": [
    "a & b "
   ]
  },
  {
   "cell_type": "code",
   "execution_count": 3,
   "id": "10b265ee-68e6-48ef-9204-96026c1de842",
   "metadata": {},
   "outputs": [
    {
     "data": {
      "text/plain": [
       "14"
      ]
     },
     "execution_count": 3,
     "metadata": {},
     "output_type": "execute_result"
    }
   ],
   "source": [
    "a | b"
   ]
  },
  {
   "cell_type": "code",
   "execution_count": 4,
   "id": "08e1c655-f76a-4310-b72c-15a01635c64a",
   "metadata": {},
   "outputs": [
    {
     "data": {
      "text/plain": [
       "10"
      ]
     },
     "execution_count": 4,
     "metadata": {},
     "output_type": "execute_result"
    }
   ],
   "source": [
    "a "
   ]
  },
  {
   "cell_type": "code",
   "execution_count": 11,
   "id": "5087ad5d-5e60-4c00-8d2b-c52ed2011ade",
   "metadata": {},
   "outputs": [
    {
     "data": {
      "text/plain": [
       "10"
      ]
     },
     "execution_count": 11,
     "metadata": {},
     "output_type": "execute_result"
    }
   ],
   "source": [
    "a or b"
   ]
  },
  {
   "cell_type": "code",
   "execution_count": 3,
   "id": "c3529793-1d6e-4bb8-9e68-581d7384f8d9",
   "metadata": {},
   "outputs": [
    {
     "data": {
      "text/plain": [
       "14"
      ]
     },
     "execution_count": 3,
     "metadata": {},
     "output_type": "execute_result"
    }
   ],
   "source": [
    "a ^ b"
   ]
  },
  {
   "cell_type": "code",
   "execution_count": 12,
   "id": "3c05860e-8b55-486b-8b49-b7dc86e2af8d",
   "metadata": {},
   "outputs": [
    {
     "data": {
      "text/plain": [
       "-11"
      ]
     },
     "execution_count": 12,
     "metadata": {},
     "output_type": "execute_result"
    }
   ],
   "source": [
    "~ a"
   ]
  },
  {
   "cell_type": "code",
   "execution_count": 13,
   "id": "944c2b48-52a8-4ee2-a51f-96d981d6a7a6",
   "metadata": {},
   "outputs": [
    {
     "data": {
      "text/plain": [
       "-5"
      ]
     },
     "execution_count": 13,
     "metadata": {},
     "output_type": "execute_result"
    }
   ],
   "source": [
    "~b"
   ]
  },
  {
   "cell_type": "code",
   "execution_count": 14,
   "id": "56671920-8f25-4f40-8919-e3eb351dcd23",
   "metadata": {},
   "outputs": [
    {
     "data": {
      "text/plain": [
       "9"
      ]
     },
     "execution_count": 14,
     "metadata": {},
     "output_type": "execute_result"
    }
   ],
   "source": [
    "~-10\n"
   ]
  },
  {
   "cell_type": "code",
   "execution_count": 15,
   "id": "eb2f8276-40ed-4097-b587-2da654d73898",
   "metadata": {},
   "outputs": [
    {
     "data": {
      "text/plain": [
       "20"
      ]
     },
     "execution_count": 15,
     "metadata": {},
     "output_type": "execute_result"
    }
   ],
   "source": [
    "a << 1"
   ]
  },
  {
   "cell_type": "code",
   "execution_count": 16,
   "id": "5b3687ec-497d-44bc-819e-4477453f6423",
   "metadata": {},
   "outputs": [
    {
     "data": {
      "text/plain": [
       "40"
      ]
     },
     "execution_count": 16,
     "metadata": {},
     "output_type": "execute_result"
    }
   ],
   "source": [
    "a << 2"
   ]
  },
  {
   "cell_type": "code",
   "execution_count": 17,
   "id": "8be68f6b-2cba-4e7c-b7dc-b8e74ac1b224",
   "metadata": {},
   "outputs": [
    {
     "data": {
      "text/plain": [
       "80"
      ]
     },
     "execution_count": 17,
     "metadata": {},
     "output_type": "execute_result"
    }
   ],
   "source": [
    "a<<3"
   ]
  },
  {
   "cell_type": "code",
   "execution_count": 18,
   "id": "c380a694-10fe-41cb-8a0d-22a07a0cda18",
   "metadata": {},
   "outputs": [
    {
     "data": {
      "text/plain": [
       "8"
      ]
     },
     "execution_count": 18,
     "metadata": {},
     "output_type": "execute_result"
    }
   ],
   "source": [
    "4<<1\n"
   ]
  },
  {
   "cell_type": "code",
   "execution_count": 19,
   "id": "b5059791-4fa5-4297-8aef-1e5fa133d0d0",
   "metadata": {},
   "outputs": [
    {
     "data": {
      "text/plain": [
       "128"
      ]
     },
     "execution_count": 19,
     "metadata": {},
     "output_type": "execute_result"
    }
   ],
   "source": [
    "4<<5"
   ]
  },
  {
   "cell_type": "code",
   "execution_count": 20,
   "id": "544bac1e-2d8b-4d01-afa8-412fce0b66ae",
   "metadata": {},
   "outputs": [
    {
     "data": {
      "text/plain": [
       "5"
      ]
     },
     "execution_count": 20,
     "metadata": {},
     "output_type": "execute_result"
    }
   ],
   "source": [
    "a>>1\n"
   ]
  },
  {
   "cell_type": "code",
   "execution_count": 21,
   "id": "667bdbe5-40b6-415f-9d5a-3a0a1fedb0f9",
   "metadata": {},
   "outputs": [
    {
     "data": {
      "text/plain": [
       "2"
      ]
     },
     "execution_count": 21,
     "metadata": {},
     "output_type": "execute_result"
    }
   ],
   "source": [
    "a>>2"
   ]
  },
  {
   "cell_type": "code",
   "execution_count": 22,
   "id": "b2d2a72b-65d7-4d14-af14-c82cae802634",
   "metadata": {},
   "outputs": [
    {
     "data": {
      "text/plain": [
       "0"
      ]
     },
     "execution_count": 22,
     "metadata": {},
     "output_type": "execute_result"
    }
   ],
   "source": [
    "a>>55"
   ]
  },
  {
   "cell_type": "code",
   "execution_count": 23,
   "id": "1fc94999-8365-449c-8df3-6043afd6ee59",
   "metadata": {},
   "outputs": [
    {
     "data": {
      "text/plain": [
       "17"
      ]
     },
     "execution_count": 23,
     "metadata": {},
     "output_type": "execute_result"
    }
   ],
   "source": [
    "70>>2"
   ]
  },
  {
   "cell_type": "code",
   "execution_count": 24,
   "id": "a68c0d49-6eb6-4b1a-96ca-527a4c0790c7",
   "metadata": {},
   "outputs": [],
   "source": [
    "age = 17"
   ]
  },
  {
   "cell_type": "code",
   "execution_count": 28,
   "id": "83386b2c-a1e5-4e9b-8307-816fffb43f44",
   "metadata": {},
   "outputs": [
    {
     "name": "stdout",
     "output_type": "stream",
     "text": [
      "You can't\n"
     ]
    }
   ],
   "source": [
    "if age>=18:\n",
    "    print('You can drivr')\n",
    "else:\n",
    "    print(\"You can't\")"
   ]
  },
  {
   "cell_type": "code",
   "execution_count": 37,
   "id": "42f3e092-96c8-49e9-91a7-1ca43c629b2d",
   "metadata": {},
   "outputs": [
    {
     "name": "stdout",
     "output_type": "stream",
     "text": [
      "F\n"
     ]
    }
   ],
   "source": [
    "score = 59\n",
    "\n",
    "if score>=90:\n",
    "    print(\"A+\")\n",
    "elif score>=80:\n",
    "    print(\"A\")\n",
    "elif score>=70:\n",
    "    print(\"B\")\n",
    "elif score>=60:\n",
    "    print(\"C\")\n",
    "else:\n",
    "    print(\"F\")"
   ]
  },
  {
   "cell_type": "code",
   "execution_count": 40,
   "id": "d655ff34-52ec-4613-9ed9-00202170fdd8",
   "metadata": {},
   "outputs": [
    {
     "name": "stdin",
     "output_type": "stream",
     "text": [
      "Please Enter the time 3\n"
     ]
    },
    {
     "name": "stdout",
     "output_type": "stream",
     "text": [
      "Night\n"
     ]
    }
   ],
   "source": [
    "T = int(input(\"Please Enter the time\"))\n",
    "\n",
    "if T==0:\n",
    "    print(\"INVALID\")\n",
    "elif 0<=T<=5:\n",
    "    print(\"Night\")\n",
    "elif 6<=T<=11:\n",
    "    print(\"Morning\")\n",
    "elif 12<=T<=17:\n",
    "    print(\"Afternoon\")\n",
    "elif 18<=T<=23:\n",
    "    print(\"Evening\")\n",
    "else:\n",
    "    print(\"INVALID\")"
   ]
  },
  {
   "cell_type": "code",
   "execution_count": 45,
   "id": "ff5b2f4f-0a6c-4339-9c73-135f5bb4cd9d",
   "metadata": {},
   "outputs": [
    {
     "name": "stdout",
     "output_type": "stream",
     "text": [
      "Large  17\n"
     ]
    }
   ],
   "source": [
    "# FIND THE LARGEST NUMBER FROM 3 GIVEN NUMBERS\n",
    "n1=15\n",
    "n2=17\n",
    "n3=14\n",
    "\n",
    "if(n1>=n2) and (n1>=n3):\n",
    "    print(\"Large \" , n1)\n",
    "elif(n2>=n3):\n",
    "    print(\"Large \" , n2)\n",
    "else:\n",
    "    print(\"Large \" , n3)"
   ]
  },
  {
   "cell_type": "code",
   "execution_count": 52,
   "id": "a202d21c-8188-4614-ab57-1059f27f57a7",
   "metadata": {},
   "outputs": [
    {
     "name": "stdin",
     "output_type": "stream",
     "text": [
      "Enter Number 1 10\n",
      "1:+ , 2:- , 3:* , 4:/ 56\n",
      "Enter Number 2 6666\n"
     ]
    },
    {
     "name": "stdout",
     "output_type": "stream",
     "text": [
      "Invalid Operator\n"
     ]
    }
   ],
   "source": [
    "#CALCULATOR\n",
    "num1 = int(input(\"Enter Number 1\"))\n",
    "sign = int(input(\"1:+ , 2:- , 3:* , 4:/\"))\n",
    "num2 = int(input(\"Enter Number 2\"))\n",
    "\n",
    "if sign==1:\n",
    "    print(num1+num2)\n",
    "elif sign==2:\n",
    "    print(num1-num2)\n",
    "elif sign==3:\n",
    "    print(num1*num2)\n",
    "elif sign==4:\n",
    "    print(num1/num2)\n",
    "else:\n",
    "    print(\"Invalid Operator\")\n"
   ]
  },
  {
   "cell_type": "code",
   "execution_count": 53,
   "id": "51f7eed2-4ed5-41c5-8396-de35ccd328b9",
   "metadata": {},
   "outputs": [
    {
     "data": {
      "text/plain": [
       "range(0, 5)"
      ]
     },
     "execution_count": 53,
     "metadata": {},
     "output_type": "execute_result"
    }
   ],
   "source": [
    "range(5)"
   ]
  },
  {
   "cell_type": "code",
   "execution_count": 54,
   "id": "d3f00e58-eb84-46e6-8581-a75908b10f42",
   "metadata": {},
   "outputs": [
    {
     "data": {
      "text/plain": [
       "[0, 1, 2, 3, 4]"
      ]
     },
     "execution_count": 54,
     "metadata": {},
     "output_type": "execute_result"
    }
   ],
   "source": [
    "list(range(5))"
   ]
  },
  {
   "cell_type": "code",
   "execution_count": 56,
   "id": "f87abca5-1a41-439e-b85a-165f03bb8a22",
   "metadata": {},
   "outputs": [
    {
     "data": {
      "text/plain": [
       "[5, 8, 11, 14, 17, 20]"
      ]
     },
     "execution_count": 56,
     "metadata": {},
     "output_type": "execute_result"
    }
   ],
   "source": [
    "list(range(5,21,3))"
   ]
  },
  {
   "cell_type": "code",
   "execution_count": 58,
   "id": "7da0a1c2-f6b4-4ad3-b7bb-c59226980a37",
   "metadata": {},
   "outputs": [
    {
     "name": "stdout",
     "output_type": "stream",
     "text": [
      "5\n",
      "7\n",
      "9\n",
      "11\n",
      "13\n",
      "15\n",
      "17\n",
      "19\n"
     ]
    }
   ],
   "source": [
    "for i in range(5,20,2):\n",
    "    print(i)"
   ]
  },
  {
   "cell_type": "code",
   "execution_count": 4,
   "id": "a243f8fe-3eba-42cf-909b-c73b15ffd02f",
   "metadata": {},
   "outputs": [
    {
     "name": "stdout",
     "output_type": "stream",
     "text": [
      "0\n",
      "1\n",
      "2\n",
      "3\n",
      "4\n"
     ]
    }
   ],
   "source": [
    "for i in range(5):\n",
    "    print(i)"
   ]
  },
  {
   "cell_type": "code",
   "execution_count": 5,
   "id": "bb764be7-4535-4fd7-b5f0-65ebdb96160f",
   "metadata": {},
   "outputs": [
    {
     "name": "stdout",
     "output_type": "stream",
     "text": [
      "2\n",
      "5\n",
      "8\n"
     ]
    }
   ],
   "source": [
    "for i in range(2,9,3):\n",
    "    print(i)"
   ]
  },
  {
   "cell_type": "code",
   "execution_count": 6,
   "id": "82525dbe-6199-4056-a1b2-3ae6720cbb05",
   "metadata": {},
   "outputs": [
    {
     "name": "stdout",
     "output_type": "stream",
     "text": [
      "* \n",
      "* * \n",
      "* * * \n",
      "* * * * \n",
      "* * * * * \n"
     ]
    }
   ],
   "source": [
    "for i in range(5):\n",
    "    for j in range(i+1):\n",
    "        print(\"*\",end=' ')\n",
    "    print()"
   ]
  },
  {
   "cell_type": "code",
   "execution_count": 7,
   "id": "2750aa9d-97a5-4364-85a2-09603bfa5573",
   "metadata": {},
   "outputs": [
    {
     "name": "stdout",
     "output_type": "stream",
     "text": [
      "* * * * * \n",
      "* * * * \n",
      "* * * \n",
      "* * \n",
      "* \n"
     ]
    }
   ],
   "source": [
    "for i in range(5,0,-1):\n",
    "    for j in range(i,0,-1):\n",
    "        print(\"*\",end=' ')\n",
    "    print()"
   ]
  },
  {
   "cell_type": "code",
   "execution_count": 26,
   "id": "e87b72a3-9271-47b3-8434-488dfa091547",
   "metadata": {},
   "outputs": [
    {
     "name": "stdout",
     "output_type": "stream",
     "text": [
      "1 2 3 4 5 \n",
      "2 4 6 8 10 \n",
      "3 6 9 12 15 \n",
      "4 8 12 16 20 \n",
      "5 10 15 20 25 \n"
     ]
    }
   ],
   "source": [
    "for i in range(5):\n",
    "    for j in range(5):\n",
    "        print((i+1)*(j+1),end=' ')\n",
    "    print()\n",
    "    "
   ]
  },
  {
   "cell_type": "code",
   "execution_count": 27,
   "id": "8b8714f2-7edc-4e89-838c-791556a63773",
   "metadata": {},
   "outputs": [
    {
     "name": "stdout",
     "output_type": "stream",
     "text": [
      "1 2 3 4 5 \n",
      "2 4 6 8 10 \n",
      "3 6 9 12 15 \n",
      "4 8 12 16 20 \n",
      "5 10 15 20 25 \n"
     ]
    }
   ],
   "source": [
    "for i in range(1,6):\n",
    "    for j in range(1,6):\n",
    "        print(i*j,end=' ')\n",
    "    print()\n",
    "    "
   ]
  },
  {
   "cell_type": "code",
   "execution_count": 32,
   "id": "9d549af0-46a4-470c-8497-5ef7cff62215",
   "metadata": {},
   "outputs": [
    {
     "name": "stdout",
     "output_type": "stream",
     "text": [
      "1\n",
      "2\n",
      "3\n",
      "4\n",
      "5\n"
     ]
    }
   ],
   "source": [
    "count = 1\n",
    "\n",
    "while count <=5:\n",
    "    print(count)\n",
    "    count +=1"
   ]
  },
  {
   "cell_type": "code",
   "execution_count": 34,
   "id": "3584824c-05cb-41b0-bc51-4b56bf029c41",
   "metadata": {},
   "outputs": [
    {
     "name": "stdin",
     "output_type": "stream",
     "text": [
      "Enter a word Hello\n"
     ]
    },
    {
     "name": "stdout",
     "output_type": "stream",
     "text": [
      "You Entered :  Hello\n"
     ]
    },
    {
     "name": "stdin",
     "output_type": "stream",
     "text": [
      "Enter a word Bhaskar\n"
     ]
    },
    {
     "name": "stdout",
     "output_type": "stream",
     "text": [
      "You Entered :  Bhaskar\n"
     ]
    },
    {
     "name": "stdin",
     "output_type": "stream",
     "text": [
      "Enter a word How are you\n"
     ]
    },
    {
     "name": "stdout",
     "output_type": "stream",
     "text": [
      "You Entered :  How are you\n"
     ]
    },
    {
     "name": "stdin",
     "output_type": "stream",
     "text": [
      "Enter a word Quit\n"
     ]
    },
    {
     "name": "stdout",
     "output_type": "stream",
     "text": [
      "You Entered :  Quit\n"
     ]
    },
    {
     "name": "stdin",
     "output_type": "stream",
     "text": [
      "Enter a word quit\n"
     ]
    },
    {
     "name": "stdout",
     "output_type": "stream",
     "text": [
      "You Entered :  quit\n"
     ]
    }
   ],
   "source": [
    "text = \" \"\n",
    "\n",
    "while text !=\"quit\":\n",
    "    text=input(\"Enter a word\")\n",
    "    print(\"You Entered : \", text)"
   ]
  },
  {
   "cell_type": "code",
   "execution_count": null,
   "id": "02f62ad0-390b-4b6f-a471-8a14ed7d82d8",
   "metadata": {},
   "outputs": [],
   "source": [
    "l1=[23,22,34,54,98,23]\n",
    "age=0\n",
    "while age not in l1:\n",
    "    age = int(input(\"Enter Your Age \"))\n",
    "    print(\"Age not in the list\")\n",
    "else:\n",
    "    print(\"Congratulations, Age is from the list\")"
   ]
  },
  {
   "cell_type": "code",
   "execution_count": null,
   "id": "6ab3dd14-15b5-4c31-bf25-a581f12ee06c",
   "metadata": {},
   "outputs": [],
   "source": []
  }
 ],
 "metadata": {
  "kernelspec": {
   "display_name": "Python 3 (ipykernel)",
   "language": "python",
   "name": "python3"
  },
  "language_info": {
   "codemirror_mode": {
    "name": "ipython",
    "version": 3
   },
   "file_extension": ".py",
   "mimetype": "text/x-python",
   "name": "python",
   "nbconvert_exporter": "python",
   "pygments_lexer": "ipython3",
   "version": "3.10.8"
  }
 },
 "nbformat": 4,
 "nbformat_minor": 5
}
