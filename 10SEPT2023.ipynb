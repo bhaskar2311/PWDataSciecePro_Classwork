{
 "cells": [
  {
   "cell_type": "code",
   "execution_count": 1,
   "id": "9909597b-1cd9-4ac4-97fb-a1f34fc76f4c",
   "metadata": {},
   "outputs": [],
   "source": [
    "def greet():\n",
    "    message = \"Hello\"\n",
    "    \n",
    "    print(\"Local\",message)"
   ]
  },
  {
   "cell_type": "code",
   "execution_count": 2,
   "id": "e00c583d-16d1-496f-9725-0bf30a002bc4",
   "metadata": {},
   "outputs": [
    {
     "name": "stdout",
     "output_type": "stream",
     "text": [
      "Local Hello\n"
     ]
    }
   ],
   "source": [
    "greet()"
   ]
  },
  {
   "cell_type": "code",
   "execution_count": 3,
   "id": "00429985-24d0-4da7-bc94-c8e017b58c25",
   "metadata": {},
   "outputs": [],
   "source": [
    "def display_info(first_name,last_name):\n",
    "    print(first_name)\n",
    "    print(last_name)"
   ]
  },
  {
   "cell_type": "code",
   "execution_count": 5,
   "id": "c205d77a-2f7c-4a9f-8d10-989461b7766a",
   "metadata": {},
   "outputs": [
    {
     "name": "stdout",
     "output_type": "stream",
     "text": [
      "Bhaskar\n",
      "Kumbhar\n"
     ]
    }
   ],
   "source": [
    "display_info(first_name=\"Bhaskar\",last_name=\"Kumbhar\")"
   ]
  },
  {
   "cell_type": "code",
   "execution_count": 6,
   "id": "e9c28d32-644c-4dc0-a7f0-ad332e6a758d",
   "metadata": {},
   "outputs": [
    {
     "name": "stdout",
     "output_type": "stream",
     "text": [
      "Bhaskar\n",
      "Kumbhar\n"
     ]
    }
   ],
   "source": [
    "display_info(last_name=\"Kumbhar\",first_name=\"Bhaskar\")"
   ]
  },
  {
   "cell_type": "code",
   "execution_count": null,
   "id": "4bad2ea0-2b3d-49bc-9ba3-f241ff190fb8",
   "metadata": {},
   "outputs": [],
   "source": [
    "# *args and **kargs"
   ]
  },
  {
   "cell_type": "code",
   "execution_count": 13,
   "id": "6a5acc28-72d4-4c21-b9e6-f073ec5a2c50",
   "metadata": {},
   "outputs": [],
   "source": [
    "def find_num(*numbers):\n",
    "    result=0\n",
    "    \n",
    "    for num in numbers:\n",
    "        result = result + num\n",
    "    print(\"Sum : \", result)"
   ]
  },
  {
   "cell_type": "code",
   "execution_count": 14,
   "id": "0f0b7d76-4230-4089-8a3f-d9f623ac0c98",
   "metadata": {},
   "outputs": [
    {
     "name": "stdout",
     "output_type": "stream",
     "text": [
      "Sum :  250\n"
     ]
    }
   ],
   "source": [
    "find_num(20,30,200)"
   ]
  },
  {
   "cell_type": "code",
   "execution_count": 29,
   "id": "295ef388-ff45-4296-a3ca-abc5f36f3f70",
   "metadata": {},
   "outputs": [],
   "source": [
    "def intro(**data):\n",
    "    print(\"Data Type of Argument : \" ,type(data))\n",
    "    \n",
    "    for key,value in data.items():\n",
    "        print(key,value)"
   ]
  },
  {
   "cell_type": "code",
   "execution_count": 20,
   "id": "7c8fe9fa-d9d8-45ed-90bc-6661905319b2",
   "metadata": {},
   "outputs": [],
   "source": [
    "x={'a':1,'b':2}"
   ]
  },
  {
   "cell_type": "code",
   "execution_count": 18,
   "id": "66f1d680-30fe-43c2-b61d-8406c8d57fc7",
   "metadata": {},
   "outputs": [
    {
     "name": "stdout",
     "output_type": "stream",
     "text": [
      "a 1\n",
      "b 2\n"
     ]
    }
   ],
   "source": [
    "for keys,value in x.items():\n",
    "    print(keys,value)"
   ]
  },
  {
   "cell_type": "code",
   "execution_count": 30,
   "id": "1722770b-fd92-44ba-9a1a-d6fb827da9bd",
   "metadata": {},
   "outputs": [
    {
     "name": "stdout",
     "output_type": "stream",
     "text": [
      "Data Type of Argument :  <class 'dict'>\n",
      "first Bhaskar\n",
      "last Kumbhar\n"
     ]
    }
   ],
   "source": [
    "intro(first='Bhaskar',last='Kumbhar')"
   ]
  },
  {
   "cell_type": "code",
   "execution_count": 31,
   "id": "ab730f69-6f2b-4613-8c88-cc9df40182ab",
   "metadata": {},
   "outputs": [],
   "source": [
    "def simple(**x):\n",
    "    print(x)"
   ]
  },
  {
   "cell_type": "code",
   "execution_count": 32,
   "id": "35df7413-57c4-40cd-a974-3ab08f28ac19",
   "metadata": {},
   "outputs": [
    {
     "name": "stdout",
     "output_type": "stream",
     "text": [
      "{'name': 'Bhaskar', 'age': 24}\n"
     ]
    }
   ],
   "source": [
    "simple(name='Bhaskar',age=24)"
   ]
  },
  {
   "cell_type": "code",
   "execution_count": 33,
   "id": "0b77a32f-24cc-43d8-ae95-1e28767d2e03",
   "metadata": {},
   "outputs": [],
   "source": [
    "greet = lambda : print(\"Hello World\")"
   ]
  },
  {
   "cell_type": "code",
   "execution_count": 34,
   "id": "b9d49155-c931-493c-897f-6df896a45821",
   "metadata": {},
   "outputs": [
    {
     "name": "stdout",
     "output_type": "stream",
     "text": [
      "Hello World\n"
     ]
    }
   ],
   "source": [
    "greet()"
   ]
  },
  {
   "cell_type": "code",
   "execution_count": 35,
   "id": "5922c718-d380-464e-94ae-b3830a80e8f0",
   "metadata": {},
   "outputs": [],
   "source": [
    "addnum = lambda a,b:a+b"
   ]
  },
  {
   "cell_type": "code",
   "execution_count": 37,
   "id": "a7ace8a6-73eb-4b78-8a50-49da483bda28",
   "metadata": {},
   "outputs": [
    {
     "data": {
      "text/plain": [
       "5"
      ]
     },
     "execution_count": 37,
     "metadata": {},
     "output_type": "execute_result"
    }
   ],
   "source": [
    "addnum(2,3)"
   ]
  },
  {
   "cell_type": "code",
   "execution_count": 38,
   "id": "e4cdfc44-dcf6-499f-af88-bd716788b743",
   "metadata": {},
   "outputs": [],
   "source": [
    "xyz = lambda *num : print(num)"
   ]
  },
  {
   "cell_type": "code",
   "execution_count": 39,
   "id": "7911042e-7c2c-4892-9711-53418c1fce7e",
   "metadata": {},
   "outputs": [
    {
     "name": "stdout",
     "output_type": "stream",
     "text": [
      "(10, 20, 30)\n"
     ]
    }
   ],
   "source": [
    "xyz(10,20,30)"
   ]
  },
  {
   "cell_type": "code",
   "execution_count": 54,
   "id": "80e3c457-9b92-4493-aa9e-97fcd89e08c0",
   "metadata": {},
   "outputs": [],
   "source": [
    "even=lambda a: \"true\" if a%2 == 0 else \"false\""
   ]
  },
  {
   "cell_type": "code",
   "execution_count": 56,
   "id": "4612d571-358f-49ec-b423-111a96974eaa",
   "metadata": {},
   "outputs": [
    {
     "name": "stdin",
     "output_type": "stream",
     "text": [
      "Enter a number 45\n"
     ]
    },
    {
     "data": {
      "text/plain": [
       "'false'"
      ]
     },
     "execution_count": 56,
     "metadata": {},
     "output_type": "execute_result"
    }
   ],
   "source": [
    "a=int(input(\"Enter a number\"))\n",
    "even(a)"
   ]
  },
  {
   "cell_type": "code",
   "execution_count": 58,
   "id": "22ea2fd5-e353-4d6a-af55-547fa2f3561a",
   "metadata": {},
   "outputs": [],
   "source": [
    "great = lambda a,b: print(\"Greatest : \", a) if a>b else print(\"Greatest : \", b)"
   ]
  },
  {
   "cell_type": "code",
   "execution_count": 61,
   "id": "28445dc2-fae5-4561-9f11-20aaf0b2d423",
   "metadata": {},
   "outputs": [
    {
     "name": "stdout",
     "output_type": "stream",
     "text": [
      "Greatest :  444\n"
     ]
    }
   ],
   "source": [
    "great(444,444)"
   ]
  },
  {
   "cell_type": "code",
   "execution_count": 62,
   "id": "3997164d-6d14-4a4a-a346-3084c8e62263",
   "metadata": {},
   "outputs": [],
   "source": [
    "sumofthree = lambda a,b,c:a+b+c"
   ]
  },
  {
   "cell_type": "code",
   "execution_count": 63,
   "id": "e449b389-7997-4ac8-a93e-68e46d8a8abd",
   "metadata": {},
   "outputs": [
    {
     "data": {
      "text/plain": [
       "6"
      ]
     },
     "execution_count": 63,
     "metadata": {},
     "output_type": "execute_result"
    }
   ],
   "source": [
    "sumofthree(1,2,3)"
   ]
  },
  {
   "cell_type": "code",
   "execution_count": 65,
   "id": "7fe8733f-1dbc-48c9-b0b2-d48f40fe9c90",
   "metadata": {},
   "outputs": [],
   "source": [
    "products = [\n",
    "    {'name':'Product1','price':50},\n",
    "    {'name':'Product2','price':40},\n",
    "    {'name':'Product3','price':30},\n",
    "    {'name':'Product4','price':80}\n",
    "]\n",
    "\n",
    "sorted_products = sorted(products,key = lambda x:x['price'])"
   ]
  },
  {
   "cell_type": "code",
   "execution_count": 66,
   "id": "9f38f616-15e3-4ad3-a638-a210986d3837",
   "metadata": {},
   "outputs": [
    {
     "name": "stdout",
     "output_type": "stream",
     "text": [
      "{'name': 'Product3', 'price': 30}\n",
      "{'name': 'Product2', 'price': 40}\n",
      "{'name': 'Product1', 'price': 50}\n",
      "{'name': 'Product4', 'price': 80}\n"
     ]
    }
   ],
   "source": [
    "for i in sorted_products:\n",
    "    print(i)"
   ]
  },
  {
   "cell_type": "code",
   "execution_count": 67,
   "id": "78e89104-6a59-46f3-8c08-f551532296f2",
   "metadata": {},
   "outputs": [
    {
     "data": {
      "text/plain": [
       "[{'name': 'Product3', 'price': 30},\n",
       " {'name': 'Product2', 'price': 40},\n",
       " {'name': 'Product1', 'price': 50},\n",
       " {'name': 'Product4', 'price': 80}]"
      ]
     },
     "execution_count": 67,
     "metadata": {},
     "output_type": "execute_result"
    }
   ],
   "source": [
    "sorted_products"
   ]
  },
  {
   "cell_type": "code",
   "execution_count": 72,
   "id": "e159e604-43c0-46f5-86c2-273384d8319c",
   "metadata": {},
   "outputs": [],
   "source": [
    "vowel = lambda char: \"true\" if (char=='a' or char=='e' or char=='i' or char=='o' or char=='u') else \"false\""
   ]
  },
  {
   "cell_type": "code",
   "execution_count": 81,
   "id": "3fc7e936-14a3-49b2-9cfd-9edcff7f6db0",
   "metadata": {},
   "outputs": [
    {
     "name": "stdin",
     "output_type": "stream",
     "text": [
      "Enter a charactet r\n"
     ]
    },
    {
     "data": {
      "text/plain": [
       "'false'"
      ]
     },
     "execution_count": 81,
     "metadata": {},
     "output_type": "execute_result"
    }
   ],
   "source": [
    "character = input(\"Enter a charactet\")\n",
    "vowel(character)"
   ]
  },
  {
   "cell_type": "code",
   "execution_count": 82,
   "id": "1c52c3d3-6d18-493d-9d4e-509a8ec6cc76",
   "metadata": {},
   "outputs": [],
   "source": [
    "vowel1 = lambda a: \"true\" if a in [\"a\",\"e\",\"i\",\"o\",\"u\"] else \"false\""
   ]
  },
  {
   "cell_type": "code",
   "execution_count": 90,
   "id": "ff7887a9-5e8d-40f1-bfc2-25e2ba924981",
   "metadata": {},
   "outputs": [
    {
     "data": {
      "text/plain": [
       "'false'"
      ]
     },
     "execution_count": 90,
     "metadata": {},
     "output_type": "execute_result"
    }
   ],
   "source": [
    "vowel1('r')"
   ]
  },
  {
   "cell_type": "code",
   "execution_count": 92,
   "id": "b6a37f3d-e620-4886-8681-edc3fc32018d",
   "metadata": {},
   "outputs": [
    {
     "name": "stdin",
     "output_type": "stream",
     "text": [
      "Enter a string:  Bhaskar\n"
     ]
    },
    {
     "data": {
      "text/plain": [
       "['a', 'a']"
      ]
     },
     "execution_count": 92,
     "metadata": {},
     "output_type": "execute_result"
    }
   ],
   "source": [
    "vow = ['a','e','i','o','u','A','E','I','O','U']\n",
    "string = input(\"Enter a string: \")\n",
    "\n",
    "vow_list = [string[i] for i in range(len(string)) if string[i] in vow]\n",
    "vow_list"
   ]
  },
  {
   "cell_type": "code",
   "execution_count": 93,
   "id": "fc2e78aa-0aa7-4c92-956f-7624db3855a2",
   "metadata": {},
   "outputs": [],
   "source": [
    "x=-10"
   ]
  },
  {
   "cell_type": "code",
   "execution_count": 94,
   "id": "d557b8c6-220d-4248-8bfb-3b216a6b255d",
   "metadata": {},
   "outputs": [
    {
     "data": {
      "text/plain": [
       "10"
      ]
     },
     "execution_count": 94,
     "metadata": {},
     "output_type": "execute_result"
    }
   ],
   "source": [
    "abs(x)"
   ]
  },
  {
   "cell_type": "code",
   "execution_count": 95,
   "id": "89caf93d-f77f-4d55-98fe-42a21aa7eec9",
   "metadata": {},
   "outputs": [
    {
     "data": {
      "text/plain": [
       "140039292561168"
      ]
     },
     "execution_count": 95,
     "metadata": {},
     "output_type": "execute_result"
    }
   ],
   "source": [
    "id(x)"
   ]
  },
  {
   "cell_type": "code",
   "execution_count": 96,
   "id": "8d076540-ebaf-4110-b0ae-2c612d216e75",
   "metadata": {},
   "outputs": [],
   "source": [
    "l1=[1,2,3,4,5,6]\n"
   ]
  },
  {
   "cell_type": "code",
   "execution_count": 97,
   "id": "345057c5-6e9b-44aa-a914-4378f9950376",
   "metadata": {},
   "outputs": [
    {
     "data": {
      "text/plain": [
       "6"
      ]
     },
     "execution_count": 97,
     "metadata": {},
     "output_type": "execute_result"
    }
   ],
   "source": [
    "max(l1)"
   ]
  },
  {
   "cell_type": "code",
   "execution_count": 98,
   "id": "50ec783d-8ca6-462b-9690-767bd478cada",
   "metadata": {},
   "outputs": [],
   "source": [
    "language=['python','Java','Javascript']"
   ]
  },
  {
   "cell_type": "code",
   "execution_count": 107,
   "id": "09059986-4d7d-413a-83fc-31caf4b1dc4c",
   "metadata": {},
   "outputs": [],
   "source": [
    "enumerate_prime = enumerate(language,10)"
   ]
  },
  {
   "cell_type": "code",
   "execution_count": 102,
   "id": "d52a2280-da40-45d6-a086-b6bd28133222",
   "metadata": {},
   "outputs": [
    {
     "data": {
      "text/plain": [
       "[(10, 'python'), (11, 'Java'), (12, 'Javascript')]"
      ]
     },
     "execution_count": 102,
     "metadata": {},
     "output_type": "execute_result"
    }
   ],
   "source": [
    "list(enumerate_prime)"
   ]
  },
  {
   "cell_type": "code",
   "execution_count": 109,
   "id": "c3a1b56d-d1a1-4ff7-90f1-15b1710ff9aa",
   "metadata": {},
   "outputs": [],
   "source": [
    "lst=[1,2,3,4,5,6,7,8,9,10]"
   ]
  },
  {
   "cell_type": "code",
   "execution_count": 110,
   "id": "388c9043-1e2f-4986-8184-7e7832fede0c",
   "metadata": {},
   "outputs": [],
   "source": [
    "a=[x for x in lst]"
   ]
  },
  {
   "cell_type": "code",
   "execution_count": 111,
   "id": "26eaaa47-d58b-451f-a9c0-c0afa261a372",
   "metadata": {},
   "outputs": [
    {
     "data": {
      "text/plain": [
       "[1, 2, 3, 4, 5, 6, 7, 8, 9, 10]"
      ]
     },
     "execution_count": 111,
     "metadata": {},
     "output_type": "execute_result"
    }
   ],
   "source": [
    "a"
   ]
  },
  {
   "cell_type": "code",
   "execution_count": 114,
   "id": "465534f2-7e5b-48fe-ab3b-2a7036ef0e31",
   "metadata": {},
   "outputs": [],
   "source": [
    "b=[x+1 for x in lst]"
   ]
  },
  {
   "cell_type": "code",
   "execution_count": 115,
   "id": "0493a47d-cfe2-41fb-b9f5-728468808751",
   "metadata": {},
   "outputs": [
    {
     "data": {
      "text/plain": [
       "[2, 3, 4, 5, 6, 7, 8, 9, 10, 11]"
      ]
     },
     "execution_count": 115,
     "metadata": {},
     "output_type": "execute_result"
    }
   ],
   "source": [
    "b"
   ]
  },
  {
   "cell_type": "code",
   "execution_count": 116,
   "id": "2177c155-7214-47fd-93e2-e2cf293d83ca",
   "metadata": {},
   "outputs": [],
   "source": [
    "c=[x*2 for x in lst]"
   ]
  },
  {
   "cell_type": "code",
   "execution_count": 117,
   "id": "1ba674fc-bfbe-4bd7-bd90-06d4fb6439fb",
   "metadata": {},
   "outputs": [
    {
     "data": {
      "text/plain": [
       "[2, 4, 6, 8, 10, 12, 14, 16, 18, 20]"
      ]
     },
     "execution_count": 117,
     "metadata": {},
     "output_type": "execute_result"
    }
   ],
   "source": [
    "c"
   ]
  },
  {
   "cell_type": "code",
   "execution_count": 118,
   "id": "7c9bd9a3-4259-4fd7-96c2-e9aff76bf32c",
   "metadata": {},
   "outputs": [],
   "source": [
    "d = [x for x in lst if x>4]"
   ]
  },
  {
   "cell_type": "code",
   "execution_count": 119,
   "id": "390921da-6a0e-4757-9260-aaeec132e007",
   "metadata": {},
   "outputs": [
    {
     "data": {
      "text/plain": [
       "[5, 6, 7, 8, 9, 10]"
      ]
     },
     "execution_count": 119,
     "metadata": {},
     "output_type": "execute_result"
    }
   ],
   "source": [
    "d"
   ]
  },
  {
   "cell_type": "code",
   "execution_count": 120,
   "id": "a465cac6-e1ff-46c2-bdae-71f6061e6c82",
   "metadata": {},
   "outputs": [],
   "source": [
    "e = [x for x in lst if x%2==0]"
   ]
  },
  {
   "cell_type": "code",
   "execution_count": 121,
   "id": "66f25c6a-b3c2-4fac-8d5d-8b8b4bf3cb8b",
   "metadata": {},
   "outputs": [
    {
     "data": {
      "text/plain": [
       "[2, 4, 6, 8, 10]"
      ]
     },
     "execution_count": 121,
     "metadata": {},
     "output_type": "execute_result"
    }
   ],
   "source": [
    "e"
   ]
  },
  {
   "cell_type": "code",
   "execution_count": 122,
   "id": "e54fcdec-b4c8-4830-a701-e2c52f2b61d0",
   "metadata": {},
   "outputs": [],
   "source": [
    "f = [x for x in lst if x>4 if x%2==0]"
   ]
  },
  {
   "cell_type": "code",
   "execution_count": 123,
   "id": "0c5c46fa-c4bc-49c2-acb0-523b583c65ed",
   "metadata": {},
   "outputs": [
    {
     "data": {
      "text/plain": [
       "[6, 8, 10]"
      ]
     },
     "execution_count": 123,
     "metadata": {},
     "output_type": "execute_result"
    }
   ],
   "source": [
    "f"
   ]
  },
  {
   "cell_type": "code",
   "execution_count": 124,
   "id": "c1072a43-132a-4940-81fe-b655ddd901d2",
   "metadata": {},
   "outputs": [],
   "source": [
    "g = [x if x>4 else 'Lessthan4' for x in lst]"
   ]
  },
  {
   "cell_type": "code",
   "execution_count": 125,
   "id": "609f928e-cd72-47a0-8a64-d16e8136bf78",
   "metadata": {},
   "outputs": [
    {
     "data": {
      "text/plain": [
       "['Lessthan4', 'Lessthan4', 'Lessthan4', 'Lessthan4', 5, 6, 7, 8, 9, 10]"
      ]
     },
     "execution_count": 125,
     "metadata": {},
     "output_type": "execute_result"
    }
   ],
   "source": [
    "g"
   ]
  },
  {
   "cell_type": "code",
   "execution_count": 127,
   "id": "443d3954-c5f7-4f6f-92f7-f4c48bb15f40",
   "metadata": {},
   "outputs": [],
   "source": [
    "h = ['two' if x%2==0 else 'three' if x%3==0 else 'Not 2 & 3' for x in lst]"
   ]
  },
  {
   "cell_type": "code",
   "execution_count": 128,
   "id": "ddde79a3-e701-4dd1-90b1-a09d3ddd22ec",
   "metadata": {},
   "outputs": [
    {
     "data": {
      "text/plain": [
       "['Not 2 & 3',\n",
       " 'two',\n",
       " 'three',\n",
       " 'two',\n",
       " 'Not 2 & 3',\n",
       " 'two',\n",
       " 'Not 2 & 3',\n",
       " 'two',\n",
       " 'three',\n",
       " 'two']"
      ]
     },
     "execution_count": 128,
     "metadata": {},
     "output_type": "execute_result"
    }
   ],
   "source": [
    "h"
   ]
  },
  {
   "cell_type": "code",
   "execution_count": null,
   "id": "af8f2370-8c76-4f87-9de1-8c71ac937317",
   "metadata": {},
   "outputs": [],
   "source": []
  }
 ],
 "metadata": {
  "kernelspec": {
   "display_name": "Python 3 (ipykernel)",
   "language": "python",
   "name": "python3"
  },
  "language_info": {
   "codemirror_mode": {
    "name": "ipython",
    "version": 3
   },
   "file_extension": ".py",
   "mimetype": "text/x-python",
   "name": "python",
   "nbconvert_exporter": "python",
   "pygments_lexer": "ipython3",
   "version": "3.10.8"
  }
 },
 "nbformat": 4,
 "nbformat_minor": 5
}
