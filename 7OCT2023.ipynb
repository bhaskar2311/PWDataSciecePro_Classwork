{
 "cells": [
  {
   "cell_type": "code",
   "execution_count": 10,
   "id": "4f418ab4-b3d3-498c-9b90-cd35b450bdda",
   "metadata": {},
   "outputs": [],
   "source": [
    "class a:\n",
    "    \n",
    "    def test(self):\n",
    "        print(\"This test method is part of classs 'a'\")\n",
    "    \n",
    "    def test1(self):\n",
    "        print(\"Class A Part\")"
   ]
  },
  {
   "cell_type": "code",
   "execution_count": 11,
   "id": "33d08d46-4292-43c8-b897-c1e5fedc7f4e",
   "metadata": {},
   "outputs": [],
   "source": [
    "obj_a = a()"
   ]
  },
  {
   "cell_type": "code",
   "execution_count": 3,
   "id": "1cfabf9a-527f-4fa9-ae7c-1108d90547f1",
   "metadata": {},
   "outputs": [
    {
     "data": {
      "text/plain": [
       "<__main__.a at 0x7f6fc14769b0>"
      ]
     },
     "execution_count": 3,
     "metadata": {},
     "output_type": "execute_result"
    }
   ],
   "source": [
    "obj_a"
   ]
  },
  {
   "cell_type": "code",
   "execution_count": 4,
   "id": "f7a90625-bd44-4752-8963-f13ce50ffa84",
   "metadata": {},
   "outputs": [
    {
     "name": "stdout",
     "output_type": "stream",
     "text": [
      "This test method is part of classs 'a'\n"
     ]
    }
   ],
   "source": [
    "obj_a.test()"
   ]
  },
  {
   "cell_type": "code",
   "execution_count": 16,
   "id": "c6bb7edc-d04c-4eb9-ba61-dce225bbf0d6",
   "metadata": {},
   "outputs": [],
   "source": [
    "class b(a):\n",
    "    def test1b(self):\n",
    "        print(\"Part of B\")\n",
    "    "
   ]
  },
  {
   "cell_type": "code",
   "execution_count": 17,
   "id": "fb716f07-6680-4747-ac84-0089de63dfa8",
   "metadata": {},
   "outputs": [],
   "source": [
    "obj_b = b()"
   ]
  },
  {
   "cell_type": "code",
   "execution_count": 18,
   "id": "1bc67e1f-0486-4636-a563-dfea6886e468",
   "metadata": {},
   "outputs": [
    {
     "name": "stdout",
     "output_type": "stream",
     "text": [
      "This test method is part of classs 'a'\n"
     ]
    }
   ],
   "source": [
    "obj_b.test()"
   ]
  },
  {
   "cell_type": "code",
   "execution_count": 19,
   "id": "708046bf-9877-4a0d-8c10-a1edf0c0940c",
   "metadata": {},
   "outputs": [
    {
     "name": "stdout",
     "output_type": "stream",
     "text": [
      "Class A Part\n"
     ]
    }
   ],
   "source": [
    "obj_b.test1()"
   ]
  },
  {
   "cell_type": "code",
   "execution_count": 20,
   "id": "a7e95530-b920-420f-8757-fc09e3b0a328",
   "metadata": {},
   "outputs": [
    {
     "name": "stdout",
     "output_type": "stream",
     "text": [
      "Part of B\n"
     ]
    }
   ],
   "source": [
    "obj_b.test1b()"
   ]
  },
  {
   "cell_type": "code",
   "execution_count": 22,
   "id": "8a0f9fe0-d5fc-491f-a384-7de8bcf9562e",
   "metadata": {},
   "outputs": [],
   "source": [
    "class lecture:\n",
    "    def topic(self):\n",
    "        print(\"In today's class, we are discussing about Inheriteance concept in OOPS\")\n",
    "    \n",
    "    def timing(self):\n",
    "        print(\"Timing for today's class is 9 AM IST\")\n",
    "        \n",
    "    def end_time(self):\n",
    "        print(\"Today I will try to end class bit early\")"
   ]
  },
  {
   "cell_type": "code",
   "execution_count": 23,
   "id": "653cd5d2-5e7f-4a0e-96e2-4bd429b28d85",
   "metadata": {},
   "outputs": [],
   "source": [
    "class student(lecture):\n",
    "    def student_details(self):\n",
    "        print(\"This class will give you a student details\")"
   ]
  },
  {
   "cell_type": "code",
   "execution_count": 24,
   "id": "61de89ab-9b02-4429-a961-0ce603fcff31",
   "metadata": {},
   "outputs": [],
   "source": [
    "bhaskar = student()"
   ]
  },
  {
   "cell_type": "code",
   "execution_count": 25,
   "id": "2a213bd5-742e-46ba-83cd-08f58a7f809f",
   "metadata": {},
   "outputs": [
    {
     "name": "stdout",
     "output_type": "stream",
     "text": [
      "In today's class, we are discussing about Inheriteance concept in OOPS\n"
     ]
    }
   ],
   "source": [
    "bhaskar.topic()"
   ]
  },
  {
   "cell_type": "code",
   "execution_count": 26,
   "id": "7adb5140-f61f-4ddb-aee0-101b4bfd6db4",
   "metadata": {},
   "outputs": [
    {
     "name": "stdout",
     "output_type": "stream",
     "text": [
      "Timing for today's class is 9 AM IST\n"
     ]
    }
   ],
   "source": [
    "bhaskar.timing()"
   ]
  },
  {
   "cell_type": "code",
   "execution_count": 27,
   "id": "ef00cbb5-cb17-4f62-9378-93d085c6ee08",
   "metadata": {},
   "outputs": [
    {
     "name": "stdout",
     "output_type": "stream",
     "text": [
      "Today I will try to end class bit early\n"
     ]
    }
   ],
   "source": [
    "bhaskar.end_time()"
   ]
  },
  {
   "cell_type": "code",
   "execution_count": 28,
   "id": "9438029b-865a-4a70-8b20-c92b3dbbc07a",
   "metadata": {},
   "outputs": [
    {
     "name": "stdout",
     "output_type": "stream",
     "text": [
      "This class will give you a student details\n"
     ]
    }
   ],
   "source": [
    "bhaskar.student_details()"
   ]
  },
  {
   "cell_type": "code",
   "execution_count": 30,
   "id": "85e911b6-9534-49e9-9457-05882b1faa05",
   "metadata": {},
   "outputs": [],
   "source": [
    "class teacher(student):\n",
    "    def details(self):\n",
    "        print(\"Teacher Details\")\n",
    "        "
   ]
  },
  {
   "cell_type": "code",
   "execution_count": 31,
   "id": "9f7ae854-ec17-407e-932c-6b1709a4e19d",
   "metadata": {},
   "outputs": [],
   "source": [
    "bsk = teacher()"
   ]
  },
  {
   "cell_type": "code",
   "execution_count": 32,
   "id": "fc246ddd-4233-4840-8fef-857afad812c1",
   "metadata": {},
   "outputs": [
    {
     "name": "stdout",
     "output_type": "stream",
     "text": [
      "In today's class, we are discussing about Inheriteance concept in OOPS\n"
     ]
    }
   ],
   "source": [
    "bsk.topic()"
   ]
  },
  {
   "cell_type": "code",
   "execution_count": 33,
   "id": "f451004c-af3d-4065-ad40-d53ed4d7e65b",
   "metadata": {},
   "outputs": [
    {
     "name": "stdout",
     "output_type": "stream",
     "text": [
      "This class will give you a student details\n"
     ]
    }
   ],
   "source": [
    "bsk.student_details()"
   ]
  },
  {
   "cell_type": "code",
   "execution_count": 34,
   "id": "c90c8239-1cda-4feb-aff7-245c9ee4fc8f",
   "metadata": {},
   "outputs": [
    {
     "name": "stdout",
     "output_type": "stream",
     "text": [
      "Teacher Details\n"
     ]
    }
   ],
   "source": [
    "bsk.details()"
   ]
  },
  {
   "cell_type": "markdown",
   "id": "e360295d-3db2-4806-9850-51d574d23771",
   "metadata": {},
   "source": []
  },
  {
   "cell_type": "code",
   "execution_count": 35,
   "id": "59884998-b081-4388-aa7d-cb84999f2a62",
   "metadata": {},
   "outputs": [],
   "source": [
    "class lecture:\n",
    "    def topic(self):\n",
    "        print(\"In today's class, we are discussing about Inheriteance concept in OOPS\")\n",
    "    \n",
    "    def timing(self):\n",
    "        print(\"Timing for today's class is 9 AM IST\")\n",
    "        \n",
    "    def end_time(self):\n",
    "        print(\"Today I will try to end class bit early\")"
   ]
  },
  {
   "cell_type": "code",
   "execution_count": 36,
   "id": "b1cb9712-2b82-489b-bff1-df33b55179e6",
   "metadata": {},
   "outputs": [],
   "source": [
    "class student:\n",
    "    def student_details(self):\n",
    "        print(\"This class will give you a student details\")"
   ]
  },
  {
   "cell_type": "code",
   "execution_count": 37,
   "id": "31ecc9d5-e5cf-4a2e-8ed1-91e346285d32",
   "metadata": {},
   "outputs": [],
   "source": [
    "class teacher(lecture,student):\n",
    "    def details(self):\n",
    "        print(\"Teacher Details\")\n",
    "        "
   ]
  },
  {
   "cell_type": "code",
   "execution_count": 38,
   "id": "c4cfb5e3-743d-4f8c-9738-7431e63a8b5d",
   "metadata": {},
   "outputs": [],
   "source": [
    "bhaskar_k = teacher()"
   ]
  },
  {
   "cell_type": "code",
   "execution_count": 39,
   "id": "b5384c98-92f3-49e7-baa9-3f60a7e6ba97",
   "metadata": {},
   "outputs": [
    {
     "name": "stdout",
     "output_type": "stream",
     "text": [
      "In today's class, we are discussing about Inheriteance concept in OOPS\n"
     ]
    }
   ],
   "source": [
    "bhaskar_k.topic()"
   ]
  },
  {
   "cell_type": "code",
   "execution_count": 40,
   "id": "cb0d0bdd-8ebe-4ac3-92a4-2babe59f3978",
   "metadata": {},
   "outputs": [
    {
     "name": "stdout",
     "output_type": "stream",
     "text": [
      "This class will give you a student details\n"
     ]
    }
   ],
   "source": [
    "bhaskar_k.student_details()"
   ]
  },
  {
   "cell_type": "code",
   "execution_count": 41,
   "id": "b2012a6e-58ea-4a6d-b32c-870efccaeb27",
   "metadata": {},
   "outputs": [
    {
     "name": "stdout",
     "output_type": "stream",
     "text": [
      "Teacher Details\n"
     ]
    }
   ],
   "source": [
    "bhaskar_k.details()"
   ]
  },
  {
   "cell_type": "code",
   "execution_count": 42,
   "id": "787addbd-83e9-4827-9d8a-e65388d51ed4",
   "metadata": {},
   "outputs": [],
   "source": [
    "class lecture:\n",
    "    def topic(self):\n",
    "        print(\"In today's class, we are discussing about Inheriteance concept in OOPS\")\n",
    "    \n",
    "    def timing(self):\n",
    "        print(\"Timing for today's class is 9 AM IST\")\n",
    "        \n",
    "    def end_time(self):\n",
    "        print(\"Today I will try to end class bit early\")"
   ]
  },
  {
   "cell_type": "code",
   "execution_count": 43,
   "id": "d2685359-3796-4b7f-8f6b-6b5cd3f1ba20",
   "metadata": {},
   "outputs": [],
   "source": [
    "class student:\n",
    "    def student_details(self):\n",
    "        print(\"This class will give you a student details\")\n",
    "        \n",
    "    def timing(self):\n",
    "        print(\"Timing from student class\")"
   ]
  },
  {
   "cell_type": "code",
   "execution_count": 47,
   "id": "3ff703a7-70ad-4776-9c73-33ddd97c54e7",
   "metadata": {},
   "outputs": [],
   "source": [
    "class teacher(lecture,student):\n",
    "    def details(self):\n",
    "        print(\"Teacher Details\")\n",
    "        "
   ]
  },
  {
   "cell_type": "code",
   "execution_count": 48,
   "id": "922ef5d5-2e75-441e-98d3-2a29f246084b",
   "metadata": {},
   "outputs": [],
   "source": [
    "bk = teacher()"
   ]
  },
  {
   "cell_type": "code",
   "execution_count": 49,
   "id": "9bfe922c-6c24-46b3-b1bb-394af083a141",
   "metadata": {},
   "outputs": [
    {
     "name": "stdout",
     "output_type": "stream",
     "text": [
      "Timing for today's class is 9 AM IST\n"
     ]
    }
   ],
   "source": [
    "bk.timing()"
   ]
  },
  {
   "cell_type": "markdown",
   "id": "2d53decd-8a7e-45da-ab97-fd65f1207639",
   "metadata": {},
   "source": [
    "https://github.com/sudh9931/opps_assignment/tree/main"
   ]
  },
  {
   "cell_type": "code",
   "execution_count": null,
   "id": "12ec8542-2b45-4b16-93ce-f8bc47d36e67",
   "metadata": {},
   "outputs": [],
   "source": []
  }
 ],
 "metadata": {
  "kernelspec": {
   "display_name": "Python 3 (ipykernel)",
   "language": "python",
   "name": "python3"
  },
  "language_info": {
   "codemirror_mode": {
    "name": "ipython",
    "version": 3
   },
   "file_extension": ".py",
   "mimetype": "text/x-python",
   "name": "python",
   "nbconvert_exporter": "python",
   "pygments_lexer": "ipython3",
   "version": "3.10.8"
  }
 },
 "nbformat": 4,
 "nbformat_minor": 5
}
