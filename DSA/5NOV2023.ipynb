{
 "cells": [
  {
   "cell_type": "code",
   "execution_count": 2,
   "id": "206462a5-f706-4e64-a87d-d2aca8c3b873",
   "metadata": {},
   "outputs": [
    {
     "name": "stdout",
     "output_type": "stream",
     "text": [
      "15\n"
     ]
    }
   ],
   "source": [
    "##SUM OF THE DIGITS USING RECURSION\n",
    "#METHOD DEFINITION\n",
    "#TIME COMPLEXITY : O(n)   (n indicates number of digits)\n",
    "#SPACE COMPLEXITY : O(n)   (n indicates number of digits)\n",
    "def sum_of_digits(n):\n",
    "    # Base case condtion\n",
    "    if n<10:\n",
    "        return n\n",
    "    else:\n",
    "        #Recursive function call\n",
    "        return n % 10 + sum_of_digits(n//10)\n",
    "    \n",
    "#DRIVER CODE\n",
    "n = 12345\n",
    "result = sum_of_digits(n)\n",
    "print(result)"
   ]
  },
  {
   "cell_type": "code",
   "execution_count": 14,
   "id": "b78418b3-0516-41d8-86ab-7ee5030a902e",
   "metadata": {},
   "outputs": [
    {
     "name": "stdout",
     "output_type": "stream",
     "text": [
      "65536\n"
     ]
    }
   ],
   "source": [
    "#METHOD DEFINITION FOR POWER OF A NUMBER\n",
    "#TIME COMPLEXITY : O(n)\n",
    "#SPACE COMPLEXITY : O(n)\n",
    "def powerOf(a,n):\n",
    "    #BASE CASE CONDITION\n",
    "    if n == 0:\n",
    "        return 1\n",
    "    else:\n",
    "    #RECURSIVE FUNCTION CALL\n",
    "        return a * powerOf(a,n-1)\n",
    "\n",
    "#DRIVER CODE\n",
    "a = 2\n",
    "n = 16\n",
    "result = powerOf(a,n)\n",
    "print(result)"
   ]
  },
  {
   "cell_type": "code",
   "execution_count": 2,
   "id": "82d66490-5821-4d74-a533-7797ad11e1e4",
   "metadata": {},
   "outputs": [
    {
     "name": "stdout",
     "output_type": "stream",
     "text": [
      "131072\n"
     ]
    }
   ],
   "source": [
    "## OPTIMIZED APPROCAH\n",
    "## METHOD DEFINITION\n",
    "## TIME COMPLEXITY : O(log n)\n",
    "## SPACE COMPLEXITY : O(log n)\n",
    "def powerFind(a,n):\n",
    "    #Base case condition\n",
    "    if n == 1:\n",
    "        return a\n",
    "    ##Recursive function calls\n",
    "    else:\n",
    "        mid = n // 2\n",
    "        result = powerFind(a,mid)\n",
    "        finalResult = result * result\n",
    "        \n",
    "        ## Checking whether the value of n is even or odd\n",
    "        if n%2 == 0:\n",
    "            return finalResult\n",
    "        else:\n",
    "            return a * finalResult\n",
    "        \n",
    "\n",
    "## DRIVER CODE\n",
    "a = 2\n",
    "n = 17\n",
    "result = powerFind(a,n)\n",
    "print(result)"
   ]
  },
  {
   "cell_type": "raw",
   "id": "c8b34b78-779a-4f8e-a15a-14268d38bd60",
   "metadata": {},
   "source": [
    "https://leetcode.com/problems/powx-n/description/"
   ]
  },
  {
   "cell_type": "code",
   "execution_count": null,
   "id": "378c1004-c302-42de-8dd0-d310cee2b076",
   "metadata": {},
   "outputs": [],
   "source": []
  }
 ],
 "metadata": {
  "kernelspec": {
   "display_name": "Python 3 (ipykernel)",
   "language": "python",
   "name": "python3"
  },
  "language_info": {
   "codemirror_mode": {
    "name": "ipython",
    "version": 3
   },
   "file_extension": ".py",
   "mimetype": "text/x-python",
   "name": "python",
   "nbconvert_exporter": "python",
   "pygments_lexer": "ipython3",
   "version": "3.10.8"
  }
 },
 "nbformat": 4,
 "nbformat_minor": 5
}
