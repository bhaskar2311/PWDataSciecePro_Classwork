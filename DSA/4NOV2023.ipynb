{
 "cells": [
  {
   "cell_type": "code",
   "execution_count": 45,
   "id": "0bfaa5fc-cd5b-46d0-8d26-a08b85012cc6",
   "metadata": {},
   "outputs": [
    {
     "name": "stdout",
     "output_type": "stream",
     "text": [
      "120\n"
     ]
    }
   ],
   "source": [
    "#Factorial of a given number\n",
    "#Method definition via the recursion\n",
    "\n",
    "#Time complexity : O(n)\n",
    "#Space complexity : O(n) This is because it is storing the recursive calls for function in the stack data structure\n",
    "\n",
    "def fact(n):\n",
    "    # Base case condtion\n",
    "    if n <= 1:\n",
    "        return 1\n",
    "    \n",
    "    # Recursive call\n",
    "    else:\n",
    "        return n * fact(n-1)\n",
    "      \n",
    "\n",
    "## Driver Code\n",
    "n = 5\n",
    "result = fact(n)\n",
    "print(result)"
   ]
  },
  {
   "cell_type": "code",
   "execution_count": 49,
   "id": "0f86de6c-53d2-4f5f-97bc-fd33a0d72d03",
   "metadata": {},
   "outputs": [
    {
     "name": "stdout",
     "output_type": "stream",
     "text": [
      "13\n"
     ]
    }
   ],
   "source": [
    "# Fibonacci Series\n",
    "# Method definition via the recursion\n",
    "# Time Complexity : O(2^n) \n",
    "# Space complexity : O(n) This is because it is storing the recursive calls for function in the stack data structure\n",
    "\n",
    "def fibonacci(n):\n",
    "    if n<=1:\n",
    "        return n\n",
    "    else:\n",
    "        return fibonacci(n-1) + fibonacci(n-2)\n",
    "    \n",
    "#Driver Code\n",
    "n = 7\n",
    "result = fibonacci(n)\n",
    "print(result)"
   ]
  },
  {
   "cell_type": "raw",
   "id": "347db8bc-f18b-43eb-979e-2ece46acb017",
   "metadata": {},
   "source": [
    "You are climbing a staircase. It takes n steps to reach the top.\n",
    "\n",
    "Each time you can either climb 1 or 2 steps. In how many distinct ways can you climb to the top?\n",
    "\n",
    "Example 1:\n",
    "\n",
    "Input: n = 2\n",
    "Output: 2\n",
    "Explanation: There are two ways to climb to the top.\n",
    "1. 1 step + 1 step\n",
    "2. 2 steps\n",
    "Example 2:\n",
    "\n",
    "Input: n = 3\n",
    "Output: 3\n",
    "Explanation: There are three ways to climb to the top.\n",
    "1. 1 step + 1 step + 1 step\n",
    "2. 1 step + 2 steps\n",
    "3. 2 steps + 1 step\n",
    " \n",
    "\n",
    "Constraints:\n",
    "\n",
    "1 <= n <= 45\n",
    "\n",
    "My Answer:\n",
    "n = 4\n",
    "1+1+1+1\n",
    "1+1+2\n",
    "1+2+1\n",
    "2+1+1\n",
    "2+2\n",
    "means 5 ways\n",
    "\n",
    "so 1,2,3,5,8,...   So this is just like the fibonacci but the base case in 3"
   ]
  },
  {
   "cell_type": "code",
   "execution_count": 74,
   "id": "df64cc99-81cb-4d0d-b5d8-81d08ea72a89",
   "metadata": {},
   "outputs": [
    {
     "name": "stdout",
     "output_type": "stream",
     "text": [
      "8\n"
     ]
    }
   ],
   "source": [
    "#Climbing Stairs Problem\n",
    "## This solution was not accepted on the leetcode even though answer was right. The reason behind that it time limit is exceeding.\n",
    "\n",
    "# Time Complexity : O(2^n)\n",
    "# Space complexity : O(n) This is because it is storing the recursive calls for function in the stack data structure\n",
    "\n",
    "def climbStairs(n):\n",
    "    if n<=3:\n",
    "        return n\n",
    "    ##Here you don't need to write the else part\n",
    "    return climbStairs(n-1) + climbStairs(n-2)\n",
    "       \n",
    "## Driver Code\n",
    "n = 5\n",
    "result = climbStairs(n)\n",
    "print(result)\n"
   ]
  },
  {
   "cell_type": "code",
   "execution_count": 73,
   "id": "c2580369-ba26-4a44-b8d3-eeafa18cd864",
   "metadata": {},
   "outputs": [
    {
     "name": "stdout",
     "output_type": "stream",
     "text": [
      "8\n"
     ]
    }
   ],
   "source": [
    "##THIS CODE WORKS PERFECTLY :)\n",
    "#Time Complexity : O(n)\n",
    "#Space Complexity : O(1)\n",
    "\n",
    "def climbStairs(n):\n",
    "    if n <= 3:\n",
    "        return n\n",
    "    else:\n",
    "        first = 2\n",
    "        second = 3\n",
    "        for i in range(4,n+1):\n",
    "            third = first + second\n",
    "            first = second\n",
    "            second = third\n",
    "        return third\n",
    "    \n",
    "## Driver Code\n",
    "n = 5\n",
    "result = climbStairs(n)\n",
    "print(result)"
   ]
  },
  {
   "cell_type": "code",
   "execution_count": null,
   "id": "d6a1af73-b020-4d9d-9454-53761e2d916a",
   "metadata": {},
   "outputs": [],
   "source": []
  }
 ],
 "metadata": {
  "kernelspec": {
   "display_name": "Python 3 (ipykernel)",
   "language": "python",
   "name": "python3"
  },
  "language_info": {
   "codemirror_mode": {
    "name": "ipython",
    "version": 3
   },
   "file_extension": ".py",
   "mimetype": "text/x-python",
   "name": "python",
   "nbconvert_exporter": "python",
   "pygments_lexer": "ipython3",
   "version": "3.10.8"
  }
 },
 "nbformat": 4,
 "nbformat_minor": 5
}
