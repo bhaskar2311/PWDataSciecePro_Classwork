{
 "cells": [
  {
   "cell_type": "raw",
   "id": "c330d58f-2049-4636-a9f0-21c901b3cd3b",
   "metadata": {},
   "source": [
    "ARRAYS - DSA"
   ]
  },
  {
   "cell_type": "code",
   "execution_count": 45,
   "id": "471cf59b-2916-407a-a483-8644d7f96593",
   "metadata": {},
   "outputs": [
    {
     "name": "stdout",
     "output_type": "stream",
     "text": [
      "282\n"
     ]
    }
   ],
   "source": [
    "## METHOD DEFINITION OF THE SUM FUNCTION\n",
    "# Time Complexity : O(n)\n",
    "# Space Complexity : O(1)\n",
    "\n",
    "def summation(arr):\n",
    "    n = len(arr)\n",
    "    sumVal = 0\n",
    "    for i in range(n):\n",
    "        sumVal = sumVal + arr[i]    #sumVal += arr[i]\n",
    "    return sumVal\n",
    "        \n",
    "## DRIVER CODE\n",
    "arr = [23, 34, 64, 12, 25, 56, 68]\n",
    "result = summation(arr)\n",
    "print(result)"
   ]
  },
  {
   "cell_type": "code",
   "execution_count": 7,
   "id": "a121b2d4-06c0-4243-bec1-9208bd6c26a5",
   "metadata": {},
   "outputs": [],
   "source": [
    "# Built in functions you have discussed in the list session are available in the array as well\n",
    "arr = [23, 34, 64, 78, 89]\n",
    "arr.insert(1,24)"
   ]
  },
  {
   "cell_type": "code",
   "execution_count": 8,
   "id": "b93ffd6f-8749-4fcc-a937-27838c4e73aa",
   "metadata": {},
   "outputs": [
    {
     "data": {
      "text/plain": [
       "[23, 24, 34, 64, 78, 89]"
      ]
     },
     "execution_count": 8,
     "metadata": {},
     "output_type": "execute_result"
    }
   ],
   "source": [
    "arr"
   ]
  },
  {
   "cell_type": "code",
   "execution_count": 9,
   "id": "7a153509-dbc2-427e-8823-aab1fc181b2d",
   "metadata": {},
   "outputs": [],
   "source": [
    "arr.remove(24)"
   ]
  },
  {
   "cell_type": "code",
   "execution_count": 10,
   "id": "af9f2946-813b-489d-bc86-cd6b9621a1d2",
   "metadata": {},
   "outputs": [
    {
     "data": {
      "text/plain": [
       "[23, 34, 64, 78, 89]"
      ]
     },
     "execution_count": 10,
     "metadata": {},
     "output_type": "execute_result"
    }
   ],
   "source": [
    "arr"
   ]
  },
  {
   "cell_type": "raw",
   "id": "10b023c8-7da8-49c2-882c-98bbfd1c1722",
   "metadata": {},
   "source": [
    "SEARCHING ALGORITHMS"
   ]
  },
  {
   "cell_type": "code",
   "execution_count": 27,
   "id": "30d97aed-8fde-4519-954a-88d574d3b9a0",
   "metadata": {},
   "outputs": [
    {
     "name": "stdout",
     "output_type": "stream",
     "text": [
      "7\n"
     ]
    }
   ],
   "source": [
    "# Linear Search Algorithm\n",
    "# FUNCTION\n",
    "# Time Complexity : O(n)\n",
    "# Space Complexity : O(1)\n",
    "\n",
    "def linearSearch(arr, target):\n",
    "    n = len(arr)\n",
    "    for i in range(n):\n",
    "        if arr[i] == target:\n",
    "            return i\n",
    "    return -1   # Print -1 [It indicates that the target value for the searching is not available in the array] \n",
    "\t\n",
    "#Driver Code\n",
    "arr = [12, 14, 16, 18, 11, 22, 26, 29]\n",
    "target = 29\n",
    "result = linearSearch(arr, target)\n",
    "print(result)"
   ]
  },
  {
   "cell_type": "code",
   "execution_count": 31,
   "id": "572812bf-82ee-4374-b479-25ac9284c8e7",
   "metadata": {},
   "outputs": [
    {
     "name": "stdout",
     "output_type": "stream",
     "text": [
      "([2, 18, 22], [5, 11, 13, 15])\n"
     ]
    }
   ],
   "source": [
    "# arr = [2, 5, 11, 13, 15, 18, 22]\n",
    "## Even and Odd array containing even number and odd number\n",
    "# Time Complexity : O(n)\n",
    "# Space Complexity : O(n)\n",
    "\n",
    "## We are creating an external data structure i.e. LIST to store the even and odd values, hence space complexity is O(n)\n",
    "even = []\n",
    "odd = []\n",
    "\n",
    "def evenAndOdd(arr):\n",
    "    for i in arr:\n",
    "        if i%2 == 0:\n",
    "            even.append(i)\n",
    "        else:\n",
    "            odd.append(i)\n",
    "    return even, odd\n",
    "    \n",
    "#Driver Code\n",
    "arr = [2, 5, 11, 13, 15, 18, 22]\n",
    "print(evenAndOdd(arr))"
   ]
  },
  {
   "cell_type": "code",
   "execution_count": 46,
   "id": "c0f81214-1c57-4a61-9740-42c5b7e00792",
   "metadata": {},
   "outputs": [
    {
     "name": "stdout",
     "output_type": "stream",
     "text": [
      "Primary Diagonal Sum:  32\n",
      "Secondary Diagonal Sum:  31\n"
     ]
    }
   ],
   "source": [
    "#Function Definition\n",
    "# Time Complexity : O(n^2)\n",
    "# Space Complexity : O(1)\n",
    "\n",
    "def printDiagonalSum(arr):\n",
    "    n = len(arr)\n",
    "    \n",
    "    primaryDiagonalSum = 0\n",
    "    secondaryDiagonalSum = 0\n",
    "    \n",
    "    for i in range(n):\n",
    "        for j in range(n):\n",
    "            ## Condition to get the elements of Primary Diagonal\n",
    "            if i == j:\n",
    "                primaryDiagonalSum = primaryDiagonalSum + arr[i][j]\n",
    "                \n",
    "            ## Condition to get the elements of Primary Diagonal\n",
    "            if i+j == n-1:\n",
    "                secondaryDiagonalSum = secondaryDiagonalSum + arr[i][j]\n",
    "                \n",
    "    print(\"Primary Diagonal Sum: \",primaryDiagonalSum)\n",
    "    print(\"Secondary Diagonal Sum: \",secondaryDiagonalSum)\n",
    "    \n",
    "\n",
    "## DRIVER CODE FOR 2-D ARRAY\n",
    "arr = [[2,4,6], [8,11,13], [14,17,19]]\n",
    "#Function Calling\n",
    "printDiagonalSum(arr)"
   ]
  },
  {
   "cell_type": "code",
   "execution_count": null,
   "id": "95fb7df7-e492-42de-8e19-4ffe4a232f30",
   "metadata": {},
   "outputs": [],
   "source": []
  },
  {
   "cell_type": "code",
   "execution_count": null,
   "id": "05a5e47e-04f8-4751-abb7-bbdaddda95a4",
   "metadata": {},
   "outputs": [],
   "source": []
  }
 ],
 "metadata": {
  "kernelspec": {
   "display_name": "Python 3 (ipykernel)",
   "language": "python",
   "name": "python3"
  },
  "language_info": {
   "codemirror_mode": {
    "name": "ipython",
    "version": 3
   },
   "file_extension": ".py",
   "mimetype": "text/x-python",
   "name": "python",
   "nbconvert_exporter": "python",
   "pygments_lexer": "ipython3",
   "version": "3.10.8"
  }
 },
 "nbformat": 4,
 "nbformat_minor": 5
}
